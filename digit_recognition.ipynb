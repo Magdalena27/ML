{
 "cells": [
  {
   "cell_type": "markdown",
   "metadata": {},
   "source": [
    "# Metody reprezentacji i klasyfikacji danych\n",
    "_________________________________\n",
    "\n",
    "\n",
    "### Projekt \n",
    "\n",
    "Autorzy: \n",
    "- Magdalena Jaśkiewicz 233968\n",
    "- Anna Wieteska 234013\n",
    "- Marcelina Matuszewska 233986\n"
   ]
  },
  {
   "cell_type": "markdown",
   "metadata": {},
   "source": [
    "# Ogólny opis badań\n",
    "_______________________________\n",
    "<div style=\"text-align: justify\">\n",
    "Celem projektu jest napisanie programu potrafiącego rozpoznawanie narysowanych przez użytkownika cyfr. Przedmiotem badań jest zbiór danych pochodzący z modułu sklearn.datasets, który zawiera narzędzie do importu zestawów danych. Jest to zbiór danych ręcznie pisanych cyfr składający się z 1797 próbek. Wyodrębnić można 10 klas, są to liczby od 0 do 9. Liczebność próbek w poszczególnych klasach wynosi około 180. Każdy atrybut to intensywność jednego piksela obrazu 8 x 8. Projekt składa się z: eksploracji danych, czyszczenia danych, doboru cech i reprezentacji oraz doboru algorytmów. Dobór klasyfikatora jest oparty na porównaniu kilku algorytmów i wyborze najskuteczniejszego. W celu testowania wykorzystano bibliotekę TKinter umożlwiająca tworzenie interfejsu graficznego poprzez rysowanie własnych cyfr przez użytkownika, która umożliwi ich klasyfikację. </div>"
   ]
  },
  {
   "cell_type": "code",
   "execution_count": 1,
   "metadata": {},
   "outputs": [
    {
     "name": "stdout",
     "output_type": "stream",
     "text": [
      "Requirement already satisfied: Pillow in c:\\users\\ryzen\\anaconda3\\lib\\site-packages (7.0.0)\n",
      "Note: you may need to restart the kernel to use updated packages.\n"
     ]
    }
   ],
   "source": [
    "pip install Pillow"
   ]
  },
  {
   "cell_type": "code",
   "execution_count": 1,
   "metadata": {},
   "outputs": [],
   "source": [
    "# Import potrzebnych bibliotek\n",
    "import PIL\n",
    "import tracemalloc\n",
    "import matplotlib.pyplot as plt\n",
    "import pandas as pd\n",
    "import numpy as np\n",
    "import seaborn as sn\n",
    "from sklearn import datasets\n",
    "from sklearn.model_selection import train_test_split\n",
    "from tkinter import*\n",
    "from PIL import  ImageTk, ImageDraw\n",
    "from sklearn.neighbors import NearestCentroid\n",
    "from sklearn.neighbors import KNeighborsClassifier\n",
    "from sklearn.linear_model import LogisticRegression\n",
    "from sklearn.svm import SVC\n",
    "from sklearn import metrics\n",
    "from sklearn.metrics import accuracy_score\n",
    "from sklearn.metrics import confusion_matrix, plot_confusion_matrix\n",
    "from sklearn import decomposition\n",
    "from sklearn.decomposition import PCA\n",
    "from sklearn.model_selection import GridSearchCV\n",
    "import re\n",
    "from sklearn.dummy import DummyClassifier"
   ]
  },
  {
   "cell_type": "code",
   "execution_count": 2,
   "metadata": {},
   "outputs": [],
   "source": [
    "# Wczytywanie danych\n",
    "digits = datasets.load_digits()"
   ]
  },
  {
   "cell_type": "markdown",
   "metadata": {},
   "source": [
    "# Eksploracyjna analiza danych"
   ]
  },
  {
   "cell_type": "code",
   "execution_count": 3,
   "metadata": {},
   "outputs": [
    {
     "data": {
      "text/plain": [
       "(1797, 64)"
      ]
     },
     "execution_count": 3,
     "metadata": {},
     "output_type": "execute_result"
    }
   ],
   "source": [
    "#Podział danych na zmienną zależną (y) i niezależną (X)\n",
    "X = digits.data\n",
    "y = digits.target\n",
    "X.shape"
   ]
  },
  {
   "cell_type": "code",
   "execution_count": 4,
   "metadata": {},
   "outputs": [
    {
     "data": {
      "text/html": [
       "<div>\n",
       "<style scoped>\n",
       "    .dataframe tbody tr th:only-of-type {\n",
       "        vertical-align: middle;\n",
       "    }\n",
       "\n",
       "    .dataframe tbody tr th {\n",
       "        vertical-align: top;\n",
       "    }\n",
       "\n",
       "    .dataframe thead th {\n",
       "        text-align: right;\n",
       "    }\n",
       "</style>\n",
       "<table border=\"1\" class=\"dataframe\">\n",
       "  <thead>\n",
       "    <tr style=\"text-align: right;\">\n",
       "      <th></th>\n",
       "      <th>0</th>\n",
       "      <th>1</th>\n",
       "      <th>2</th>\n",
       "      <th>3</th>\n",
       "      <th>4</th>\n",
       "      <th>5</th>\n",
       "      <th>6</th>\n",
       "      <th>7</th>\n",
       "      <th>8</th>\n",
       "      <th>9</th>\n",
       "      <th>...</th>\n",
       "      <th>55</th>\n",
       "      <th>56</th>\n",
       "      <th>57</th>\n",
       "      <th>58</th>\n",
       "      <th>59</th>\n",
       "      <th>60</th>\n",
       "      <th>61</th>\n",
       "      <th>62</th>\n",
       "      <th>63</th>\n",
       "      <th>64</th>\n",
       "    </tr>\n",
       "  </thead>\n",
       "  <tbody>\n",
       "    <tr>\n",
       "      <th>0</th>\n",
       "      <td>0.0</td>\n",
       "      <td>0.0</td>\n",
       "      <td>0.0</td>\n",
       "      <td>5.0</td>\n",
       "      <td>13.0</td>\n",
       "      <td>9.0</td>\n",
       "      <td>1.0</td>\n",
       "      <td>0.0</td>\n",
       "      <td>0.0</td>\n",
       "      <td>0.0</td>\n",
       "      <td>...</td>\n",
       "      <td>0.0</td>\n",
       "      <td>0.0</td>\n",
       "      <td>0.0</td>\n",
       "      <td>0.0</td>\n",
       "      <td>6.0</td>\n",
       "      <td>13.0</td>\n",
       "      <td>10.0</td>\n",
       "      <td>0.0</td>\n",
       "      <td>0.0</td>\n",
       "      <td>0.0</td>\n",
       "    </tr>\n",
       "    <tr>\n",
       "      <th>1</th>\n",
       "      <td>1.0</td>\n",
       "      <td>0.0</td>\n",
       "      <td>0.0</td>\n",
       "      <td>0.0</td>\n",
       "      <td>12.0</td>\n",
       "      <td>13.0</td>\n",
       "      <td>5.0</td>\n",
       "      <td>0.0</td>\n",
       "      <td>0.0</td>\n",
       "      <td>0.0</td>\n",
       "      <td>...</td>\n",
       "      <td>0.0</td>\n",
       "      <td>0.0</td>\n",
       "      <td>0.0</td>\n",
       "      <td>0.0</td>\n",
       "      <td>0.0</td>\n",
       "      <td>11.0</td>\n",
       "      <td>16.0</td>\n",
       "      <td>10.0</td>\n",
       "      <td>0.0</td>\n",
       "      <td>0.0</td>\n",
       "    </tr>\n",
       "    <tr>\n",
       "      <th>2</th>\n",
       "      <td>2.0</td>\n",
       "      <td>0.0</td>\n",
       "      <td>0.0</td>\n",
       "      <td>0.0</td>\n",
       "      <td>4.0</td>\n",
       "      <td>15.0</td>\n",
       "      <td>12.0</td>\n",
       "      <td>0.0</td>\n",
       "      <td>0.0</td>\n",
       "      <td>0.0</td>\n",
       "      <td>...</td>\n",
       "      <td>5.0</td>\n",
       "      <td>0.0</td>\n",
       "      <td>0.0</td>\n",
       "      <td>0.0</td>\n",
       "      <td>0.0</td>\n",
       "      <td>3.0</td>\n",
       "      <td>11.0</td>\n",
       "      <td>16.0</td>\n",
       "      <td>9.0</td>\n",
       "      <td>0.0</td>\n",
       "    </tr>\n",
       "    <tr>\n",
       "      <th>3</th>\n",
       "      <td>3.0</td>\n",
       "      <td>0.0</td>\n",
       "      <td>0.0</td>\n",
       "      <td>7.0</td>\n",
       "      <td>15.0</td>\n",
       "      <td>13.0</td>\n",
       "      <td>1.0</td>\n",
       "      <td>0.0</td>\n",
       "      <td>0.0</td>\n",
       "      <td>0.0</td>\n",
       "      <td>...</td>\n",
       "      <td>9.0</td>\n",
       "      <td>0.0</td>\n",
       "      <td>0.0</td>\n",
       "      <td>0.0</td>\n",
       "      <td>7.0</td>\n",
       "      <td>13.0</td>\n",
       "      <td>13.0</td>\n",
       "      <td>9.0</td>\n",
       "      <td>0.0</td>\n",
       "      <td>0.0</td>\n",
       "    </tr>\n",
       "    <tr>\n",
       "      <th>4</th>\n",
       "      <td>4.0</td>\n",
       "      <td>0.0</td>\n",
       "      <td>0.0</td>\n",
       "      <td>0.0</td>\n",
       "      <td>1.0</td>\n",
       "      <td>11.0</td>\n",
       "      <td>0.0</td>\n",
       "      <td>0.0</td>\n",
       "      <td>0.0</td>\n",
       "      <td>0.0</td>\n",
       "      <td>...</td>\n",
       "      <td>0.0</td>\n",
       "      <td>0.0</td>\n",
       "      <td>0.0</td>\n",
       "      <td>0.0</td>\n",
       "      <td>0.0</td>\n",
       "      <td>2.0</td>\n",
       "      <td>16.0</td>\n",
       "      <td>4.0</td>\n",
       "      <td>0.0</td>\n",
       "      <td>0.0</td>\n",
       "    </tr>\n",
       "  </tbody>\n",
       "</table>\n",
       "<p>5 rows × 65 columns</p>\n",
       "</div>"
      ],
      "text/plain": [
       "    0    1    2    3     4     5     6    7    8    9   ...   55   56   57  \\\n",
       "0  0.0  0.0  0.0  5.0  13.0   9.0   1.0  0.0  0.0  0.0  ...  0.0  0.0  0.0   \n",
       "1  1.0  0.0  0.0  0.0  12.0  13.0   5.0  0.0  0.0  0.0  ...  0.0  0.0  0.0   \n",
       "2  2.0  0.0  0.0  0.0   4.0  15.0  12.0  0.0  0.0  0.0  ...  5.0  0.0  0.0   \n",
       "3  3.0  0.0  0.0  7.0  15.0  13.0   1.0  0.0  0.0  0.0  ...  9.0  0.0  0.0   \n",
       "4  4.0  0.0  0.0  0.0   1.0  11.0   0.0  0.0  0.0  0.0  ...  0.0  0.0  0.0   \n",
       "\n",
       "    58   59    60    61    62   63   64  \n",
       "0  0.0  6.0  13.0  10.0   0.0  0.0  0.0  \n",
       "1  0.0  0.0  11.0  16.0  10.0  0.0  0.0  \n",
       "2  0.0  0.0   3.0  11.0  16.0  9.0  0.0  \n",
       "3  0.0  7.0  13.0  13.0   9.0  0.0  0.0  \n",
       "4  0.0  0.0   2.0  16.0   4.0  0.0  0.0  \n",
       "\n",
       "[5 rows x 65 columns]"
      ]
     },
     "execution_count": 4,
     "metadata": {},
     "output_type": "execute_result"
    }
   ],
   "source": [
    "#Tworzenie dataframe\n",
    "df = pd.DataFrame(np.c_[digits['target'], digits['data']])\n",
    "df.head()"
   ]
  },
  {
   "cell_type": "code",
   "execution_count": 5,
   "metadata": {},
   "outputs": [
    {
     "data": {
      "text/html": [
       "<div>\n",
       "<style scoped>\n",
       "    .dataframe tbody tr th:only-of-type {\n",
       "        vertical-align: middle;\n",
       "    }\n",
       "\n",
       "    .dataframe tbody tr th {\n",
       "        vertical-align: top;\n",
       "    }\n",
       "\n",
       "    .dataframe thead th {\n",
       "        text-align: right;\n",
       "    }\n",
       "</style>\n",
       "<table border=\"1\" class=\"dataframe\">\n",
       "  <thead>\n",
       "    <tr style=\"text-align: right;\">\n",
       "      <th></th>\n",
       "      <th>0</th>\n",
       "      <th>1</th>\n",
       "      <th>2</th>\n",
       "      <th>3</th>\n",
       "      <th>4</th>\n",
       "      <th>5</th>\n",
       "      <th>6</th>\n",
       "      <th>7</th>\n",
       "      <th>8</th>\n",
       "      <th>9</th>\n",
       "      <th>...</th>\n",
       "      <th>55</th>\n",
       "      <th>56</th>\n",
       "      <th>57</th>\n",
       "      <th>58</th>\n",
       "      <th>59</th>\n",
       "      <th>60</th>\n",
       "      <th>61</th>\n",
       "      <th>62</th>\n",
       "      <th>63</th>\n",
       "      <th>64</th>\n",
       "    </tr>\n",
       "  </thead>\n",
       "  <tbody>\n",
       "    <tr>\n",
       "      <th>count</th>\n",
       "      <td>1797.000000</td>\n",
       "      <td>1797.0</td>\n",
       "      <td>1797.000000</td>\n",
       "      <td>1797.000000</td>\n",
       "      <td>1797.000000</td>\n",
       "      <td>1797.000000</td>\n",
       "      <td>1797.000000</td>\n",
       "      <td>1797.000000</td>\n",
       "      <td>1797.000000</td>\n",
       "      <td>1797.000000</td>\n",
       "      <td>...</td>\n",
       "      <td>1797.000000</td>\n",
       "      <td>1797.000000</td>\n",
       "      <td>1797.000000</td>\n",
       "      <td>1797.000000</td>\n",
       "      <td>1797.000000</td>\n",
       "      <td>1797.000000</td>\n",
       "      <td>1797.000000</td>\n",
       "      <td>1797.000000</td>\n",
       "      <td>1797.000000</td>\n",
       "      <td>1797.000000</td>\n",
       "    </tr>\n",
       "    <tr>\n",
       "      <th>mean</th>\n",
       "      <td>4.490818</td>\n",
       "      <td>0.0</td>\n",
       "      <td>0.303840</td>\n",
       "      <td>5.204786</td>\n",
       "      <td>11.835838</td>\n",
       "      <td>11.848080</td>\n",
       "      <td>5.781859</td>\n",
       "      <td>1.362270</td>\n",
       "      <td>0.129661</td>\n",
       "      <td>0.005565</td>\n",
       "      <td>...</td>\n",
       "      <td>3.725097</td>\n",
       "      <td>0.206455</td>\n",
       "      <td>0.000556</td>\n",
       "      <td>0.279354</td>\n",
       "      <td>5.557596</td>\n",
       "      <td>12.089037</td>\n",
       "      <td>11.809126</td>\n",
       "      <td>6.764051</td>\n",
       "      <td>2.067891</td>\n",
       "      <td>0.364496</td>\n",
       "    </tr>\n",
       "    <tr>\n",
       "      <th>std</th>\n",
       "      <td>2.865304</td>\n",
       "      <td>0.0</td>\n",
       "      <td>0.907192</td>\n",
       "      <td>4.754826</td>\n",
       "      <td>4.248842</td>\n",
       "      <td>4.287388</td>\n",
       "      <td>5.666418</td>\n",
       "      <td>3.325775</td>\n",
       "      <td>1.037383</td>\n",
       "      <td>0.094222</td>\n",
       "      <td>...</td>\n",
       "      <td>4.919406</td>\n",
       "      <td>0.984401</td>\n",
       "      <td>0.023590</td>\n",
       "      <td>0.934302</td>\n",
       "      <td>5.103019</td>\n",
       "      <td>4.374694</td>\n",
       "      <td>4.933947</td>\n",
       "      <td>5.900623</td>\n",
       "      <td>4.090548</td>\n",
       "      <td>1.860122</td>\n",
       "    </tr>\n",
       "    <tr>\n",
       "      <th>min</th>\n",
       "      <td>0.000000</td>\n",
       "      <td>0.0</td>\n",
       "      <td>0.000000</td>\n",
       "      <td>0.000000</td>\n",
       "      <td>0.000000</td>\n",
       "      <td>0.000000</td>\n",
       "      <td>0.000000</td>\n",
       "      <td>0.000000</td>\n",
       "      <td>0.000000</td>\n",
       "      <td>0.000000</td>\n",
       "      <td>...</td>\n",
       "      <td>0.000000</td>\n",
       "      <td>0.000000</td>\n",
       "      <td>0.000000</td>\n",
       "      <td>0.000000</td>\n",
       "      <td>0.000000</td>\n",
       "      <td>0.000000</td>\n",
       "      <td>0.000000</td>\n",
       "      <td>0.000000</td>\n",
       "      <td>0.000000</td>\n",
       "      <td>0.000000</td>\n",
       "    </tr>\n",
       "    <tr>\n",
       "      <th>25%</th>\n",
       "      <td>2.000000</td>\n",
       "      <td>0.0</td>\n",
       "      <td>0.000000</td>\n",
       "      <td>1.000000</td>\n",
       "      <td>10.000000</td>\n",
       "      <td>10.000000</td>\n",
       "      <td>0.000000</td>\n",
       "      <td>0.000000</td>\n",
       "      <td>0.000000</td>\n",
       "      <td>0.000000</td>\n",
       "      <td>...</td>\n",
       "      <td>0.000000</td>\n",
       "      <td>0.000000</td>\n",
       "      <td>0.000000</td>\n",
       "      <td>0.000000</td>\n",
       "      <td>1.000000</td>\n",
       "      <td>11.000000</td>\n",
       "      <td>10.000000</td>\n",
       "      <td>0.000000</td>\n",
       "      <td>0.000000</td>\n",
       "      <td>0.000000</td>\n",
       "    </tr>\n",
       "    <tr>\n",
       "      <th>50%</th>\n",
       "      <td>4.000000</td>\n",
       "      <td>0.0</td>\n",
       "      <td>0.000000</td>\n",
       "      <td>4.000000</td>\n",
       "      <td>13.000000</td>\n",
       "      <td>13.000000</td>\n",
       "      <td>4.000000</td>\n",
       "      <td>0.000000</td>\n",
       "      <td>0.000000</td>\n",
       "      <td>0.000000</td>\n",
       "      <td>...</td>\n",
       "      <td>1.000000</td>\n",
       "      <td>0.000000</td>\n",
       "      <td>0.000000</td>\n",
       "      <td>0.000000</td>\n",
       "      <td>4.000000</td>\n",
       "      <td>13.000000</td>\n",
       "      <td>14.000000</td>\n",
       "      <td>6.000000</td>\n",
       "      <td>0.000000</td>\n",
       "      <td>0.000000</td>\n",
       "    </tr>\n",
       "    <tr>\n",
       "      <th>75%</th>\n",
       "      <td>7.000000</td>\n",
       "      <td>0.0</td>\n",
       "      <td>0.000000</td>\n",
       "      <td>9.000000</td>\n",
       "      <td>15.000000</td>\n",
       "      <td>15.000000</td>\n",
       "      <td>11.000000</td>\n",
       "      <td>0.000000</td>\n",
       "      <td>0.000000</td>\n",
       "      <td>0.000000</td>\n",
       "      <td>...</td>\n",
       "      <td>7.000000</td>\n",
       "      <td>0.000000</td>\n",
       "      <td>0.000000</td>\n",
       "      <td>0.000000</td>\n",
       "      <td>10.000000</td>\n",
       "      <td>16.000000</td>\n",
       "      <td>16.000000</td>\n",
       "      <td>12.000000</td>\n",
       "      <td>2.000000</td>\n",
       "      <td>0.000000</td>\n",
       "    </tr>\n",
       "    <tr>\n",
       "      <th>max</th>\n",
       "      <td>9.000000</td>\n",
       "      <td>0.0</td>\n",
       "      <td>8.000000</td>\n",
       "      <td>16.000000</td>\n",
       "      <td>16.000000</td>\n",
       "      <td>16.000000</td>\n",
       "      <td>16.000000</td>\n",
       "      <td>16.000000</td>\n",
       "      <td>15.000000</td>\n",
       "      <td>2.000000</td>\n",
       "      <td>...</td>\n",
       "      <td>16.000000</td>\n",
       "      <td>13.000000</td>\n",
       "      <td>1.000000</td>\n",
       "      <td>9.000000</td>\n",
       "      <td>16.000000</td>\n",
       "      <td>16.000000</td>\n",
       "      <td>16.000000</td>\n",
       "      <td>16.000000</td>\n",
       "      <td>16.000000</td>\n",
       "      <td>16.000000</td>\n",
       "    </tr>\n",
       "  </tbody>\n",
       "</table>\n",
       "<p>8 rows × 65 columns</p>\n",
       "</div>"
      ],
      "text/plain": [
       "                0       1            2            3            4   \\\n",
       "count  1797.000000  1797.0  1797.000000  1797.000000  1797.000000   \n",
       "mean      4.490818     0.0     0.303840     5.204786    11.835838   \n",
       "std       2.865304     0.0     0.907192     4.754826     4.248842   \n",
       "min       0.000000     0.0     0.000000     0.000000     0.000000   \n",
       "25%       2.000000     0.0     0.000000     1.000000    10.000000   \n",
       "50%       4.000000     0.0     0.000000     4.000000    13.000000   \n",
       "75%       7.000000     0.0     0.000000     9.000000    15.000000   \n",
       "max       9.000000     0.0     8.000000    16.000000    16.000000   \n",
       "\n",
       "                5            6            7            8            9   ...  \\\n",
       "count  1797.000000  1797.000000  1797.000000  1797.000000  1797.000000  ...   \n",
       "mean     11.848080     5.781859     1.362270     0.129661     0.005565  ...   \n",
       "std       4.287388     5.666418     3.325775     1.037383     0.094222  ...   \n",
       "min       0.000000     0.000000     0.000000     0.000000     0.000000  ...   \n",
       "25%      10.000000     0.000000     0.000000     0.000000     0.000000  ...   \n",
       "50%      13.000000     4.000000     0.000000     0.000000     0.000000  ...   \n",
       "75%      15.000000    11.000000     0.000000     0.000000     0.000000  ...   \n",
       "max      16.000000    16.000000    16.000000    15.000000     2.000000  ...   \n",
       "\n",
       "                55           56           57           58           59  \\\n",
       "count  1797.000000  1797.000000  1797.000000  1797.000000  1797.000000   \n",
       "mean      3.725097     0.206455     0.000556     0.279354     5.557596   \n",
       "std       4.919406     0.984401     0.023590     0.934302     5.103019   \n",
       "min       0.000000     0.000000     0.000000     0.000000     0.000000   \n",
       "25%       0.000000     0.000000     0.000000     0.000000     1.000000   \n",
       "50%       1.000000     0.000000     0.000000     0.000000     4.000000   \n",
       "75%       7.000000     0.000000     0.000000     0.000000    10.000000   \n",
       "max      16.000000    13.000000     1.000000     9.000000    16.000000   \n",
       "\n",
       "                60           61           62           63           64  \n",
       "count  1797.000000  1797.000000  1797.000000  1797.000000  1797.000000  \n",
       "mean     12.089037    11.809126     6.764051     2.067891     0.364496  \n",
       "std       4.374694     4.933947     5.900623     4.090548     1.860122  \n",
       "min       0.000000     0.000000     0.000000     0.000000     0.000000  \n",
       "25%      11.000000    10.000000     0.000000     0.000000     0.000000  \n",
       "50%      13.000000    14.000000     6.000000     0.000000     0.000000  \n",
       "75%      16.000000    16.000000    12.000000     2.000000     0.000000  \n",
       "max      16.000000    16.000000    16.000000    16.000000    16.000000  \n",
       "\n",
       "[8 rows x 65 columns]"
      ]
     },
     "execution_count": 5,
     "metadata": {},
     "output_type": "execute_result"
    }
   ],
   "source": [
    "df.describe()"
   ]
  },
  {
   "cell_type": "code",
   "execution_count": 6,
   "metadata": {},
   "outputs": [
    {
     "name": "stdout",
     "output_type": "stream",
     "text": [
      "Klasy:  [0 1 2 3 4 5 6 7 8 9]\n",
      "Liczba klas:  10\n"
     ]
    }
   ],
   "source": [
    "# Sprawdzenie liczby klas\n",
    "classes = digits.target_names\n",
    "print(\"Klasy: \", classes)\n",
    "print(\"Liczba klas: \", len(classes))"
   ]
  },
  {
   "cell_type": "code",
   "execution_count": 7,
   "metadata": {},
   "outputs": [
    {
     "name": "stdout",
     "output_type": "stream",
     "text": [
      "Liczba wszystkich próbek: 1797\n"
     ]
    }
   ],
   "source": [
    "#Liczba wszystkich próbek\n",
    "n_total_samples = len(digits.images)\n",
    "print(\"Liczba wszystkich próbek:\", n_total_samples)"
   ]
  },
  {
   "cell_type": "code",
   "execution_count": 8,
   "metadata": {},
   "outputs": [
    {
     "name": "stdout",
     "output_type": "stream",
     "text": [
      "Liczba próbek klasy 0:  178\n",
      "Liczba próbek klasy 1:  182\n",
      "Liczba próbek klasy 2:  177\n",
      "Liczba próbek klasy 3:  183\n",
      "Liczba próbek klasy 4:  181\n",
      "Liczba próbek klasy 5:  182\n",
      "Liczba próbek klasy 6:  181\n",
      "Liczba próbek klasy 7:  179\n",
      "Liczba próbek klasy 8:  174\n",
      "Liczba próbek klasy 9:  180\n"
     ]
    }
   ],
   "source": [
    "#Liczba próbek w danej klasie\n",
    "print(\"Liczba próbek klasy 0: \", len(X[y==0]))\n",
    "print(\"Liczba próbek klasy 1: \", len(X[y==1]))\n",
    "print(\"Liczba próbek klasy 2: \", len(X[y==2]))\n",
    "print(\"Liczba próbek klasy 3: \", len(X[y==3]))\n",
    "print(\"Liczba próbek klasy 4: \", len(X[y==4]))\n",
    "print(\"Liczba próbek klasy 5: \", len(X[y==5]))\n",
    "print(\"Liczba próbek klasy 6: \", len(X[y==6]))\n",
    "print(\"Liczba próbek klasy 7: \", len(X[y==7]))\n",
    "print(\"Liczba próbek klasy 8: \", len(X[y==8]))\n",
    "print(\"Liczba próbek klasy 9: \", len(X[y==9]))"
   ]
  },
  {
   "cell_type": "code",
   "execution_count": 9,
   "metadata": {},
   "outputs": [],
   "source": [
    "summary_of_class_quantity = df[0].value_counts()"
   ]
  },
  {
   "cell_type": "code",
   "execution_count": 10,
   "metadata": {},
   "outputs": [
    {
     "data": {
      "image/png": "[encoded data removed]",
      "text/plain": [
       "<Figure size 432x288 with 1 Axes>"
      ]
     },
     "metadata": {},
     "output_type": "display_data"
    }
   ],
   "source": [
    "# Wykres kołowy procentowej zawartości próbek każdej z klas w zbiorze\n",
    "pie_labels = [3, 5, 1, 6, 4, 9, 7, 0, 2, 8]\n",
    "explode_pie = (0.1, 0.1, 0.1, 0.1, 0.1, 0.1, 0.1, 0.1, 0.1, 0.1)\n",
    "colors = [\"#fc0303\", \"#fc8c03\", \"#fcf403\", \"#9dfc03\", \"#03fce3\", \"#03bafc\", \"#1803fc\", \"#a903fc\", \"#fc03eb\", \"#000000\"]\n",
    "\n",
    "plt.pie(summary_of_class_quantity, explode=explode_pie, labels=pie_labels, labeldistance=None, autopct='%1.1f%%', pctdistance=1.1, colors=colors, shadow=True, radius=2.5)\n",
    "plt.legend()\n",
    "plt.show()"
   ]
  },
  {
   "cell_type": "markdown",
   "metadata": {},
   "source": [
    "<p><div style=\"text-align: justify\"><strong>Wniosek:</strong> Ilość próbek każdej z klas jest bardzo podobna, co powinno pomóc w prawidłwej klasyfikacji."
   ]
  },
  {
   "cell_type": "code",
   "execution_count": 11,
   "metadata": {},
   "outputs": [
    {
     "name": "stdout",
     "output_type": "stream",
     "text": [
      "(1797, 8, 8)\n",
      "(1797, 64)\n"
     ]
    }
   ],
   "source": [
    "#Wymiary obrazu\n",
    "print(digits.images.shape)\n",
    "print(digits.data.shape)"
   ]
  },
  {
   "cell_type": "code",
   "execution_count": 12,
   "metadata": {},
   "outputs": [
    {
     "data": {
      "image/png": "[encoded data removed]",
      "text/plain": [
       "<Figure size 432x288 with 1 Axes>"
      ]
     },
     "metadata": {
      "needs_background": "light"
     },
     "output_type": "display_data"
    },
    {
     "data": {
      "image/png": "[encoded data removed]",
      "text/plain": [
       "<Figure size 432x288 with 1 Axes>"
      ]
     },
     "metadata": {
      "needs_background": "light"
     },
     "output_type": "display_data"
    },
    {
     "data": {
      "image/png": "[encoded data removed]",
      "text/plain": [
       "<Figure size 432x288 with 1 Axes>"
      ]
     },
     "metadata": {
      "needs_background": "light"
     },
     "output_type": "display_data"
    },
    {
     "data": {
      "image/png": "[encoded data removed]",
      "text/plain": [
       "<Figure size 432x288 with 1 Axes>"
      ]
     },
     "metadata": {
      "needs_background": "light"
     },
     "output_type": "display_data"
    },
    {
     "data": {
      "image/png": "[encoded data removed]",
      "text/plain": [
       "<Figure size 432x288 with 1 Axes>"
      ]
     },
     "metadata": {
      "needs_background": "light"
     },
     "output_type": "display_data"
    },
    {
     "data": {
      "image/png": "[encoded data removed]",
      "text/plain": [
       "<Figure size 432x288 with 1 Axes>"
      ]
     },
     "metadata": {
      "needs_background": "light"
     },
     "output_type": "display_data"
    },
    {
     "data": {
      "image/png": "[encoded data removed]",
      "text/plain": [
       "<Figure size 432x288 with 1 Axes>"
      ]
     },
     "metadata": {
      "needs_background": "light"
     },
     "output_type": "display_data"
    },
    {
     "data": {
      "image/png": "[encoded data removed]",
      "text/plain": [
       "<Figure size 432x288 with 1 Axes>"
      ]
     },
     "metadata": {
      "needs_background": "light"
     },
     "output_type": "display_data"
    },
    {
     "data": {
      "image/png": "[encoded data removed]",
      "text/plain": [
       "<Figure size 432x288 with 1 Axes>"
      ]
     },
     "metadata": {
      "needs_background": "light"
     },
     "output_type": "display_data"
    },
    {
     "data": {
      "image/png": "[encoded data removed]",
      "text/plain": [
       "<Figure size 432x288 with 1 Axes>"
      ]
     },
     "metadata": {
      "needs_background": "light"
     },
     "output_type": "display_data"
    }
   ],
   "source": [
    "#Wizualizacja cyfr\n",
    "for i in range(10):\n",
    "    plt.imshow(digits.images[i], cmap=plt.cm.gray_r, interpolation='nearest')\n",
    "    plt.show()"
   ]
  },
  {
   "cell_type": "code",
   "execution_count": 13,
   "metadata": {},
   "outputs": [],
   "source": [
    "#Tworzenie zbioru testowego i treningowego (zbiór testowy stanowi 30%) ~numpy array\n",
    "X_train, X_test, y_train, y_test = train_test_split(X,y, test_size = 0.3, random_state=42, stratify=y)"
   ]
  },
  {
   "cell_type": "code",
   "execution_count": 14,
   "metadata": {},
   "outputs": [],
   "source": [
    "def normalizuj(x) :\n",
    "    return (x - x.min(axis=1)[:,None]) / (x.max(axis=1)[:,None] - x.min(axis=1)[:,None] )\n",
    "\n",
    "X_train_normalized = normalizuj(X_train)\n",
    "X_test_normalized = normalizuj(X_test)"
   ]
  },
  {
   "cell_type": "code",
   "execution_count": 15,
   "metadata": {},
   "outputs": [
    {
     "name": "stdout",
     "output_type": "stream",
     "text": [
      "1.0\n",
      "1.0\n"
     ]
    }
   ],
   "source": [
    "print(X_train_normalized.max())\n",
    "print(X_test_normalized.max())"
   ]
  },
  {
   "cell_type": "code",
   "execution_count": 16,
   "metadata": {},
   "outputs": [
    {
     "data": {
      "image/png": "[encoded data removed]",
      "text/plain": [
       "<Figure size 432x288 with 10 Axes>"
      ]
     },
     "metadata": {},
     "output_type": "display_data"
    }
   ],
   "source": [
    "# Wizualizacja obrazów ze zbioru treningowego\n",
    "fig, ax = plt.subplots(nrows=2, ncols=5, sharex=True, sharey=True)\n",
    "ax = ax.flatten()\n",
    "for i in range(10):\n",
    "    img = X_train_normalized[y_train == i][0].reshape(8, 8)\n",
    "    ax[i].imshow(img, cmap='Greys')\n",
    "ax[0].set_xticks([])\n",
    "ax[0].set_yticks([])\n",
    "plt.tight_layout()"
   ]
  },
  {
   "cell_type": "markdown",
   "metadata": {},
   "source": [
    "<p><div style=\"text-align: justify\"><strong>Wnioski:</strong> Każdy z obrazów to kwadrat 8x8 pikseli. Dane zawarte w digits.data oznaczją intensywność piksela obrazu."
   ]
  },
  {
   "cell_type": "code",
   "execution_count": 17,
   "metadata": {},
   "outputs": [
    {
     "data": {
      "image/png": "[encoded data removed]",
      "text/plain": [
       "<Figure size 432x288 with 15 Axes>"
      ]
     },
     "metadata": {},
     "output_type": "display_data"
    }
   ],
   "source": [
    "# Wizualizacja różnych odmian cyfry 1\n",
    "fig2, ax2 = plt.subplots(nrows=3, ncols=5, sharex=True, sharey=True)\n",
    "ax2 = ax2.flatten()\n",
    "for i in range(15):\n",
    "    img = X_train_normalized[y_train == 1][i].reshape(8, 8)\n",
    "    ax2[i].imshow(img, cmap='Greys')\n",
    "ax2[0].set_xticks([])\n",
    "ax2[0].set_yticks([])\n",
    "plt.tight_layout()"
   ]
  },
  {
   "cell_type": "markdown",
   "metadata": {},
   "source": [
    "# Czyszczenie danych"
   ]
  },
  {
   "cell_type": "code",
   "execution_count": 18,
   "metadata": {},
   "outputs": [
    {
     "data": {
      "text/plain": [
       "False"
      ]
     },
     "execution_count": 18,
     "metadata": {},
     "output_type": "execute_result"
    }
   ],
   "source": [
    "#Zwrócenie wartości boolowskiej - sprawdzenie czy w kolumnie znajdują się jakiekolwiek brakujące wartości\n",
    "missing_summary = df.isnull().values.any()  \n",
    "missing_summary"
   ]
  },
  {
   "cell_type": "code",
   "execution_count": 19,
   "metadata": {},
   "outputs": [
    {
     "data": {
      "text/plain": [
       "0     0.0\n",
       "1     0.0\n",
       "2     0.0\n",
       "3     0.0\n",
       "4     0.0\n",
       "     ... \n",
       "60    0.0\n",
       "61    0.0\n",
       "62    0.0\n",
       "63    0.0\n",
       "64    0.0\n",
       "Length: 65, dtype: float64"
      ]
     },
     "execution_count": 19,
     "metadata": {},
     "output_type": "execute_result"
    }
   ],
   "source": [
    "# Znalezienie procentu wartości zerowych we wszystkich kolumnach \n",
    "percentage_null = df.isnull().mean() * 100 \n",
    "percentage_null "
   ]
  },
  {
   "cell_type": "markdown",
   "metadata": {},
   "source": [
    "Wniosek: W zbiorze nie znajdują się brakujące wartości. "
   ]
  },
  {
   "cell_type": "code",
   "execution_count": 20,
   "metadata": {},
   "outputs": [
    {
     "name": "stdout",
     "output_type": "stream",
     "text": [
      "<class 'pandas.core.frame.DataFrame'>\n",
      "RangeIndex: 1797 entries, 0 to 1796\n",
      "Data columns (total 65 columns):\n",
      " #   Column  Non-Null Count  Dtype  \n",
      "---  ------  --------------  -----  \n",
      " 0   0       1797 non-null   float64\n",
      " 1   1       1797 non-null   float64\n",
      " 2   2       1797 non-null   float64\n",
      " 3   3       1797 non-null   float64\n",
      " 4   4       1797 non-null   float64\n",
      " 5   5       1797 non-null   float64\n",
      " 6   6       1797 non-null   float64\n",
      " 7   7       1797 non-null   float64\n",
      " 8   8       1797 non-null   float64\n",
      " 9   9       1797 non-null   float64\n",
      " 10  10      1797 non-null   float64\n",
      " 11  11      1797 non-null   float64\n",
      " 12  12      1797 non-null   float64\n",
      " 13  13      1797 non-null   float64\n",
      " 14  14      1797 non-null   float64\n",
      " 15  15      1797 non-null   float64\n",
      " 16  16      1797 non-null   float64\n",
      " 17  17      1797 non-null   float64\n",
      " 18  18      1797 non-null   float64\n",
      " 19  19      1797 non-null   float64\n",
      " 20  20      1797 non-null   float64\n",
      " 21  21      1797 non-null   float64\n",
      " 22  22      1797 non-null   float64\n",
      " 23  23      1797 non-null   float64\n",
      " 24  24      1797 non-null   float64\n",
      " 25  25      1797 non-null   float64\n",
      " 26  26      1797 non-null   float64\n",
      " 27  27      1797 non-null   float64\n",
      " 28  28      1797 non-null   float64\n",
      " 29  29      1797 non-null   float64\n",
      " 30  30      1797 non-null   float64\n",
      " 31  31      1797 non-null   float64\n",
      " 32  32      1797 non-null   float64\n",
      " 33  33      1797 non-null   float64\n",
      " 34  34      1797 non-null   float64\n",
      " 35  35      1797 non-null   float64\n",
      " 36  36      1797 non-null   float64\n",
      " 37  37      1797 non-null   float64\n",
      " 38  38      1797 non-null   float64\n",
      " 39  39      1797 non-null   float64\n",
      " 40  40      1797 non-null   float64\n",
      " 41  41      1797 non-null   float64\n",
      " 42  42      1797 non-null   float64\n",
      " 43  43      1797 non-null   float64\n",
      " 44  44      1797 non-null   float64\n",
      " 45  45      1797 non-null   float64\n",
      " 46  46      1797 non-null   float64\n",
      " 47  47      1797 non-null   float64\n",
      " 48  48      1797 non-null   float64\n",
      " 49  49      1797 non-null   float64\n",
      " 50  50      1797 non-null   float64\n",
      " 51  51      1797 non-null   float64\n",
      " 52  52      1797 non-null   float64\n",
      " 53  53      1797 non-null   float64\n",
      " 54  54      1797 non-null   float64\n",
      " 55  55      1797 non-null   float64\n",
      " 56  56      1797 non-null   float64\n",
      " 57  57      1797 non-null   float64\n",
      " 58  58      1797 non-null   float64\n",
      " 59  59      1797 non-null   float64\n",
      " 60  60      1797 non-null   float64\n",
      " 61  61      1797 non-null   float64\n",
      " 62  62      1797 non-null   float64\n",
      " 63  63      1797 non-null   float64\n",
      " 64  64      1797 non-null   float64\n",
      "dtypes: float64(65)\n",
      "memory usage: 912.7 KB\n"
     ]
    }
   ],
   "source": [
    "# Wyświetlenie przypisanego typu danych\n",
    "df.info()"
   ]
  },
  {
   "cell_type": "markdown",
   "metadata": {},
   "source": [
    "# Dobór cech i reprezentacji"
   ]
  },
  {
   "cell_type": "code",
   "execution_count": 21,
   "metadata": {},
   "outputs": [
    {
     "name": "stdout",
     "output_type": "stream",
     "text": [
      " 1) 21                             0.049298\n",
      " 2) 26                             0.041920\n",
      " 3) 43                             0.041727\n",
      " 4) 36                             0.040571\n",
      " 5) 42                             0.036767\n",
      " 6) 33                             0.034535\n",
      " 7) 20                             0.033492\n",
      " 8) 28                             0.031804\n",
      " 9) 61                             0.030486\n",
      "10) 13                             0.027307\n",
      "11) 30                             0.027267\n",
      "12) 38                             0.026071\n",
      "13) 10                             0.025725\n",
      "14) 29                             0.025460\n",
      "15) 53                             0.025405\n",
      "16) 19                             0.024844\n",
      "17) 54                             0.024341\n",
      "18) 34                             0.024180\n",
      "19) 44                             0.024023\n",
      "20) 27                             0.023010\n",
      "21) 60                             0.022060\n",
      "22) 51                             0.021290\n",
      "23) 18                             0.021225\n",
      "24) 58                             0.021069\n",
      "25) 5                              0.020606\n",
      "26) 2                              0.019586\n",
      "27) 46                             0.019325\n",
      "28) 45                             0.019259\n",
      "29) 37                             0.019089\n",
      "30) 35                             0.017416\n",
      "31) 62                             0.016697\n",
      "32) 50                             0.015697\n",
      "33) 52                             0.015301\n",
      "34) 25                             0.014684\n",
      "35) 12                             0.014052\n",
      "36) 9                              0.013517\n",
      "37) 59                             0.010854\n",
      "38) 6                              0.009957\n",
      "39) 41                             0.009771\n",
      "40) 3                              0.009601\n",
      "41) 4                              0.009391\n",
      "42) 22                             0.007894\n",
      "43) 17                             0.007074\n",
      "44) 11                             0.006868\n",
      "45) 14                             0.005692\n",
      "46) 63                             0.003496\n",
      "47) 49                             0.002913\n",
      "48) 1                              0.002084\n",
      "49) 57                             0.001870\n",
      "50) 55                             0.001416\n",
      "51) 7                              0.000841\n",
      "52) 15                             0.000669\n",
      "53) 23                             0.000290\n",
      "54) 47                             0.000076\n",
      "55) 40                             0.000051\n",
      "56) 8                              0.000025\n",
      "57) 24                             0.000022\n",
      "58) 48                             0.000021\n",
      "59) 31                             0.000013\n",
      "60) 16                             0.000007\n",
      "61) 32                             0.000000\n",
      "62) 39                             0.000000\n",
      "63) 56                             0.000000\n",
      "64) 0                              0.000000\n"
     ]
    },
    {
     "data": {
      "image/png": "[encoded data removed]",
      "text/plain": [
       "<Figure size 936x936 with 1 Axes>"
      ]
     },
     "metadata": {
      "needs_background": "light"
     },
     "output_type": "display_data"
    }
   ],
   "source": [
    "from sklearn.ensemble import RandomForestClassifier\n",
    "labels = np.arange(64)\n",
    "forest = RandomForestClassifier(n_estimators=500, random_state=1)\n",
    "forest.fit(X_train_normalized, y_train)\n",
    "importances = forest.feature_importances_ # informacja o istotności cech\n",
    "indices = np.argsort(importances)[::-1]\n",
    "\n",
    "for f in range(X_train_normalized.shape[1]):\n",
    "    print(\"%2d) %-*s %f\" % (f + 1, 30, labels[indices[f]], \n",
    "                            importances[indices[f]]))\n",
    "\n",
    "plt.figure(figsize=(13,13))    \n",
    "plt.title('The importance of the features')\n",
    "plt.bar(range(X_train_normalized.shape[1]), importances[indices], align='center')\n",
    "plt.xticks(range(X_train_normalized.shape[1]), labels[indices], rotation=45)\n",
    "plt.xlim([-1, X_train_normalized.shape[1]])\n",
    "plt.tight_layout()\n",
    "plt.show() "
   ]
  },
  {
   "cell_type": "code",
   "execution_count": 22,
   "metadata": {},
   "outputs": [
    {
     "name": "stdout",
     "output_type": "stream",
     "text": [
      "Number of features meeting the threshold criterion:  25\n",
      " 1) 21                             0.049298\n",
      " 2) 26                             0.041920\n",
      " 3) 43                             0.041727\n",
      " 4) 36                             0.040571\n",
      " 5) 42                             0.036767\n",
      " 6) 33                             0.034535\n",
      " 7) 20                             0.033492\n",
      " 8) 28                             0.031804\n",
      " 9) 61                             0.030486\n",
      "10) 13                             0.027307\n",
      "11) 30                             0.027267\n",
      "12) 38                             0.026071\n",
      "13) 10                             0.025725\n",
      "14) 29                             0.025460\n",
      "15) 53                             0.025405\n",
      "16) 19                             0.024844\n",
      "17) 54                             0.024341\n",
      "18) 34                             0.024180\n",
      "19) 44                             0.024023\n",
      "20) 27                             0.023010\n",
      "21) 60                             0.022060\n",
      "22) 51                             0.021290\n",
      "23) 18                             0.021225\n",
      "24) 58                             0.021069\n",
      "25) 5                              0.020606\n"
     ]
    }
   ],
   "source": [
    "from sklearn.feature_selection import SelectFromModel\n",
    "\n",
    "selector = SelectFromModel(forest, threshold=0.02, prefit=True)\n",
    "X_selected = selector.transform(X_train_normalized)\n",
    "print('Number of features meeting the threshold criterion: ', X_selected.shape[1])\n",
    "\n",
    "for f in range(X_selected.shape[1]):\n",
    "    print(\"%2d) %-*s %f\" % (f + 1, 30, labels[indices[f]], importances[indices[f]]))"
   ]
  },
  {
   "cell_type": "code",
   "execution_count": 23,
   "metadata": {},
   "outputs": [
    {
     "name": "stdout",
     "output_type": "stream",
     "text": [
      "Previous shape:  (1257, 64)\n",
      "New shape:  (1257, 25)\n"
     ]
    }
   ],
   "source": [
    "print('Previous shape: ', X_train_normalized.shape)\n",
    "print('New shape: ', X_selected.shape)"
   ]
  },
  {
   "cell_type": "code",
   "execution_count": 24,
   "metadata": {},
   "outputs": [],
   "source": [
    "X_test_reduced = selector.transform(X_test_normalized)"
   ]
  },
  {
   "cell_type": "markdown",
   "metadata": {},
   "source": [
    "# Dobór algorytmów - klasyfikacja"
   ]
  },
  {
   "cell_type": "markdown",
   "metadata": {},
   "source": [
    "#### Klasyfikator SVM"
   ]
  },
  {
   "cell_type": "code",
   "execution_count": 94,
   "metadata": {},
   "outputs": [
    {
     "name": "stdout",
     "output_type": "stream",
     "text": [
      "[1 3 1 5 0 6 6 7 4 9 3 9 7 7 6 1 5 7 3 3 8 8 5 5 4 4 9 3 2 3]\n",
      "[1 3 1 5 0 6 6 7 4 9 3 9 7 7 6 1 5 7 3 3 8 8 5 5 4 4 9 3 2 3]\n",
      "Current:0.259951MB; Peak was 0.663408MB\n"
     ]
    }
   ],
   "source": [
    "tracemalloc.start()\n",
    "\n",
    "SVM_classifier = SVC(kernel='linear')\n",
    "SVM_classifier.fit(X_selected, y_train)\n",
    "\n",
    "predicted_groups = SVM_classifier.predict(X_test_reduced)\n",
    "print(predicted_groups[:30])\n",
    "print(predicted_groups[:30])\n",
    "\n",
    "current, peak = tracemalloc.get_traced_memory()\n",
    "print(f\"Current:{current / 10**6}MB; Peak was {peak / 10**6}MB\")\n",
    "tracemalloc.stop()"
   ]
  },
  {
   "cell_type": "code",
   "execution_count": 95,
   "metadata": {},
   "outputs": [
    {
     "name": "stdout",
     "output_type": "stream",
     "text": [
      "25.8 ms ± 234 µs per loop (mean ± std. dev. of 7 runs, 10 loops each)\n"
     ]
    }
   ],
   "source": [
    "%timeit SVM_classifier = SVC(kernel='linear').fit(X_train_normalized, y_train)"
   ]
  },
  {
   "cell_type": "code",
   "execution_count": 96,
   "metadata": {},
   "outputs": [
    {
     "name": "stdout",
     "output_type": "stream",
     "text": [
      "17.7 ms ± 215 µs per loop (mean ± std. dev. of 7 runs, 100 loops each)\n"
     ]
    }
   ],
   "source": [
    "%timeit SVM_classifier = SVC(kernel='linear').fit(X_selected, y_train)"
   ]
  },
  {
   "cell_type": "code",
   "execution_count": 97,
   "metadata": {},
   "outputs": [
    {
     "name": "stdout",
     "output_type": "stream",
     "text": [
      "Accuracy score for SVM classifier:  0.9574074074074074 \n",
      "\n"
     ]
    }
   ],
   "source": [
    "print(\"Accuracy score for SVM classifier: \", metrics.accuracy_score(y_true=y_test, y_pred=predicted_groups), \"\\n\")"
   ]
  },
  {
   "cell_type": "code",
   "execution_count": 98,
   "metadata": {},
   "outputs": [
    {
     "data": {
      "image/png": "[encoded data removed]",
      "text/plain": [
       "<Figure size 432x288 with 2 Axes>"
      ]
     },
     "metadata": {
      "needs_background": "light"
     },
     "output_type": "display_data"
    }
   ],
   "source": [
    "# Wyświetlenie macierzy pomyłek\n",
    "data_SVM = {'y_Actual': y_test, 'y_Predicted': predicted_groups}\n",
    "dfSVM = pd.DataFrame(data_SVM, columns=['y_Actual','y_Predicted'])\n",
    "confusion_matrix_SVM = pd.crosstab(dfSVM['y_Actual'], dfSVM['y_Predicted'], rownames=['Actual digit'], colnames=['Predicted digit'], margins = True)\n",
    "plt.title(\"Confusion matrix for SVM classifier\")\n",
    "sn.heatmap(confusion_matrix_SVM, annot=True, cmap = \"RdBu\")\n",
    "plt.show()"
   ]
  },
  {
   "cell_type": "code",
   "execution_count": 25,
   "metadata": {},
   "outputs": [
    {
     "name": "stdout",
     "output_type": "stream",
     "text": [
      "Accuracy score for SVM classifier with kernel function (type: linear)\n",
      "0.9574074074074074\n",
      "Accuracy score for SVM classifier with kernel function (type: poly)\n",
      "0.9703703703703703\n",
      "Accuracy score for SVM classifier with kernel function (type: sigmoid)\n",
      "0.7648148148148148\n",
      "Accuracy score for SVM classifier with kernel function (type: rbf)\n",
      "0.9777777777777777\n"
     ]
    }
   ],
   "source": [
    "#  Porównanie accuracy score dla różnych funkcji jądra\n",
    "kernel_type = ['linear', 'poly', 'sigmoid', 'rbf']\n",
    " \n",
    "for i in range(4):\n",
    "    svclassifier = SVC(kernel=kernel_type[i]).fit(X_selected, y_train.ravel())  \n",
    "    y_pred = svclassifier.predict(X_test_reduced)\n",
    "    print('Accuracy score for SVM classifier with kernel function (type: {})'.format(kernel_type[i]))\n",
    "    print(accuracy_score(y_test,y_pred)) "
   ]
  },
  {
   "cell_type": "code",
   "execution_count": 26,
   "metadata": {},
   "outputs": [
    {
     "name": "stdout",
     "output_type": "stream",
     "text": [
      "Accuracy score for SVM classifier for C value: 1.0\n",
      "0.9777777777777777\n",
      "Accuracy score for SVM classifier for C value: 10\n",
      "0.9833333333333333\n",
      "Accuracy score for SVM classifier for C value: 100\n",
      "0.9833333333333333\n",
      "Accuracy score for SVM classifier for C value: 1000\n",
      "0.9833333333333333\n"
     ]
    }
   ],
   "source": [
    "# Porównanie accuracy score dla różnych wartości C\n",
    "\n",
    "parameter_C = [1.0, 10, 100, 1000]\n",
    "\n",
    "for i in range(4):\n",
    "    svclassifier = SVC(C=parameter_C[i]).fit(X_selected, y_train.ravel())  \n",
    "    y_pred = svclassifier.predict(X_test_reduced)\n",
    "    print('Accuracy score for SVM classifier for C value: {}'.format(parameter_C[i]))\n",
    "    print(accuracy_score(y_test,y_pred)) "
   ]
  },
  {
   "cell_type": "code",
   "execution_count": 27,
   "metadata": {},
   "outputs": [
    {
     "name": "stdout",
     "output_type": "stream",
     "text": [
      "Best kernel type:  rbf\n",
      "Best C:  10\n"
     ]
    }
   ],
   "source": [
    "#Wybór najlepszego zestawu hiperparametrów - klasyfikator SVM\n",
    "SVM_hyperparameters = dict(kernel=kernel_type, C=parameter_C)\n",
    "SVM_classifier = SVC()\n",
    "SVM_search = GridSearchCV(SVM_classifier, SVM_hyperparameters, cv=5)\n",
    "SVM_best_model = SVM_search.fit(X_selected, y_train)\n",
    "print('Best kernel type: ', SVM_best_model.best_estimator_.get_params()['kernel'])\n",
    "print('Best C: ', SVM_best_model.best_estimator_.get_params()['C'])"
   ]
  },
  {
   "cell_type": "code",
   "execution_count": 28,
   "metadata": {},
   "outputs": [
    {
     "name": "stdout",
     "output_type": "stream",
     "text": [
      "Accuracy score for choosen SVM:  0.9833333333333333\n"
     ]
    }
   ],
   "source": [
    "SVM_choosen = SVC(C=10, kernel='rbf').fit(X_selected, y_train.ravel()) \n",
    "y_pred_SVM = SVM_choosen.predict(X_test_reduced)\n",
    "print('Accuracy score for choosen SVM: ', accuracy_score(y_test,y_pred_SVM)) "
   ]
  },
  {
   "cell_type": "markdown",
   "metadata": {},
   "source": [
    "#### Klasyfikator NN"
   ]
  },
  {
   "cell_type": "code",
   "execution_count": 104,
   "metadata": {},
   "outputs": [
    {
     "name": "stdout",
     "output_type": "stream",
     "text": [
      "[1 3 1 5 0 6 6 7 4 9 3 9 7 7 6 1 5 7 3 3 9 8 5 5 4 4 9 3 2 3]\n",
      "[1 3 1 5 0 6 6 7 4 9 3 9 7 7 6 1 5 7 3 3 9 8 5 5 4 4 9 3 2 3]\n",
      "Current:0.245502MB; Peak was 0.261279MB\n"
     ]
    }
   ],
   "source": [
    "tracemalloc.start()\n",
    "\n",
    "NN_classifier = KNeighborsClassifier(n_neighbors=1)\n",
    "NN_classifier.fit(X_train_normalized, y_train) \n",
    "predicted_groups = NN_classifier.predict(X_test_normalized)\n",
    "\n",
    "print(predicted_groups[:30])\n",
    "print(y_test[:30])\n",
    "\n",
    "current, peak = tracemalloc.get_traced_memory()\n",
    "print(f\"Current:{current / 10**6}MB; Peak was {peak / 10**6}MB\")\n",
    "tracemalloc.stop()"
   ]
  },
  {
   "cell_type": "code",
   "execution_count": 105,
   "metadata": {},
   "outputs": [
    {
     "name": "stdout",
     "output_type": "stream",
     "text": [
      "[1 3 1 5 0 6 6 7 4 9 3 9 7 7 6 1 5 7 3 3 9 8 5 5 4 4 9 3 2 3]\n",
      "[1 3 1 5 0 6 6 7 4 9 3 9 7 7 6 1 5 7 3 3 9 8 5 5 4 4 9 3 2 3]\n",
      "Current:0.45797MB; Peak was 0.577191MB\n"
     ]
    }
   ],
   "source": [
    "tracemalloc.start()\n",
    "\n",
    "NN_classifier = KNeighborsClassifier(n_neighbors=1)\n",
    "NN_classifier.fit(X_selected, y_train) \n",
    "predicted_groups = NN_classifier.predict(X_test_reduced)\n",
    "\n",
    "print(predicted_groups[:30])\n",
    "print(y_test[:30])\n",
    "\n",
    "current, peak = tracemalloc.get_traced_memory()\n",
    "print(f\"Current:{current / 10**6}MB; Peak was {peak / 10**6}MB\")\n",
    "tracemalloc.stop()"
   ]
  },
  {
   "cell_type": "code",
   "execution_count": 106,
   "metadata": {},
   "outputs": [
    {
     "name": "stdout",
     "output_type": "stream",
     "text": [
      "15 ms ± 83.2 µs per loop (mean ± std. dev. of 7 runs, 100 loops each)\n"
     ]
    }
   ],
   "source": [
    "%timeit NN_classifier = KNeighborsClassifier(n_neighbors=1).fit(X_train_normalized, y_train)"
   ]
  },
  {
   "cell_type": "code",
   "execution_count": 107,
   "metadata": {},
   "outputs": [
    {
     "name": "stdout",
     "output_type": "stream",
     "text": [
      "6.24 ms ± 38.1 µs per loop (mean ± std. dev. of 7 runs, 100 loops each)\n"
     ]
    }
   ],
   "source": [
    "%timeit NN_classifier = KNeighborsClassifier(n_neighbors=1).fit(X_selected, y_train)"
   ]
  },
  {
   "cell_type": "code",
   "execution_count": 108,
   "metadata": {},
   "outputs": [
    {
     "name": "stdout",
     "output_type": "stream",
     "text": [
      "Accuracy score for Nearest Neighbors classifier:  0.9814814814814815 \n",
      "\n"
     ]
    }
   ],
   "source": [
    "print(\"Accuracy score for Nearest Neighbors classifier: \", metrics.accuracy_score(y_true=y_test, y_pred=predicted_groups), \"\\n\")"
   ]
  },
  {
   "cell_type": "code",
   "execution_count": 109,
   "metadata": {},
   "outputs": [
    {
     "data": {
      "image/png": "[encoded data removed]",
      "text/plain": [
       "<Figure size 432x288 with 2 Axes>"
      ]
     },
     "metadata": {
      "needs_background": "light"
     },
     "output_type": "display_data"
    }
   ],
   "source": [
    "# Wyświetlenie macierzy pomyłek\n",
    "data_NN = {'y_Actual': y_test, 'y_Predicted': predicted_groups}\n",
    "dfNN = pd.DataFrame(data_NN, columns=['y_Actual','y_Predicted'])\n",
    "confusion_matrix_NN = pd.crosstab(dfNN['y_Actual'], dfNN['y_Predicted'], rownames=['Actual digit'], colnames=['Predicted digit'], margins = True)\n",
    "plt. title(\"Confusion matrix for Nearest Neighbors classifier\")\n",
    "sn.heatmap(confusion_matrix_NN, annot=True, cmap = \"RdBu\")\n",
    "plt.show()"
   ]
  },
  {
   "cell_type": "code",
   "execution_count": 29,
   "metadata": {},
   "outputs": [
    {
     "name": "stdout",
     "output_type": "stream",
     "text": [
      "Best p:  2\n"
     ]
    }
   ],
   "source": [
    "#Wybór najlepszego zestawu hiperparametrów - klasyfikator NN\n",
    "p = [1,2] #1 - odległość Manhattan, 2 - odległość Euklidesowa\n",
    "\n",
    "NN_hyperparameters = dict(p = p)\n",
    "NN_classifier = KNeighborsClassifier(n_neighbors=1)\n",
    "NN_search = GridSearchCV(NN_classifier, NN_hyperparameters, cv=5)\n",
    "NN_best_model = NN_search.fit(X_selected, np.ravel(y_train))\n",
    "print('Best p: ', NN_best_model.best_estimator_.get_params()['p'])"
   ]
  },
  {
   "cell_type": "code",
   "execution_count": 30,
   "metadata": {},
   "outputs": [
    {
     "name": "stdout",
     "output_type": "stream",
     "text": [
      "Accuracy score for choosen NN:  0.9814814814814815\n"
     ]
    }
   ],
   "source": [
    "NN_choosen = KNeighborsClassifier(n_neighbors=1, p=2).fit(X_selected, y_train.ravel()) \n",
    "y_pred_NN = NN_choosen.predict(X_test_reduced)\n",
    "print('Accuracy score for choosen NN: ', accuracy_score(y_test,y_pred_NN)) "
   ]
  },
  {
   "cell_type": "markdown",
   "metadata": {},
   "source": [
    "#### Klasyfikator kNN"
   ]
  },
  {
   "cell_type": "code",
   "execution_count": 112,
   "metadata": {},
   "outputs": [
    {
     "name": "stdout",
     "output_type": "stream",
     "text": [
      "[1 3 1 5 0 6 6 7 4 9 3 9 7 7 6 1 5 7 3 3 9 8 5 5 4 4 9 3 2 3]\n",
      "[1 3 1 5 0 6 6 7 4 9 3 9 7 7 6 1 5 7 3 3 9 8 5 5 4 4 9 3 2 3]\n",
      "Current:0.243374MB; Peak was 0.328587MB\n"
     ]
    }
   ],
   "source": [
    "tracemalloc.start()\n",
    "\n",
    "kNN_classifier = KNeighborsClassifier(n_neighbors=5)\n",
    "kNN_classifier.fit(X_train_normalized, y_train) \n",
    "predicted_groups = kNN_classifier.predict(X_test_normalized)\n",
    "\n",
    "print(predicted_groups[:30])\n",
    "print(y_test[:30])\n",
    "\n",
    "current, peak = tracemalloc.get_traced_memory()\n",
    "print(f\"Current:{current / 10**6}MB; Peak was {peak / 10**6}MB\")\n",
    "tracemalloc.stop()"
   ]
  },
  {
   "cell_type": "code",
   "execution_count": 113,
   "metadata": {},
   "outputs": [
    {
     "name": "stdout",
     "output_type": "stream",
     "text": [
      "[1 3 1 5 0 6 6 7 4 9 3 9 7 7 6 1 5 7 3 3 9 8 5 5 4 4 9 3 2 3]\n",
      "[1 3 1 5 0 6 6 7 4 9 3 9 7 7 6 1 5 7 3 3 9 8 5 5 4 4 9 3 2 3]\n",
      "Current:0.457426MB; Peak was 0.628423MB\n"
     ]
    }
   ],
   "source": [
    "tracemalloc.start()\n",
    "\n",
    "kNN_classifier = KNeighborsClassifier(n_neighbors=5)\n",
    "kNN_classifier.fit(X_selected, y_train) \n",
    "predicted_groups = kNN_classifier.predict(X_test_reduced)\n",
    "\n",
    "print(predicted_groups[:30])\n",
    "print(y_test[:30])\n",
    "\n",
    "current, peak = tracemalloc.get_traced_memory()\n",
    "print(f\"Current:{current / 10**6}MB; Peak was {peak / 10**6}MB\")\n",
    "tracemalloc.stop()"
   ]
  },
  {
   "cell_type": "code",
   "execution_count": 114,
   "metadata": {},
   "outputs": [
    {
     "name": "stdout",
     "output_type": "stream",
     "text": [
      "15 ms ± 254 µs per loop (mean ± std. dev. of 7 runs, 100 loops each)\n"
     ]
    }
   ],
   "source": [
    "%timeit kNN_classifier = KNeighborsClassifier(n_neighbors=5).fit(X_train_normalized, y_train)"
   ]
  },
  {
   "cell_type": "code",
   "execution_count": 115,
   "metadata": {},
   "outputs": [
    {
     "name": "stdout",
     "output_type": "stream",
     "text": [
      "6.19 ms ± 18.7 µs per loop (mean ± std. dev. of 7 runs, 100 loops each)\n"
     ]
    }
   ],
   "source": [
    "%timeit kNN_classifier = KNeighborsClassifier(n_neighbors=5).fit(X_selected, y_train)"
   ]
  },
  {
   "cell_type": "code",
   "execution_count": 116,
   "metadata": {},
   "outputs": [
    {
     "name": "stdout",
     "output_type": "stream",
     "text": [
      "Accuracy score for k-Nearest Neighbors classifier:  0.9814814814814815 \n",
      "\n"
     ]
    }
   ],
   "source": [
    "print(\"Accuracy score for k-Nearest Neighbors classifier: \", metrics.accuracy_score(y_true=y_test, y_pred=predicted_groups), \"\\n\")"
   ]
  },
  {
   "cell_type": "code",
   "execution_count": 117,
   "metadata": {},
   "outputs": [
    {
     "data": {
      "image/png": "[encoded data removed]",
      "text/plain": [
       "<Figure size 432x288 with 2 Axes>"
      ]
     },
     "metadata": {
      "needs_background": "light"
     },
     "output_type": "display_data"
    }
   ],
   "source": [
    "# Wyświetlenie macierzy pomyłek\n",
    "data_KNN = {'y_Actual': y_test, 'y_Predicted': predicted_groups}\n",
    "dfKNN = pd.DataFrame(data_KNN, columns=['y_Actual','y_Predicted'])\n",
    "confusion_matrix_KNN = pd.crosstab(dfKNN['y_Actual'], dfKNN['y_Predicted'], rownames=['Actual digit'], colnames=['Predicted digit'], margins = True)\n",
    "plt. title(\"Confusion matrix for k-Nearest Neighbors classifier\")\n",
    "sn.heatmap(confusion_matrix_KNN, annot=True, cmap = \"RdBu\")\n",
    "plt.show()"
   ]
  },
  {
   "cell_type": "code",
   "execution_count": 31,
   "metadata": {},
   "outputs": [
    {
     "name": "stdout",
     "output_type": "stream",
     "text": [
      "Best n_neighbors:  3\n",
      "Best p :  2\n"
     ]
    }
   ],
   "source": [
    "# Wybór najlepszego zestawu hiperparametrów - klasyfikator kNN\n",
    "p = [1,2] #1 - odległość Manhattan, 2 - odległość Euklidesowa\n",
    "n_neighbors = list(range(2,40))\n",
    "\n",
    "kNN_hyperparameters = dict(n_neighbors=n_neighbors, p=p)\n",
    "kNN_classifier = KNeighborsClassifier()\n",
    "kNN_search = GridSearchCV(kNN_classifier, kNN_hyperparameters, cv=5)\n",
    "kNN_best_model = kNN_search.fit(X_selected, np.ravel(y_train))\n",
    "print('Best n_neighbors: ', kNN_best_model.best_estimator_.get_params()['n_neighbors'])\n",
    "print('Best p : ', kNN_best_model.best_estimator_.get_params()['p'])"
   ]
  },
  {
   "cell_type": "code",
   "execution_count": 32,
   "metadata": {},
   "outputs": [
    {
     "data": {
      "text/plain": [
       "Text(0, 0.5, 'Accuracy')"
      ]
     },
     "execution_count": 32,
     "metadata": {},
     "output_type": "execute_result"
    },
    {
     "data": {
      "image/png": "[encoded data removed]",
      "text/plain": [
       "<Figure size 720x432 with 1 Axes>"
      ]
     },
     "metadata": {
      "needs_background": "light"
     },
     "output_type": "display_data"
    }
   ],
   "source": [
    "# Wybór optymalnej wartości k \n",
    "accuracy = []\n",
    "for i in range(1,40):\n",
    "    neigh = KNeighborsClassifier(n_neighbors = i, p=2).fit(X_selected ,y_train)\n",
    "    yhat = neigh.predict(X_test_reduced)\n",
    "    accuracy.append(metrics.accuracy_score(y_test, yhat))\n",
    "    \n",
    "plt.figure(figsize=(10,6))\n",
    "plt.plot(range(1,40),accuracy,color = 'blue',linestyle='dashed', \n",
    "         marker='o',markerfacecolor='red', markersize=10)\n",
    "plt.title('Accuracy for different k values - KNN classifier')\n",
    "plt.xlabel('K')\n",
    "plt.ylabel('Accuracy') ## k = 5"
   ]
  },
  {
   "cell_type": "code",
   "execution_count": 33,
   "metadata": {},
   "outputs": [
    {
     "name": "stdout",
     "output_type": "stream",
     "text": [
      "Accuracy score for choosen kNN:  0.9814814814814815\n"
     ]
    }
   ],
   "source": [
    "kNN_choosen = KNeighborsClassifier(n_neighbors=3, p=2).fit(X_selected, y_train.ravel()) \n",
    "y_pred_kNN = kNN_choosen.predict(X_test_reduced)\n",
    "print('Accuracy score for choosen kNN: ', accuracy_score(y_test,y_pred_kNN)) "
   ]
  },
  {
   "cell_type": "markdown",
   "metadata": {},
   "source": [
    "#### Klasyfikator NearestCentroid"
   ]
  },
  {
   "cell_type": "code",
   "execution_count": 34,
   "metadata": {},
   "outputs": [
    {
     "name": "stdout",
     "output_type": "stream",
     "text": [
      "[1 3 1 5 0 6 6 7 4 9 3 9 7 7 6 1 9 7 3 3 9 8 5 5 4 4 9 3 2 3]\n",
      "[1 3 1 5 0 6 6 7 4 9 3 9 7 7 6 1 5 7 3 3 9 8 5 5 4 4 9 3 2 3]\n",
      "Current:0.165421MB; Peak was 0.25257MB\n"
     ]
    }
   ],
   "source": [
    "tracemalloc.start()\n",
    "\n",
    "NM_classifier = NearestCentroid()\n",
    "NM_classifier.fit(X_selected, y_train) \n",
    "predicted_groups = NM_classifier.predict(X_test_reduced)\n",
    "\n",
    "print(predicted_groups[:30])\n",
    "print(y_test[:30])\n",
    "\n",
    "current, peak = tracemalloc.get_traced_memory()\n",
    "print(f\"Current:{current / 10**6}MB; Peak was {peak / 10**6}MB\")\n",
    "tracemalloc.stop()"
   ]
  },
  {
   "cell_type": "code",
   "execution_count": 35,
   "metadata": {},
   "outputs": [
    {
     "name": "stdout",
     "output_type": "stream",
     "text": [
      "[2 3 1 5 0 6 6 7 4 9 3 9 7 7 6 2 9 7 3 3 9 8 5 5 4 4 9 3 2 3]\n",
      "[1 3 1 5 0 6 6 7 4 9 3 9 7 7 6 1 5 7 3 3 9 8 5 5 4 4 9 3 2 3]\n",
      "Current:0.159557MB; Peak was 0.298602MB\n"
     ]
    }
   ],
   "source": [
    "tracemalloc.start()\n",
    "\n",
    "NM_classifier = NearestCentroid()\n",
    "NM_classifier.fit(X_train_normalized, y_train) \n",
    "predicted_groups = NM_classifier.predict(X_test_normalized)\n",
    "\n",
    "print(predicted_groups[:30])\n",
    "print(y_test[:30])\n",
    "\n",
    "current, peak = tracemalloc.get_traced_memory()\n",
    "print(f\"Current:{current / 10**6}MB; Peak was {peak / 10**6}MB\")\n",
    "tracemalloc.stop()"
   ]
  },
  {
   "cell_type": "code",
   "execution_count": 36,
   "metadata": {},
   "outputs": [
    {
     "name": "stdout",
     "output_type": "stream",
     "text": [
      "1.13 ms ± 79.3 µs per loop (mean ± std. dev. of 7 runs, 1000 loops each)\n"
     ]
    }
   ],
   "source": [
    "%timeit NM_classifier = NearestCentroid().fit(X_train_normalized, y_train)"
   ]
  },
  {
   "cell_type": "code",
   "execution_count": 37,
   "metadata": {},
   "outputs": [
    {
     "name": "stdout",
     "output_type": "stream",
     "text": [
      "714 µs ± 48.4 µs per loop (mean ± std. dev. of 7 runs, 1000 loops each)\n"
     ]
    }
   ],
   "source": [
    "%timeit NM_classifier = NearestCentroid().fit(X_selected, y_train)"
   ]
  },
  {
   "cell_type": "code",
   "execution_count": 38,
   "metadata": {},
   "outputs": [
    {
     "name": "stdout",
     "output_type": "stream",
     "text": [
      "Accuracy score for Nearest Centroid classifier:  0.8722222222222222 \n",
      "\n"
     ]
    }
   ],
   "source": [
    "print(\"Accuracy score for Nearest Centroid classifier: \", metrics.accuracy_score(y_true=y_test, y_pred=predicted_groups), \"\\n\")"
   ]
  },
  {
   "cell_type": "code",
   "execution_count": 39,
   "metadata": {},
   "outputs": [
    {
     "data": {
      "image/png": "[encoded data removed]",
      "text/plain": [
       "<Figure size 432x288 with 2 Axes>"
      ]
     },
     "metadata": {
      "needs_background": "light"
     },
     "output_type": "display_data"
    }
   ],
   "source": [
    "# Wyświetlenie macierzy pomyłek\n",
    "data_NM = {'y_Actual': y_test, 'y_Predicted': predicted_groups}\n",
    "dfNM = pd.DataFrame(data_NM, columns=['y_Actual','y_Predicted'])\n",
    "confusion_matrix_NM = pd.crosstab(dfNM['y_Actual'], dfNM['y_Predicted'], rownames=['Actual digit'], colnames=['Predicted digit'], margins = True)\n",
    "plt. title(\"Confusion matrix for Nearest Centroid classifier\")\n",
    "sn.heatmap(confusion_matrix_NM, annot=True, cmap = \"RdBu\")\n",
    "plt.show()"
   ]
  },
  {
   "cell_type": "code",
   "execution_count": 40,
   "metadata": {},
   "outputs": [
    {
     "name": "stdout",
     "output_type": "stream",
     "text": [
      "Best metric:  euclidean\n"
     ]
    }
   ],
   "source": [
    "# Wybór najlepszego zestawu hiperparametrów - klasyfikator NM\n",
    "NM_distances = ['euclidean', 'manhattan']\n",
    "\n",
    "NM_hyperparameters = dict(metric = NM_distances)\n",
    "NM_classifier = NearestCentroid()\n",
    "NM_search = GridSearchCV(NM_classifier, NM_hyperparameters, cv=4)\n",
    "NM_best_model = NM_search.fit(X_selected, np.ravel(y_train))\n",
    "print('Best metric: ', NM_best_model.best_estimator_.get_params()['metric'])"
   ]
  },
  {
   "cell_type": "code",
   "execution_count": 41,
   "metadata": {},
   "outputs": [
    {
     "name": "stdout",
     "output_type": "stream",
     "text": [
      "Accuracy score for choosen NM:  0.8722222222222222\n"
     ]
    }
   ],
   "source": [
    "NM_choosen = NearestCentroid(metric='euclidean').fit(X_train_normalized, y_train.ravel()) \n",
    "y_pred_NM = NM_choosen.predict(X_test_normalized)\n",
    "print('Accuracy score for choosen NM: ', accuracy_score(y_test,y_pred_NM)) "
   ]
  },
  {
   "cell_type": "code",
   "execution_count": 42,
   "metadata": {},
   "outputs": [
    {
     "name": "stdout",
     "output_type": "stream",
     "text": [
      "Accuracy score for choosen NM:  0.8814814814814815\n"
     ]
    }
   ],
   "source": [
    "NM_choosen = NearestCentroid(metric='euclidean').fit(X_selected, y_train.ravel()) \n",
    "y_pred_NM = NM_choosen.predict(X_test_reduced)\n",
    "print('Accuracy score for choosen NM: ', accuracy_score(y_test,y_pred_NM)) "
   ]
  },
  {
   "cell_type": "markdown",
   "metadata": {},
   "source": [
    "#### Klasyfikator za pomocą regresji logistycznej"
   ]
  },
  {
   "cell_type": "code",
   "execution_count": 133,
   "metadata": {},
   "outputs": [
    {
     "name": "stdout",
     "output_type": "stream",
     "text": [
      "[1 3 1 5 0 6 6 7 4 9 3 9 7 7 6 1 5 7 3 3 9 8 5 5 4 4 9 3 2 3]\n",
      "[1 3 1 5 0 6 6 7 4 9 3 9 7 7 6 1 5 7 3 3 9 8 5 5 4 4 9 3 2 3]\n",
      "Current:0.170021MB; Peak was 0.93225MB\n"
     ]
    }
   ],
   "source": [
    "tracemalloc.start()\n",
    "\n",
    "LR_classifier = LogisticRegression(max_iter=10000)\n",
    "LR_classifier.fit(X_selected, y_train) \n",
    "predicted_groups = LR_classifier.predict(X_test_reduced)\n",
    "\n",
    "print(predicted_groups[:30])\n",
    "print(y_test[:30])\n",
    "\n",
    "current, peak = tracemalloc.get_traced_memory()\n",
    "print(f\"Current:{current / 10**6}MB; Peak was {peak / 10**6}MB\")\n",
    "tracemalloc.stop()"
   ]
  },
  {
   "cell_type": "code",
   "execution_count": 134,
   "metadata": {},
   "outputs": [
    {
     "name": "stdout",
     "output_type": "stream",
     "text": [
      "[1 3 1 5 0 6 6 7 4 9 3 9 7 7 6 1 5 7 3 3 9 8 5 5 4 4 9 3 2 3]\n",
      "[1 3 1 5 0 6 6 7 4 9 3 9 7 7 6 1 5 7 3 3 9 8 5 5 4 4 9 3 2 3]\n",
      "Current:0.189647MB; Peak was 0.807364MB\n"
     ]
    }
   ],
   "source": [
    "tracemalloc.start()\n",
    "\n",
    "LR_classifier = LogisticRegression(max_iter=10000)\n",
    "LR_classifier.fit(X_train_normalized, y_train) \n",
    "predicted_groups = LR_classifier.predict(X_test_normalized)\n",
    "\n",
    "print(predicted_groups[:30])\n",
    "print(y_test[:30])\n",
    "\n",
    "current, peak = tracemalloc.get_traced_memory()\n",
    "print(f\"Current:{current / 10**6}MB; Peak was {peak / 10**6}MB\")\n",
    "tracemalloc.stop()"
   ]
  },
  {
   "cell_type": "code",
   "execution_count": 135,
   "metadata": {},
   "outputs": [
    {
     "name": "stdout",
     "output_type": "stream",
     "text": [
      "199 ms ± 24.9 ms per loop (mean ± std. dev. of 7 runs, 1 loop each)\n"
     ]
    }
   ],
   "source": [
    "%timeit LR_classifier = LogisticRegression(max_iter=10000).fit(X_train_normalized, y_train)"
   ]
  },
  {
   "cell_type": "code",
   "execution_count": 136,
   "metadata": {},
   "outputs": [
    {
     "name": "stdout",
     "output_type": "stream",
     "text": [
      "122 ms ± 4.07 ms per loop (mean ± std. dev. of 7 runs, 10 loops each)\n"
     ]
    }
   ],
   "source": [
    "%timeit LR_classifier = LogisticRegression(max_iter=10000).fit(X_selected, y_train)"
   ]
  },
  {
   "cell_type": "code",
   "execution_count": 137,
   "metadata": {},
   "outputs": [
    {
     "name": "stdout",
     "output_type": "stream",
     "text": [
      "Accuracy score for Logistic Regression classifier:  0.9629629629629629 \n",
      "\n"
     ]
    }
   ],
   "source": [
    "print(\"Accuracy score for Logistic Regression classifier: \", metrics.accuracy_score(y_true=y_test, y_pred=predicted_groups), \"\\n\")"
   ]
  },
  {
   "cell_type": "code",
   "execution_count": 138,
   "metadata": {},
   "outputs": [
    {
     "data": {
      "image/png": "[encoded data removed]",
      "text/plain": [
       "<Figure size 432x288 with 2 Axes>"
      ]
     },
     "metadata": {
      "needs_background": "light"
     },
     "output_type": "display_data"
    }
   ],
   "source": [
    "# Wyświetlenie macierzy pomyłek\n",
    "data_LR = {'y_Actual': y_test, 'y_Predicted': predicted_groups}\n",
    "dfLR = pd.DataFrame(data_LR, columns=['y_Actual','y_Predicted'])\n",
    "confusion_matrix_LR = pd.crosstab(dfLR['y_Actual'], dfLR['y_Predicted'], rownames=['Actual digit'], colnames=['Predicted digit'], margins = True)\n",
    "plt. title(\"Confusion matrix for Logistic Regression classifier\")\n",
    "sn.heatmap(confusion_matrix_LR, annot=True, cmap = \"RdBu\")\n",
    "plt.show()"
   ]
  },
  {
   "cell_type": "code",
   "execution_count": 43,
   "metadata": {},
   "outputs": [
    {
     "name": "stdout",
     "output_type": "stream",
     "text": [
      "Best C:  1\n"
     ]
    }
   ],
   "source": [
    "# Wybór najlepszego zestawu hiperparametrów - regresja logistyczna\n",
    "C = [1, 10, 100, 1000]\n",
    "\n",
    "LR_hyperparameters = dict(C=C)\n",
    "LR_classifier = LogisticRegression(max_iter=1000)\n",
    "LR_search = GridSearchCV(LR_classifier, LR_hyperparameters, cv=4)\n",
    "LR_best_model = LR_search.fit(X_selected, np.ravel(y_train))\n",
    "print('Best C: ', LR_best_model.best_estimator_.get_params()['C'])"
   ]
  },
  {
   "cell_type": "code",
   "execution_count": 44,
   "metadata": {},
   "outputs": [
    {
     "name": "stdout",
     "output_type": "stream",
     "text": [
      "Accuracy score for choosen LR:  0.9462962962962963\n"
     ]
    }
   ],
   "source": [
    "LR_choosen = LogisticRegression(max_iter=1000, C=1).fit(X_selected, y_train.ravel()) \n",
    "y_pred_LR = LR_choosen.predict(X_test_reduced)\n",
    "print('Accuracy score for choosen LR: ', accuracy_score(y_test,y_pred_LR)) "
   ]
  },
  {
   "cell_type": "markdown",
   "metadata": {},
   "source": [
    "#### DummyClassifier"
   ]
  },
  {
   "cell_type": "code",
   "execution_count": 141,
   "metadata": {},
   "outputs": [
    {
     "name": "stdout",
     "output_type": "stream",
     "text": [
      "[3 3 3 3 3 3 3 3 3 3 3 3 3 3 3 3 3 3 3 3 3 3 3 3 3 3 3 3 3 3]\n",
      "[1 3 1 5 0 6 6 7 4 9 3 9 7 7 6 1 5 7 3 3 9 8 5 5 4 4 9 3 2 3]\n",
      "Current:0.15444MB; Peak was 0.199336MB\n"
     ]
    }
   ],
   "source": [
    "tracemalloc.start()\n",
    "\n",
    "dummy_classifier = DummyClassifier(strategy='most_frequent')\n",
    "dummy_classifier.fit(X_train_normalized, y_train) \n",
    "predicted_groups = dummy_classifier.predict(X_test_normalized)\n",
    "\n",
    "print(predicted_groups[:30])\n",
    "print(y_test[:30])\n",
    "\n",
    "current, peak = tracemalloc.get_traced_memory()\n",
    "print(f\"Current:{current / 10**6}MB; Peak was {peak / 10**6}MB\")\n",
    "tracemalloc.stop()"
   ]
  },
  {
   "cell_type": "code",
   "execution_count": 142,
   "metadata": {},
   "outputs": [
    {
     "name": "stdout",
     "output_type": "stream",
     "text": [
      "[3 3 3 3 3 3 3 3 3 3 3 3 3 3 3 3 3 3 3 3 3 3 3 3 3 3 3 3 3 3]\n",
      "[1 3 1 5 0 6 6 7 4 9 3 9 7 7 6 1 5 7 3 3 9 8 5 5 4 4 9 3 2 3]\n",
      "Current:0.153527MB; Peak was 0.199192MB\n"
     ]
    }
   ],
   "source": [
    "tracemalloc.start()\n",
    "\n",
    "dummy_classifier = DummyClassifier(strategy='most_frequent')\n",
    "dummy_classifier.fit(X_selected, y_train) \n",
    "predicted_groups = dummy_classifier.predict(X_test_reduced)\n",
    "\n",
    "print(predicted_groups[:30])\n",
    "print(y_test[:30])\n",
    "\n",
    "current, peak = tracemalloc.get_traced_memory()\n",
    "print(f\"Current:{current / 10**6}MB; Peak was {peak / 10**6}MB\")\n",
    "tracemalloc.stop()"
   ]
  },
  {
   "cell_type": "code",
   "execution_count": 143,
   "metadata": {},
   "outputs": [
    {
     "name": "stdout",
     "output_type": "stream",
     "text": [
      "150 µs ± 601 ns per loop (mean ± std. dev. of 7 runs, 10000 loops each)\n"
     ]
    }
   ],
   "source": [
    "%timeit dummy_classifier = DummyClassifier(strategy='most_frequent').fit(X_train_normalized, y_train)"
   ]
  },
  {
   "cell_type": "code",
   "execution_count": 144,
   "metadata": {},
   "outputs": [
    {
     "name": "stdout",
     "output_type": "stream",
     "text": [
      "151 µs ± 649 ns per loop (mean ± std. dev. of 7 runs, 10000 loops each)\n"
     ]
    }
   ],
   "source": [
    "%timeit dummy_classifier = DummyClassifier(strategy='most_frequent').fit(X_selected, y_train)"
   ]
  },
  {
   "cell_type": "code",
   "execution_count": 145,
   "metadata": {},
   "outputs": [
    {
     "name": "stdout",
     "output_type": "stream",
     "text": [
      "Accuracy score for DummyClassifier:  0.10185185185185185 \n",
      "\n"
     ]
    }
   ],
   "source": [
    "print(\"Accuracy score for DummyClassifier: \", metrics.accuracy_score(y_true=y_test, y_pred=predicted_groups), \"\\n\")"
   ]
  },
  {
   "cell_type": "code",
   "execution_count": 146,
   "metadata": {},
   "outputs": [
    {
     "data": {
      "image/png": "[encoded data removed]",
      "text/plain": [
       "<Figure size 432x288 with 2 Axes>"
      ]
     },
     "metadata": {
      "needs_background": "light"
     },
     "output_type": "display_data"
    }
   ],
   "source": [
    "# Wyświetlenie macierzy pomyłek\n",
    "data_DC = {'y_Actual': y_test, 'y_Predicted': predicted_groups}\n",
    "dfDC = pd.DataFrame(data_DC, columns=['y_Actual','y_Predicted'])\n",
    "confusion_matrix_DC = pd.crosstab(dfDC['y_Actual'], dfDC['y_Predicted'], rownames=['Actual digit'], colnames=['Predicted digit'], margins = True)\n",
    "plt. title(\"Confusion matrix for Logistic Regression classifier\")\n",
    "sn.heatmap(confusion_matrix_DC, annot=True, cmap = \"RdBu\")\n",
    "plt.show()"
   ]
  },
  {
   "cell_type": "code",
   "execution_count": 45,
   "metadata": {},
   "outputs": [
    {
     "name": "stdout",
     "output_type": "stream",
     "text": [
      "Best strategy:  most_frequent\n",
      "Best random state:  0\n"
     ]
    }
   ],
   "source": [
    "dummy_strategy = ['stratified', 'most_frequent', 'uniform']\n",
    "random_state = [0, 42]\n",
    "dummy_parameters = dict(strategy=dummy_strategy, random_state = random_state)\n",
    "dummy_cls = DummyClassifier()\n",
    "dummy_search = GridSearchCV(dummy_cls, dummy_parameters, cv=5)\n",
    "dummy_best_model = dummy_search.fit(X_selected, np.ravel(y_train))\n",
    "print('Best strategy: ', dummy_best_model.best_estimator_.get_params()['strategy'])\n",
    "print('Best random state: ', dummy_best_model.best_estimator_.get_params()['random_state'])"
   ]
  },
  {
   "cell_type": "code",
   "execution_count": 46,
   "metadata": {},
   "outputs": [
    {
     "name": "stdout",
     "output_type": "stream",
     "text": [
      "Accuracy score for choosen DummyClassifier:  0.10185185185185185\n"
     ]
    }
   ],
   "source": [
    "dummy_choosen = DummyClassifier(strategy='most_frequent', random_state=0).fit(X_selected, y_train.ravel()) \n",
    "y_pred_dummy = dummy_choosen.predict(X_test_reduced)\n",
    "print('Accuracy score for choosen DummyClassifier: ', accuracy_score(y_test,y_pred_dummy)) "
   ]
  },
  {
   "cell_type": "code",
   "execution_count": 149,
   "metadata": {},
   "outputs": [],
   "source": [
    "# Interfejs użytkownika umożliwiający wprowadzenie własnych przykładów testowych"
   ]
  },
  {
   "cell_type": "code",
   "execution_count": 47,
   "metadata": {},
   "outputs": [],
   "source": [
    "width = 50\n",
    "height = 50\n",
    "my_labels = []\n",
    "       \n",
    "def save():\n",
    "    if re.match(r'^\\d{1}$', entry.get()):\n",
    "    \n",
    "        global image_number\n",
    "        filename = f'image_{image_number}.png'\n",
    "        image1.save(filename)\n",
    "        my_labels.append(entry.get())\n",
    "        image_number+=1\n",
    "   \n",
    "def activate_paint(event):\n",
    "    global lastx, lasty\n",
    "    cv.bind('<B1-Motion>', paint)\n",
    "    lastx, lasty = event.x, event.y\n",
    "\n",
    "def paint(event):\n",
    "    global lastx, lasty\n",
    "    x, y = event.x, event.y\n",
    "    cv.create_line((lastx, lasty, x, y), width=3)\n",
    "    draw.line((lastx, lasty, x, y), fill='black', width=3)\n",
    "    lastx, lasty = x, y\n",
    "    \n",
    "def clear():\n",
    "    cv.delete('all')\n",
    "    draw.rectangle((0, 0, 50, 50), fill=\"white\")\n",
    "    \n",
    "window = Tk()\n",
    "window.title(\"Painting digit\")\n",
    "lastx, lasty = None, None\n",
    "image_number = 0\n",
    "\n",
    "cv = Canvas(window, width=width, height=height, bg=\"white\")\n",
    "cv.grid(row=0,column=0)\n",
    "\n",
    "image1 = PIL.Image.new(\"RGB\", (width, height), \"white\")\n",
    "draw = ImageDraw.Draw(image1)\n",
    "\n",
    "cv.bind(\"<1>\", activate_paint)\n",
    "\n",
    "message = Label(window, text = \"Press and drag the mouse to draw.\\n Draw in white rectangle \\n then write label of digit and click save.\" )\n",
    "message.grid(column=0,row=1)\n",
    "\n",
    "entry = Entry(window)\n",
    "entry.grid(column=0, row=2)\n",
    "\n",
    "\n",
    "save_button = Button(text=\"Save\", command=save)\n",
    "save_button.grid(column=0,row=3)\n",
    "clear_button = Button(text=\"New canva\", command=clear)\n",
    "clear_button.grid(column=0, row=4)\n",
    "window.mainloop()"
   ]
  },
  {
   "cell_type": "code",
   "execution_count": 48,
   "metadata": {},
   "outputs": [
    {
     "data": {
      "text/plain": [
       "['0', '0', '1', '1', '2', '2', '3']"
      ]
     },
     "execution_count": 48,
     "metadata": {},
     "output_type": "execute_result"
    }
   ],
   "source": [
    "my_labels"
   ]
  },
  {
   "cell_type": "code",
   "execution_count": 49,
   "metadata": {},
   "outputs": [],
   "source": [
    "size = 8, 8\n",
    "my_img_dataset = []\n",
    "my_data_dataset = []\n",
    "for i in range(image_number):\n",
    "    opened_image = PIL.Image.open(f'image_{i}.png')\n",
    "    resized_image = opened_image.resize(size, PIL.Image.ANTIALIAS)\n",
    "    resized_image.save(f'resized_image_{i}.png', \"PNG\")\n",
    "    my_img_dataset.append(np.array(plt.imread(f'resized_image_{i}.png')))\n",
    "    my_data_dataset.append(np.ravel(my_img_dataset[i][:,:,0]))"
   ]
  },
  {
   "cell_type": "code",
   "execution_count": 51,
   "metadata": {},
   "outputs": [
    {
     "name": "stdout",
     "output_type": "stream",
     "text": [
      "Min:  0.4627451\n",
      "Max:  1.0\n"
     ]
    }
   ],
   "source": [
    "#wszystkie wartości zawierają się w przedziale [0,1] - normalizacja nie jest potrzebna\n",
    "print('Min: ', (my_img_dataset[0][:,:,0]).min())\n",
    "print('Max: ', (my_img_dataset[0][:,:,0]).max())"
   ]
  },
  {
   "cell_type": "code",
   "execution_count": 52,
   "metadata": {},
   "outputs": [
    {
     "data": {
      "image/png": "[encoded data removed]",
      "text/plain": [
       "<Figure size 432x288 with 1 Axes>"
      ]
     },
     "metadata": {
      "needs_background": "light"
     },
     "output_type": "display_data"
    },
    {
     "data": {
      "image/png": "[encoded data removed]",
      "text/plain": [
       "<Figure size 432x288 with 1 Axes>"
      ]
     },
     "metadata": {
      "needs_background": "light"
     },
     "output_type": "display_data"
    },
    {
     "data": {
      "image/png": "[encoded data removed]",
      "text/plain": [
       "<Figure size 432x288 with 1 Axes>"
      ]
     },
     "metadata": {
      "needs_background": "light"
     },
     "output_type": "display_data"
    },
    {
     "data": {
      "image/png": "[encoded data removed]",
      "text/plain": [
       "<Figure size 432x288 with 1 Axes>"
      ]
     },
     "metadata": {
      "needs_background": "light"
     },
     "output_type": "display_data"
    },
    {
     "data": {
      "image/png": "[encoded data removed]",
      "text/plain": [
       "<Figure size 432x288 with 1 Axes>"
      ]
     },
     "metadata": {
      "needs_background": "light"
     },
     "output_type": "display_data"
    },
    {
     "data": {
      "image/png": "[encoded data removed]",
      "text/plain": [
       "<Figure size 432x288 with 1 Axes>"
      ]
     },
     "metadata": {
      "needs_background": "light"
     },
     "output_type": "display_data"
    },
    {
     "data": {
      "image/png": "[encoded data removed]",
      "text/plain": [
       "<Figure size 432x288 with 1 Axes>"
      ]
     },
     "metadata": {
      "needs_background": "light"
     },
     "output_type": "display_data"
    }
   ],
   "source": [
    "for i in range(image_number):\n",
    "    plt.imshow(my_img_dataset[i], cmap='gray')\n",
    "    plt.show()"
   ]
  },
  {
   "cell_type": "code",
   "execution_count": 53,
   "metadata": {},
   "outputs": [],
   "source": [
    "np_my_labels = np.array(my_labels, dtype='int64')\n",
    "np_my_dataset = selector.transform(1-np.array(my_data_dataset))"
   ]
  },
  {
   "cell_type": "code",
   "execution_count": 54,
   "metadata": {},
   "outputs": [
    {
     "data": {
      "image/png": "[encoded data removed]",
      "text/plain": [
       "<Figure size 432x288 with 2 Axes>"
      ]
     },
     "metadata": {
      "needs_background": "light"
     },
     "output_type": "display_data"
    },
    {
     "name": "stdout",
     "output_type": "stream",
     "text": [
      "Accuracy:  0.7142857142857143\n"
     ]
    },
    {
     "data": {
      "image/png": "[encoded data removed]",
      "text/plain": [
       "<Figure size 432x288 with 2 Axes>"
      ]
     },
     "metadata": {
      "needs_background": "light"
     },
     "output_type": "display_data"
    },
    {
     "name": "stdout",
     "output_type": "stream",
     "text": [
      "Accuracy:  0.7142857142857143\n"
     ]
    },
    {
     "data": {
      "image/png": "[encoded data removed]",
      "text/plain": [
       "<Figure size 432x288 with 2 Axes>"
      ]
     },
     "metadata": {
      "needs_background": "light"
     },
     "output_type": "display_data"
    },
    {
     "name": "stdout",
     "output_type": "stream",
     "text": [
      "Accuracy:  0.7142857142857143\n"
     ]
    },
    {
     "data": {
      "image/png": "[encoded data removed]",
      "text/plain": [
       "<Figure size 432x288 with 2 Axes>"
      ]
     },
     "metadata": {
      "needs_background": "light"
     },
     "output_type": "display_data"
    },
    {
     "name": "stdout",
     "output_type": "stream",
     "text": [
      "Accuracy:  0.42857142857142855\n"
     ]
    },
    {
     "data": {
      "image/png": "[encoded data removed]",
      "text/plain": [
       "<Figure size 432x288 with 2 Axes>"
      ]
     },
     "metadata": {
      "needs_background": "light"
     },
     "output_type": "display_data"
    },
    {
     "name": "stdout",
     "output_type": "stream",
     "text": [
      "Accuracy:  0.42857142857142855\n"
     ]
    }
   ],
   "source": [
    "# Sprawdzenie poprawności klasyfikacji przez każdy z klasyfikatorów\n",
    "cm_options = [(\"Macierz pomyłek dla klasyfikatora SVM\", SVM_choosen, 'SVM'), \n",
    "              (\"Macierz pomyłek dla klasyfikatora NN\", NN_choosen, 'NN'), \n",
    "              (\"Macierz pomyłek dla klasyfikatora kNN\", kNN_choosen, 'kNN'), \n",
    "              (\"Macierz pomyłek dla klasyfikatora NM\", NM_choosen, 'NM'), \n",
    "              (\"Macierz pomyłek dla klasyfikacji przy pomocy regresji logistycznej\", LR_choosen, 'LR')]\n",
    "\n",
    "for title, classifier, clf_name in cm_options:\n",
    "    predicted = classifier.predict(np_my_dataset)\n",
    "    data = {'y_Actual': np_my_labels, 'y_Predicted': predicted}\n",
    "    df = pd.DataFrame(data, columns=['y_Actual','y_Predicted'])\n",
    "    confusion_matrix = pd.crosstab(df['y_Actual'], df['y_Predicted'], rownames=['Actual digit'], colnames=['Predicted digit'], margins = False)\n",
    "    plt.title(f'Confusion matrix for {clf_name}')\n",
    "    sn.heatmap(confusion_matrix, annot=True, cmap = \"YlGnBu\")\n",
    "    plt.show()\n",
    "    print(\"Accuracy: \", accuracy_score(np_my_labels, classifier.predict(np_my_dataset)))\n"
   ]
  },
  {
   "cell_type": "markdown",
   "metadata": {},
   "source": [
    "# Wnioski i podsumowanie\n",
    "_______________________________\n",
    "<div style=\"text-align: justify\">\n",
    "Eksploracyjna analiza danych umożliwiła uzyskanie dogłębnej wiedzy na temat wybranego zbioru ręcznie pisanych cyfr, który składa się z 10 klas, 1797 próbek i 65 cech. Liczba próbek każdej z klas jest zbliżona - około 180.  Zwizualizowano obrazy cyfr ze zbioru treningowego oraz przykładowo różne odmiany cyfry 1. Następnie sprawdzono przypisany typ danych – float64 oraz wykazano, że zbiorze nie znajdują się wartości brakujące. Korzystając z algorytmu losowego lasu pochodzącego z pakietu sklearn – RandomForestClassifier oceniono istotność cech, wynik został zilustrowany na wykresie słupkowym. Następnie poprzez ustawienie wartości progowej ograniczono ich ilość, pozostawiając ostatecznie 25 cech. Dobór klasyfikatora był oparty o porównanie kilku algorytmów pod względem zużycia pamięci, czasu wykonania, dokładności oraz analizy macierzy pomyłek, któremu towarzyszyła pełna automatyczna optymalizacja hiperparametrów w celu późniejszego wyboru  najskuteczniejszego algorytmu.  Zweryfikowano słuszność selekcji cech poprzez porównanie wyników na zbiorze treningowych (64 cechy), jak i na ograniczonym do 25 cech.\n",
    "Poniżej zamieszczono porównanie wyników wybranych metryk na zbiorach z uwzględnieniem selekcji cech. </div>\n",
    "    \n",
    "Klasyfikator SVM\n",
    "\n",
    "-  zużycie pamięci: \n",
    "\n",
    "Bieżący przydział pamięci (Current) wynosi: 0.272031 MB\n",
    "\n",
    "Szczytowy przydział pamięci (Peak) wynosi 0.671344 MB\n",
    "\n",
    "- czas:  18.3 ms ± 937 µs per loop\n",
    "\n",
    "- dokładność: 98.33 %\n",
    "\n",
    "- najlepszy zestaw hiperparametrów: funkcja jądra: rbf, wartość parametru C: 10. \n",
    "    \n",
    "Klasyfikator NN\n",
    "\n",
    "-  zużycie pamięci: \n",
    "\n",
    "Bieżący przydział pamięci (Current) wynosi: 0.514717 MB\n",
    "\n",
    "Szczytowy przydział pamięci (Peak) wynosi  0.638763 MB\n",
    "\n",
    "- czas: 8.24 ms ± 961 µs per loop \n",
    "\n",
    "- dokładność: 98.15 %\n",
    "\n",
    "- najlepszy zestaw hiperparametrów: odległość Euklidesowa. \n",
    "    \n",
    "Klasyfikator kNN\n",
    "-  zużycie pamięci: \n",
    "\n",
    "Bieżący przydział pamięci (Current) wynosi: 0.458274 MB\n",
    "\n",
    "Szczytowy przydział pamięci (Peak) wynosi  0.629311 MB\n",
    "\n",
    "- czas:  8.73 ms ± 1.06 ms per loop \n",
    "\n",
    "- dokładność: 98.15%\n",
    "\n",
    "- najlepszy zestaw hiperparametrów: odległość Euklidesowa, liczba sąsiadów: 3\n",
    "    \n",
    "Dodatkowo zwizualizowano dokładność klasyfikatora pod względem rożnych wartości k – liczby sąsiadów.\n",
    "\n",
    "Klasyfikator NM\n",
    "\n",
    "-  zużycie pamięci: \n",
    "\n",
    "Bieżący przydział pamięci (Current) wynosi: 0.156315 MB\n",
    "\n",
    "Szczytowy przydział pamięci (Peak) wynosi  0.24392 MB\n",
    "\n",
    "- czas:  846 µs ± 94.6 µs per loop \n",
    "\n",
    "- dokładność: 88.15 %\n",
    "\n",
    "- najlepszy zestaw hiperparametrów: odległość Euklidesowa\n",
    "    \n",
    "Klasyfikator za pomocą regresji logistycznej\n",
    "\n",
    "-  zużycie pamięci: \n",
    "\n",
    "Bieżący przydział pamięci (Current) wynosi: 0.016063 MB\n",
    "\n",
    "Szczytowy przydział pamięci (Peak) wynosi  0.923472 MB\n",
    "\n",
    "- czas: 248 ms ± 93.9 ms per loop\n",
    "\n",
    "- dokładność: 94.62%\n",
    "\n",
    "- najlepszy zestaw hiperparametrów: parametr C: 1.\n",
    "\n",
    "DummyClassifer\n",
    "\n",
    "- zużycie pamięci:\n",
    "\n",
    "Bieżący przydział pamięci (Current) wynosi: 0.007744MB\n",
    "\n",
    "Szczytowy przydział pamięci (Peak) wynosi: 0.05124MB\n",
    "\n",
    "- czas: 177 µs ± 815 ns per loop\n",
    "\n",
    "- dokładność: 10.19%\n",
    "\n",
    "- najlepszy zestaw hiperparametrów: strategia: most-frequent, random state: 0\n",
    "    \n",
    "<div style=\"text-align: justify\">\n",
    "Metoda najbliższego sąsiada wyróżnia się największym zużyciem pamięci, co wynika z dużej złożoności obliczeniowej procesu klasyfikacji oraz z tego, iż wymagane są duże zasoby do przechowywania wzorca. Klasyfikator najbliższego sąsiada intensywnie korzysta z pamięci, ponieważ zapamiętuje cały zbiór treningowy (wymagane większe zasoby pamięci do przechowywania danych treningowych) i używa ich do klasyfikacji, czego efektem jest wolniejsza i bardziej kosztowna faza testowania. Klasyfikator najbliższej średniej oraz z wykorzystaniem regresji logistycznej natomiast wyróżnia mniejsze zużycie pamięci wynikające z  prostoty obliczeniowej oraz małych zasobów niezbędnych do przechowywania wzorców. Zaobserwować można, że algorytmy wyróżniające się wyższą dokładnością cechuje dłuższy czas operacji (np. klasyfikator SVM: 98.33% - 18.3 ms, klasyfikator NM: 88.15% - 846 µs). Najmniejszym zużyciem pamięci i czasu, a także najmniejszą dokładnością wykazał się DummyClassifier, który przydzielał wszystkie próbki do najliczniejszej klasy.</div>\n",
    "<div style=\"text-align: justify\">\n",
    "Ostateczny wybór to klasyfikator SVM, który wyróżnia najwyższa dokładność, co w przypadku projektów opartych o rozpoznawanie obiektów (cyfr) odgrywa kluczową rolę. Funkcja jądra (RBF) radialna oblicza linię podziału w wyższym wymiarze, co umożliwia pracę na tak złożonym i zróżnicowanym zbiorze danych (baza cyfr rysowanych ręcznie od dużej grupy ludzi). \n",
    "Ostatnim etapem było wykonanie prób testowych w oparciu o opracowany interfejs graficzny poprzez rysowanie własnych cyfr przez użytkownika.  </div>\n",
    "<div style=\"text-align: justify\"> \n",
    "Interpretacja wyników wybranych metryk: accuracy score i confusion matrix jest skomplikowana, ponieważ ma na nią wpływ kilka istotnych czynników. Cyfry nie zawsze mają ten sam rozmiar, szerokość, orientację nawet pisane ponownie przez tego samego użytkownika. Każda osoba ma inny indywidualny charakter pisma, ale wpływ na to ma m.in. pochodzenie. Zbiór ten jest różnorodny, ale przy tym ciężki do odwzorowania (zbliżenia się do znajdujących się w nim obiektów). Kolejnym aspektem jest to, że cyfry te są rysowane pośrednictwem myszki, co niestety nie jest precyzyjnym procesem. Brak dokładnych informacji na temat sposobu przetwarzania obrazów znajdujących się w zbiorze oraz brak pewności czy ciemniejsze piksele oznaczają miejsce, w których długopis był przyciśnięty do kartki, jeśli tak taka opcja jest niemożliwa przy użyciu myszki.</div></p>"
   ]
  },
  {
   "cell_type": "code",
   "execution_count": null,
   "metadata": {},
   "outputs": [],
   "source": []
  }
 ],
 "metadata": {
  "kernelspec": {
   "display_name": "Python 3",
   "language": "python",
   "name": "python3"
  },
  "language_info": {
   "codemirror_mode": {
    "name": "ipython",
    "version": 3
   },
   "file_extension": ".py",
   "mimetype": "text/x-python",
   "name": "python",
   "nbconvert_exporter": "python",
   "pygments_lexer": "ipython3",
   "version": "3.7.6"
  }
 },
 "nbformat": 4,
 "nbformat_minor": 4
}
