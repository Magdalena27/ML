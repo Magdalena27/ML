{
 "cells": [
  {
   "cell_type": "code",
   "execution_count": 382,
   "metadata": {},
   "outputs": [],
   "source": [
    "# Import potrzebnych bibliotek\n",
    "import pandas as pd\n",
    "import matplotlib.pyplot as plt\n",
    "import numpy as np\n",
    "from collections import Counter\n",
    "import string\n",
    "from nltk.stem import WordNetLemmatizer, PorterStemmer\n",
    "from random import sample\n",
    "from nltk.corpus import stopwords\n",
    "from sklearn.feature_extraction.text import CountVectorizer\n",
    "from sklearn.model_selection import train_test_split\n",
    "from sklearn.naive_bayes import MultinomialNB\n",
    "from sklearn.metrics import confusion_matrix, accuracy_score\n",
    "from sklearn.dummy import DummyClassifier"
   ]
  },
  {
   "cell_type": "markdown",
   "metadata": {},
   "source": [
    "### Pobierz i wczytaj zbiór danych SMS Spam Collection"
   ]
  },
  {
   "cell_type": "code",
   "execution_count": 2,
   "metadata": {},
   "outputs": [
    {
     "name": "stdout",
     "output_type": "stream",
     "text": [
      "Wpisz ścieżkę do pliku: smsspamcollection/SMSSpamCollection.txt\n"
     ]
    }
   ],
   "source": [
    "# W pierwszej kolejności zmieniłam typ pobranego pliku SMSSpamCollecion na tekstowy\n",
    "# Wczytywanie danych\n",
    "ok=False\n",
    "while ok==False:\n",
    "    filepath = input('Wpisz ścieżkę do pliku: ')\n",
    "\n",
    "    try:\n",
    "        data = pd.read_csv(filepath, sep = \"\\t\", header = None)\n",
    "        ok=True\n",
    "    except FileNotFoundError:\n",
    "        print('Nieprawidłowa ścieżka. Spróbuj ponownie: ')\n",
    "        ok=False\n",
    "#smsspamcollection/SMSSpamCollection.txt"
   ]
  },
  {
   "cell_type": "code",
   "execution_count": 3,
   "metadata": {},
   "outputs": [
    {
     "data": {
      "text/html": [
       "<div>\n",
       "<style scoped>\n",
       "    .dataframe tbody tr th:only-of-type {\n",
       "        vertical-align: middle;\n",
       "    }\n",
       "\n",
       "    .dataframe tbody tr th {\n",
       "        vertical-align: top;\n",
       "    }\n",
       "\n",
       "    .dataframe thead th {\n",
       "        text-align: right;\n",
       "    }\n",
       "</style>\n",
       "<table border=\"1\" class=\"dataframe\">\n",
       "  <thead>\n",
       "    <tr style=\"text-align: right;\">\n",
       "      <th></th>\n",
       "      <th>Class</th>\n",
       "      <th>Message</th>\n",
       "    </tr>\n",
       "  </thead>\n",
       "  <tbody>\n",
       "    <tr>\n",
       "      <th>0</th>\n",
       "      <td>ham</td>\n",
       "      <td>Go until jurong point, crazy.. Available only ...</td>\n",
       "    </tr>\n",
       "    <tr>\n",
       "      <th>1</th>\n",
       "      <td>ham</td>\n",
       "      <td>Ok lar... Joking wif u oni...</td>\n",
       "    </tr>\n",
       "    <tr>\n",
       "      <th>2</th>\n",
       "      <td>spam</td>\n",
       "      <td>Free entry in 2 a wkly comp to win FA Cup fina...</td>\n",
       "    </tr>\n",
       "    <tr>\n",
       "      <th>3</th>\n",
       "      <td>ham</td>\n",
       "      <td>U dun say so early hor... U c already then say...</td>\n",
       "    </tr>\n",
       "    <tr>\n",
       "      <th>4</th>\n",
       "      <td>ham</td>\n",
       "      <td>Nah I don't think he goes to usf, he lives aro...</td>\n",
       "    </tr>\n",
       "    <tr>\n",
       "      <th>...</th>\n",
       "      <td>...</td>\n",
       "      <td>...</td>\n",
       "    </tr>\n",
       "    <tr>\n",
       "      <th>5567</th>\n",
       "      <td>spam</td>\n",
       "      <td>This is the 2nd time we have tried 2 contact u...</td>\n",
       "    </tr>\n",
       "    <tr>\n",
       "      <th>5568</th>\n",
       "      <td>ham</td>\n",
       "      <td>Will ü b going to esplanade fr home?</td>\n",
       "    </tr>\n",
       "    <tr>\n",
       "      <th>5569</th>\n",
       "      <td>ham</td>\n",
       "      <td>Pity, * was in mood for that. So...any other s...</td>\n",
       "    </tr>\n",
       "    <tr>\n",
       "      <th>5570</th>\n",
       "      <td>ham</td>\n",
       "      <td>The guy did some bitching but I acted like i'd...</td>\n",
       "    </tr>\n",
       "    <tr>\n",
       "      <th>5571</th>\n",
       "      <td>ham</td>\n",
       "      <td>Rofl. Its true to its name</td>\n",
       "    </tr>\n",
       "  </tbody>\n",
       "</table>\n",
       "<p>5572 rows × 2 columns</p>\n",
       "</div>"
      ],
      "text/plain": [
       "     Class                                            Message\n",
       "0      ham  Go until jurong point, crazy.. Available only ...\n",
       "1      ham                      Ok lar... Joking wif u oni...\n",
       "2     spam  Free entry in 2 a wkly comp to win FA Cup fina...\n",
       "3      ham  U dun say so early hor... U c already then say...\n",
       "4      ham  Nah I don't think he goes to usf, he lives aro...\n",
       "...    ...                                                ...\n",
       "5567  spam  This is the 2nd time we have tried 2 contact u...\n",
       "5568   ham               Will ü b going to esplanade fr home?\n",
       "5569   ham  Pity, * was in mood for that. So...any other s...\n",
       "5570   ham  The guy did some bitching but I acted like i'd...\n",
       "5571   ham                         Rofl. Its true to its name\n",
       "\n",
       "[5572 rows x 2 columns]"
      ]
     },
     "execution_count": 3,
     "metadata": {},
     "output_type": "execute_result"
    }
   ],
   "source": [
    "data.columns = ['Class', 'Message']\n",
    "data"
   ]
  },
  {
   "cell_type": "markdown",
   "metadata": {},
   "source": [
    "### Dokonaj eksploracyjnej analizy danych"
   ]
  },
  {
   "cell_type": "code",
   "execution_count": 4,
   "metadata": {},
   "outputs": [
    {
     "name": "stdout",
     "output_type": "stream",
     "text": [
      "['ham' 'spam']\n"
     ]
    }
   ],
   "source": [
    "classes = data['Class'].unique() # W zbiorze występują dwie klasy: 'ham' oraz 'spam'\n",
    "print(classes)"
   ]
  },
  {
   "cell_type": "code",
   "execution_count": 5,
   "metadata": {},
   "outputs": [
    {
     "name": "stdout",
     "output_type": "stream",
     "text": [
      "ham     4825\n",
      "spam     747\n",
      "Name: Class, dtype: int64\n"
     ]
    }
   ],
   "source": [
    "# Ilość próbek w każdej z klas\n",
    "summary_of_class_quantity = data['Class'].value_counts()\n",
    "print(summary_of_class_quantity)"
   ]
  },
  {
   "cell_type": "code",
   "execution_count": 6,
   "metadata": {},
   "outputs": [
    {
     "data": {
      "image/png": "[encoded data removed]",
      "text/plain": [
       "<Figure size 432x288 with 1 Axes>"
      ]
     },
     "metadata": {},
     "output_type": "display_data"
    }
   ],
   "source": [
    "ham_amount = summary_of_class_quantity[0]\n",
    "spam_amount = summary_of_class_quantity[1]\n",
    "explode_pie = (0.25, 0)\n",
    "\n",
    "plt.pie(summary_of_class_quantity, explode=explode_pie, labels=classes, autopct='%1.1f%%', colors=['lightgreen','red'], shadow=True, radius=2)\n",
    "plt.show()"
   ]
  },
  {
   "cell_type": "markdown",
   "metadata": {},
   "source": [
    "<div style = \"text-align: justify\">Jak można zauważyć na wykresie zdecydowana większość wiadomości w zbiorze danych, to&nbsp;wiadomości 'ham'. Stanowią one 86.6% próbek zbioru. Natomiast niechciane wiadomości 'spam' stanowią tylko 13.4% zawartości zbioru. Taka różnica w proporcji występujących klas może mieć znaczenie podczas uczenia klasyfikatora i późniejszej klasyfikacji."
   ]
  },
  {
   "cell_type": "code",
   "execution_count": 7,
   "metadata": {},
   "outputs": [
    {
     "data": {
      "text/plain": [
       "False"
      ]
     },
     "execution_count": 7,
     "metadata": {},
     "output_type": "execute_result"
    }
   ],
   "source": [
    "# Sprawdzenie czy wszystkie wiadomości są unikatowe\n",
    "data['Message'].is_unique"
   ]
  },
  {
   "cell_type": "markdown",
   "metadata": {},
   "source": [
    "**Wniosek:** W zbiorze istnieją wiadomości, które się powtarzają."
   ]
  },
  {
   "cell_type": "code",
   "execution_count": 8,
   "metadata": {},
   "outputs": [
    {
     "data": {
      "text/html": [
       "<div>\n",
       "<style scoped>\n",
       "    .dataframe tbody tr th:only-of-type {\n",
       "        vertical-align: middle;\n",
       "    }\n",
       "\n",
       "    .dataframe tbody tr th {\n",
       "        vertical-align: top;\n",
       "    }\n",
       "\n",
       "    .dataframe thead th {\n",
       "        text-align: right;\n",
       "    }\n",
       "</style>\n",
       "<table border=\"1\" class=\"dataframe\">\n",
       "  <thead>\n",
       "    <tr style=\"text-align: right;\">\n",
       "      <th></th>\n",
       "      <th>Spam message</th>\n",
       "      <th>Number of occurences</th>\n",
       "    </tr>\n",
       "  </thead>\n",
       "  <tbody>\n",
       "    <tr>\n",
       "      <th>0</th>\n",
       "      <td>Please call our customer service representativ...</td>\n",
       "      <td>4</td>\n",
       "    </tr>\n",
       "    <tr>\n",
       "      <th>1</th>\n",
       "      <td>HMV BONUS SPECIAL 500 pounds of genuine HMV vo...</td>\n",
       "      <td>3</td>\n",
       "    </tr>\n",
       "    <tr>\n",
       "      <th>2</th>\n",
       "      <td>Loan for any purpose £500 - £75,000. Homeowner...</td>\n",
       "      <td>3</td>\n",
       "    </tr>\n",
       "    <tr>\n",
       "      <th>3</th>\n",
       "      <td>FREE for 1st week! No1 Nokia tone 4 ur mob eve...</td>\n",
       "      <td>3</td>\n",
       "    </tr>\n",
       "    <tr>\n",
       "      <th>4</th>\n",
       "      <td>I don't know u and u don't know me. Send CHAT ...</td>\n",
       "      <td>3</td>\n",
       "    </tr>\n",
       "    <tr>\n",
       "      <th>5</th>\n",
       "      <td>Camera - You are awarded a SiPix Digital Camer...</td>\n",
       "      <td>3</td>\n",
       "    </tr>\n",
       "    <tr>\n",
       "      <th>6</th>\n",
       "      <td>Free entry in 2 a wkly comp to win FA Cup fina...</td>\n",
       "      <td>2</td>\n",
       "    </tr>\n",
       "    <tr>\n",
       "      <th>7</th>\n",
       "      <td>WINNER!! As a valued network customer you have...</td>\n",
       "      <td>2</td>\n",
       "    </tr>\n",
       "    <tr>\n",
       "      <th>8</th>\n",
       "      <td>Had your mobile 11 months or more? U R entitle...</td>\n",
       "      <td>2</td>\n",
       "    </tr>\n",
       "    <tr>\n",
       "      <th>9</th>\n",
       "      <td>SIX chances to win CASH! From 100 to 20,000 po...</td>\n",
       "      <td>2</td>\n",
       "    </tr>\n",
       "  </tbody>\n",
       "</table>\n",
       "</div>"
      ],
      "text/plain": [
       "                                        Spam message  Number of occurences\n",
       "0  Please call our customer service representativ...                     4\n",
       "1  HMV BONUS SPECIAL 500 pounds of genuine HMV vo...                     3\n",
       "2  Loan for any purpose £500 - £75,000. Homeowner...                     3\n",
       "3  FREE for 1st week! No1 Nokia tone 4 ur mob eve...                     3\n",
       "4  I don't know u and u don't know me. Send CHAT ...                     3\n",
       "5  Camera - You are awarded a SiPix Digital Camer...                     3\n",
       "6  Free entry in 2 a wkly comp to win FA Cup fina...                     2\n",
       "7  WINNER!! As a valued network customer you have...                     2\n",
       "8  Had your mobile 11 months or more? U R entitle...                     2\n",
       "9  SIX chances to win CASH! From 100 to 20,000 po...                     2"
      ]
     },
     "execution_count": 8,
     "metadata": {},
     "output_type": "execute_result"
    }
   ],
   "source": [
    "#Wyświetlenie 10 najczęściej powtarzających się wiadomości typu 'spam'\n",
    "repeated_spam = pd.DataFrame(Counter(data['Message'][data['Class']=='spam']).most_common(10))\n",
    "repeated_spam.columns = ['Spam message', 'Number of occurences']\n",
    "repeated_spam"
   ]
  },
  {
   "cell_type": "code",
   "execution_count": 9,
   "metadata": {},
   "outputs": [
    {
     "data": {
      "image/png": "[encoded data removed]",
      "text/plain": [
       "<Figure size 1080x720 with 1 Axes>"
      ]
     },
     "metadata": {
      "needs_background": "light"
     },
     "output_type": "display_data"
    }
   ],
   "source": [
    "plt.figure(figsize=(15,10))\n",
    "plt.bar(np.arange(10),repeated_spam['Number of occurences'],color='#d41717')\n",
    "plt.title(\"10 najczęściej występujących wiadomości typu 'spam'\", fontsize=18)\n",
    "plt.xlabel('Numer wiadomości zgodnie z powyższą tabelą')\n",
    "plt.ylabel('Ilość wystąpień')\n",
    "plt.show()"
   ]
  },
  {
   "cell_type": "markdown",
   "metadata": {},
   "source": [
    "**Wniosek:** 10 najczęściej powtarzających się wiadomości typu 'spam' powtarza się między 2 a 4 razy. Najczęście potarzająca się wiadomość rozpoczyna się od \"Please call our customer servece representative...\""
   ]
  },
  {
   "cell_type": "code",
   "execution_count": 10,
   "metadata": {},
   "outputs": [
    {
     "data": {
      "text/html": [
       "<div>\n",
       "<style scoped>\n",
       "    .dataframe tbody tr th:only-of-type {\n",
       "        vertical-align: middle;\n",
       "    }\n",
       "\n",
       "    .dataframe tbody tr th {\n",
       "        vertical-align: top;\n",
       "    }\n",
       "\n",
       "    .dataframe thead th {\n",
       "        text-align: right;\n",
       "    }\n",
       "</style>\n",
       "<table border=\"1\" class=\"dataframe\">\n",
       "  <thead>\n",
       "    <tr style=\"text-align: right;\">\n",
       "      <th></th>\n",
       "      <th>Ham message</th>\n",
       "      <th>Number of occurences</th>\n",
       "    </tr>\n",
       "  </thead>\n",
       "  <tbody>\n",
       "    <tr>\n",
       "      <th>0</th>\n",
       "      <td>Sorry, I'll call later</td>\n",
       "      <td>30</td>\n",
       "    </tr>\n",
       "    <tr>\n",
       "      <th>1</th>\n",
       "      <td>I cant pick the phone right now. Pls send a me...</td>\n",
       "      <td>12</td>\n",
       "    </tr>\n",
       "    <tr>\n",
       "      <th>2</th>\n",
       "      <td>Ok...</td>\n",
       "      <td>10</td>\n",
       "    </tr>\n",
       "    <tr>\n",
       "      <th>3</th>\n",
       "      <td>Wen ur lovable bcums angry wid u, dnt take it ...</td>\n",
       "      <td>4</td>\n",
       "    </tr>\n",
       "    <tr>\n",
       "      <th>4</th>\n",
       "      <td>Your opinion about me? 1. Over 2. Jada 3. Kusr...</td>\n",
       "      <td>4</td>\n",
       "    </tr>\n",
       "    <tr>\n",
       "      <th>5</th>\n",
       "      <td>7 wonders in My WORLD 7th You 6th Ur style 5th...</td>\n",
       "      <td>4</td>\n",
       "    </tr>\n",
       "    <tr>\n",
       "      <th>6</th>\n",
       "      <td>Say this slowly.? GOD,I LOVE YOU &amp;amp; I NEED ...</td>\n",
       "      <td>4</td>\n",
       "    </tr>\n",
       "    <tr>\n",
       "      <th>7</th>\n",
       "      <td>Ok</td>\n",
       "      <td>4</td>\n",
       "    </tr>\n",
       "    <tr>\n",
       "      <th>8</th>\n",
       "      <td>Ok.</td>\n",
       "      <td>4</td>\n",
       "    </tr>\n",
       "    <tr>\n",
       "      <th>9</th>\n",
       "      <td>Okie</td>\n",
       "      <td>4</td>\n",
       "    </tr>\n",
       "  </tbody>\n",
       "</table>\n",
       "</div>"
      ],
      "text/plain": [
       "                                         Ham message  Number of occurences\n",
       "0                             Sorry, I'll call later                    30\n",
       "1  I cant pick the phone right now. Pls send a me...                    12\n",
       "2                                              Ok...                    10\n",
       "3  Wen ur lovable bcums angry wid u, dnt take it ...                     4\n",
       "4  Your opinion about me? 1. Over 2. Jada 3. Kusr...                     4\n",
       "5  7 wonders in My WORLD 7th You 6th Ur style 5th...                     4\n",
       "6  Say this slowly.? GOD,I LOVE YOU &amp; I NEED ...                     4\n",
       "7                                                 Ok                     4\n",
       "8                                                Ok.                     4\n",
       "9                                               Okie                     4"
      ]
     },
     "execution_count": 10,
     "metadata": {},
     "output_type": "execute_result"
    }
   ],
   "source": [
    "#Wyświetlenie 10 najczęściej powtarzających się wiadomości typu 'ham'\n",
    "repeated_ham = pd.DataFrame(Counter(data['Message'][data['Class']=='ham']).most_common(10))\n",
    "repeated_ham.columns = ['Ham message', 'Number of occurences']\n",
    "repeated_ham"
   ]
  },
  {
   "cell_type": "code",
   "execution_count": 11,
   "metadata": {},
   "outputs": [
    {
     "data": {
      "image/png": "[encoded data removed]",
      "text/plain": [
       "<Figure size 1080x720 with 1 Axes>"
      ]
     },
     "metadata": {
      "needs_background": "light"
     },
     "output_type": "display_data"
    }
   ],
   "source": [
    "plt.figure(figsize=(15,10))\n",
    "plt.bar(np.arange(10),repeated_ham['Number of occurences'],color='lightgreen')\n",
    "plt.title(\"10 najczęściej występujących wiadomości typu 'ham'\", fontsize=18)\n",
    "plt.xlabel('Numer wiadomości zgodnie z powyższą tabelą')\n",
    "plt.ylabel('Ilość wystąpień')\n",
    "plt.show()"
   ]
  },
  {
   "cell_type": "markdown",
   "metadata": {},
   "source": [
    "**Wniosek:** 10 najczęściej powtarzających się wiadomości typu 'ham' powtarza się między 30 a 4 razy. Najczęście potarzająca się wiadomość to \"Sorry, I'll call later\"."
   ]
  },
  {
   "cell_type": "code",
   "execution_count": 12,
   "metadata": {},
   "outputs": [
    {
     "data": {
      "text/plain": [
       "False"
      ]
     },
     "execution_count": 12,
     "metadata": {},
     "output_type": "execute_result"
    }
   ],
   "source": [
    "#Sprawdzenie, czy któraś z wiadomości występuje w obu klasach\n",
    "data['Message'][data['Class']=='spam'].isin(data['Message'][data['Class']=='ham']).any()"
   ]
  },
  {
   "cell_type": "markdown",
   "metadata": {},
   "source": [
    "**Wniosek:** Żadna z wiadomości nie występuje w obu klasach na raz."
   ]
  },
  {
   "cell_type": "code",
   "execution_count": 13,
   "metadata": {},
   "outputs": [],
   "source": [
    "#Sprawdzenie długości wiadomości\n",
    "messages_length = []\n",
    "for i in range(data.shape[0]):\n",
    "    message_length = len(data['Message'][i])\n",
    "    messages_length.append(message_length)"
   ]
  },
  {
   "cell_type": "code",
   "execution_count": 14,
   "metadata": {},
   "outputs": [
    {
     "data": {
      "text/html": [
       "<div>\n",
       "<style scoped>\n",
       "    .dataframe tbody tr th:only-of-type {\n",
       "        vertical-align: middle;\n",
       "    }\n",
       "\n",
       "    .dataframe tbody tr th {\n",
       "        vertical-align: top;\n",
       "    }\n",
       "\n",
       "    .dataframe thead th {\n",
       "        text-align: right;\n",
       "    }\n",
       "</style>\n",
       "<table border=\"1\" class=\"dataframe\">\n",
       "  <thead>\n",
       "    <tr style=\"text-align: right;\">\n",
       "      <th></th>\n",
       "      <th>Długość wiadomości</th>\n",
       "      <th>Ilość wystąpień</th>\n",
       "    </tr>\n",
       "  </thead>\n",
       "  <tbody>\n",
       "    <tr>\n",
       "      <th>0</th>\n",
       "      <td>22</td>\n",
       "      <td>120</td>\n",
       "    </tr>\n",
       "    <tr>\n",
       "      <th>1</th>\n",
       "      <td>32</td>\n",
       "      <td>99</td>\n",
       "    </tr>\n",
       "    <tr>\n",
       "      <th>2</th>\n",
       "      <td>24</td>\n",
       "      <td>99</td>\n",
       "    </tr>\n",
       "    <tr>\n",
       "      <th>3</th>\n",
       "      <td>23</td>\n",
       "      <td>95</td>\n",
       "    </tr>\n",
       "    <tr>\n",
       "      <th>4</th>\n",
       "      <td>28</td>\n",
       "      <td>87</td>\n",
       "    </tr>\n",
       "    <tr>\n",
       "      <th>...</th>\n",
       "      <td>...</td>\n",
       "      <td>...</td>\n",
       "    </tr>\n",
       "    <tr>\n",
       "      <th>269</th>\n",
       "      <td>350</td>\n",
       "      <td>1</td>\n",
       "    </tr>\n",
       "    <tr>\n",
       "      <th>270</th>\n",
       "      <td>256</td>\n",
       "      <td>1</td>\n",
       "    </tr>\n",
       "    <tr>\n",
       "      <th>271</th>\n",
       "      <td>228</td>\n",
       "      <td>1</td>\n",
       "    </tr>\n",
       "    <tr>\n",
       "      <th>272</th>\n",
       "      <td>251</td>\n",
       "      <td>1</td>\n",
       "    </tr>\n",
       "    <tr>\n",
       "      <th>273</th>\n",
       "      <td>273</td>\n",
       "      <td>1</td>\n",
       "    </tr>\n",
       "  </tbody>\n",
       "</table>\n",
       "<p>274 rows × 2 columns</p>\n",
       "</div>"
      ],
      "text/plain": [
       "     Długość wiadomości  Ilość wystąpień\n",
       "0                    22              120\n",
       "1                    32               99\n",
       "2                    24               99\n",
       "3                    23               95\n",
       "4                    28               87\n",
       "..                  ...              ...\n",
       "269                 350                1\n",
       "270                 256                1\n",
       "271                 228                1\n",
       "272                 251                1\n",
       "273                 273                1\n",
       "\n",
       "[274 rows x 2 columns]"
      ]
     },
     "execution_count": 14,
     "metadata": {},
     "output_type": "execute_result"
    }
   ],
   "source": [
    "repeated_messages_length = pd.DataFrame(Counter(messages_length).most_common(300))\n",
    "repeated_messages_length.columns = ['Długość wiadomości', 'Ilość wystąpień']\n",
    "repeated_messages_length"
   ]
  },
  {
   "cell_type": "code",
   "execution_count": 15,
   "metadata": {},
   "outputs": [
    {
     "data": {
      "image/png": "[encoded data removed]",
      "text/plain": [
       "<Figure size 936x936 with 1 Axes>"
      ]
     },
     "metadata": {
      "needs_background": "light"
     },
     "output_type": "display_data"
    }
   ],
   "source": [
    "#%matplotlib qt\n",
    "%matplotlib inline\n",
    "plt.figure(figsize=(13,13))\n",
    "plt.scatter(repeated_messages_length['Długość wiadomości'], repeated_messages_length['Ilość wystąpień'])\n",
    "plt.title('Rozkład ilości wystąpień do długości wiadomości', fontsize=18)\n",
    "plt.xlabel('Długość wiadomości')\n",
    "plt.ylabel('Ilość wystąpień')\n",
    "plt.show()"
   ]
  },
  {
   "cell_type": "markdown",
   "metadata": {},
   "source": [
    "**Wniosek:** W ziorze wiadomości osiągają 274 różne długości. Najdłuższa wiadomość składa się z 910 znaków, najkrótsza - z 2 znaków. Większość wiadomości zawiera między 20 a 160 znaków. Najczęściej występująca długość wiadomości to 22 znaki (120 wystąpień)."
   ]
  },
  {
   "cell_type": "code",
   "execution_count": 16,
   "metadata": {},
   "outputs": [
    {
     "data": {
      "text/html": [
       "<div>\n",
       "<style scoped>\n",
       "    .dataframe tbody tr th:only-of-type {\n",
       "        vertical-align: middle;\n",
       "    }\n",
       "\n",
       "    .dataframe tbody tr th {\n",
       "        vertical-align: top;\n",
       "    }\n",
       "\n",
       "    .dataframe thead th {\n",
       "        text-align: right;\n",
       "    }\n",
       "</style>\n",
       "<table border=\"1\" class=\"dataframe\">\n",
       "  <thead>\n",
       "    <tr style=\"text-align: right;\">\n",
       "      <th></th>\n",
       "      <th>Słowo</th>\n",
       "      <th>Ilość wystąpień</th>\n",
       "    </tr>\n",
       "  </thead>\n",
       "  <tbody>\n",
       "    <tr>\n",
       "      <th>0</th>\n",
       "      <td>to</td>\n",
       "      <td>2237</td>\n",
       "    </tr>\n",
       "    <tr>\n",
       "      <th>1</th>\n",
       "      <td>i</td>\n",
       "      <td>2217</td>\n",
       "    </tr>\n",
       "    <tr>\n",
       "      <th>2</th>\n",
       "      <td>you</td>\n",
       "      <td>1921</td>\n",
       "    </tr>\n",
       "    <tr>\n",
       "      <th>3</th>\n",
       "      <td>a</td>\n",
       "      <td>1433</td>\n",
       "    </tr>\n",
       "    <tr>\n",
       "      <th>4</th>\n",
       "      <td>the</td>\n",
       "      <td>1329</td>\n",
       "    </tr>\n",
       "    <tr>\n",
       "      <th>5</th>\n",
       "      <td>u</td>\n",
       "      <td>998</td>\n",
       "    </tr>\n",
       "    <tr>\n",
       "      <th>6</th>\n",
       "      <td>and</td>\n",
       "      <td>968</td>\n",
       "    </tr>\n",
       "    <tr>\n",
       "      <th>7</th>\n",
       "      <td>is</td>\n",
       "      <td>869</td>\n",
       "    </tr>\n",
       "    <tr>\n",
       "      <th>8</th>\n",
       "      <td>in</td>\n",
       "      <td>859</td>\n",
       "    </tr>\n",
       "    <tr>\n",
       "      <th>9</th>\n",
       "      <td>my</td>\n",
       "      <td>755</td>\n",
       "    </tr>\n",
       "    <tr>\n",
       "      <th>10</th>\n",
       "      <td>for</td>\n",
       "      <td>704</td>\n",
       "    </tr>\n",
       "    <tr>\n",
       "      <th>11</th>\n",
       "      <td>your</td>\n",
       "      <td>677</td>\n",
       "    </tr>\n",
       "    <tr>\n",
       "      <th>12</th>\n",
       "      <td>of</td>\n",
       "      <td>614</td>\n",
       "    </tr>\n",
       "    <tr>\n",
       "      <th>13</th>\n",
       "      <td>me</td>\n",
       "      <td>611</td>\n",
       "    </tr>\n",
       "    <tr>\n",
       "      <th>14</th>\n",
       "      <td>have</td>\n",
       "      <td>571</td>\n",
       "    </tr>\n",
       "    <tr>\n",
       "      <th>15</th>\n",
       "      <td>call</td>\n",
       "      <td>559</td>\n",
       "    </tr>\n",
       "  </tbody>\n",
       "</table>\n",
       "</div>"
      ],
      "text/plain": [
       "   Słowo  Ilość wystąpień\n",
       "0     to             2237\n",
       "1      i             2217\n",
       "2    you             1921\n",
       "3      a             1433\n",
       "4    the             1329\n",
       "5      u              998\n",
       "6    and              968\n",
       "7     is              869\n",
       "8     in              859\n",
       "9     my              755\n",
       "10   for              704\n",
       "11  your              677\n",
       "12    of              614\n",
       "13    me              611\n",
       "14  have              571\n",
       "15  call              559"
      ]
     },
     "execution_count": 16,
     "metadata": {},
     "output_type": "execute_result"
    }
   ],
   "source": [
    "#Najczęściej występujące słowa w całym zbiorze\n",
    "most_common_words = pd.DataFrame(Counter(\" \".join(data['Message'].str.lower()).split()).most_common(16))\n",
    "most_common_words.columns = ['Słowo', 'Ilość wystąpień']\n",
    "most_common_words"
   ]
  },
  {
   "cell_type": "code",
   "execution_count": 17,
   "metadata": {},
   "outputs": [
    {
     "data": {
      "text/html": [
       "<div>\n",
       "<style scoped>\n",
       "    .dataframe tbody tr th:only-of-type {\n",
       "        vertical-align: middle;\n",
       "    }\n",
       "\n",
       "    .dataframe tbody tr th {\n",
       "        vertical-align: top;\n",
       "    }\n",
       "\n",
       "    .dataframe thead th {\n",
       "        text-align: right;\n",
       "    }\n",
       "</style>\n",
       "<table border=\"1\" class=\"dataframe\">\n",
       "  <thead>\n",
       "    <tr style=\"text-align: right;\">\n",
       "      <th></th>\n",
       "      <th>Słowo</th>\n",
       "      <th>Ilość wystąpień</th>\n",
       "    </tr>\n",
       "  </thead>\n",
       "  <tbody>\n",
       "    <tr>\n",
       "      <th>0</th>\n",
       "      <td>i</td>\n",
       "      <td>2181</td>\n",
       "    </tr>\n",
       "    <tr>\n",
       "      <th>1</th>\n",
       "      <td>you</td>\n",
       "      <td>1669</td>\n",
       "    </tr>\n",
       "    <tr>\n",
       "      <th>2</th>\n",
       "      <td>to</td>\n",
       "      <td>1552</td>\n",
       "    </tr>\n",
       "    <tr>\n",
       "      <th>3</th>\n",
       "      <td>the</td>\n",
       "      <td>1125</td>\n",
       "    </tr>\n",
       "    <tr>\n",
       "      <th>4</th>\n",
       "      <td>a</td>\n",
       "      <td>1058</td>\n",
       "    </tr>\n",
       "    <tr>\n",
       "      <th>5</th>\n",
       "      <td>u</td>\n",
       "      <td>881</td>\n",
       "    </tr>\n",
       "    <tr>\n",
       "      <th>6</th>\n",
       "      <td>and</td>\n",
       "      <td>846</td>\n",
       "    </tr>\n",
       "    <tr>\n",
       "      <th>7</th>\n",
       "      <td>in</td>\n",
       "      <td>790</td>\n",
       "    </tr>\n",
       "    <tr>\n",
       "      <th>8</th>\n",
       "      <td>my</td>\n",
       "      <td>745</td>\n",
       "    </tr>\n",
       "    <tr>\n",
       "      <th>9</th>\n",
       "      <td>is</td>\n",
       "      <td>717</td>\n",
       "    </tr>\n",
       "    <tr>\n",
       "      <th>10</th>\n",
       "      <td>me</td>\n",
       "      <td>590</td>\n",
       "    </tr>\n",
       "    <tr>\n",
       "      <th>11</th>\n",
       "      <td>of</td>\n",
       "      <td>519</td>\n",
       "    </tr>\n",
       "    <tr>\n",
       "      <th>12</th>\n",
       "      <td>for</td>\n",
       "      <td>502</td>\n",
       "    </tr>\n",
       "    <tr>\n",
       "      <th>13</th>\n",
       "      <td>that</td>\n",
       "      <td>444</td>\n",
       "    </tr>\n",
       "    <tr>\n",
       "      <th>14</th>\n",
       "      <td>it</td>\n",
       "      <td>441</td>\n",
       "    </tr>\n",
       "    <tr>\n",
       "      <th>15</th>\n",
       "      <td>have</td>\n",
       "      <td>436</td>\n",
       "    </tr>\n",
       "  </tbody>\n",
       "</table>\n",
       "</div>"
      ],
      "text/plain": [
       "   Słowo  Ilość wystąpień\n",
       "0      i             2181\n",
       "1    you             1669\n",
       "2     to             1552\n",
       "3    the             1125\n",
       "4      a             1058\n",
       "5      u              881\n",
       "6    and              846\n",
       "7     in              790\n",
       "8     my              745\n",
       "9     is              717\n",
       "10    me              590\n",
       "11    of              519\n",
       "12   for              502\n",
       "13  that              444\n",
       "14    it              441\n",
       "15  have              436"
      ]
     },
     "execution_count": 17,
     "metadata": {},
     "output_type": "execute_result"
    }
   ],
   "source": [
    "#Najczęściej występujące słowa w wiadomościach 'ham'\n",
    "most_common_ham_words = pd.DataFrame(Counter(\" \".join(data['Message'][data['Class']=='ham'].str.lower()).split()).most_common(16))\n",
    "most_common_ham_words.columns = ['Słowo', 'Ilość wystąpień']\n",
    "most_common_ham_words"
   ]
  },
  {
   "cell_type": "code",
   "execution_count": 18,
   "metadata": {},
   "outputs": [
    {
     "data": {
      "text/html": [
       "<div>\n",
       "<style scoped>\n",
       "    .dataframe tbody tr th:only-of-type {\n",
       "        vertical-align: middle;\n",
       "    }\n",
       "\n",
       "    .dataframe tbody tr th {\n",
       "        vertical-align: top;\n",
       "    }\n",
       "\n",
       "    .dataframe thead th {\n",
       "        text-align: right;\n",
       "    }\n",
       "</style>\n",
       "<table border=\"1\" class=\"dataframe\">\n",
       "  <thead>\n",
       "    <tr style=\"text-align: right;\">\n",
       "      <th></th>\n",
       "      <th>Słowo</th>\n",
       "      <th>Ilość wystąpień</th>\n",
       "    </tr>\n",
       "  </thead>\n",
       "  <tbody>\n",
       "    <tr>\n",
       "      <th>0</th>\n",
       "      <td>to</td>\n",
       "      <td>685</td>\n",
       "    </tr>\n",
       "    <tr>\n",
       "      <th>1</th>\n",
       "      <td>a</td>\n",
       "      <td>375</td>\n",
       "    </tr>\n",
       "    <tr>\n",
       "      <th>2</th>\n",
       "      <td>call</td>\n",
       "      <td>342</td>\n",
       "    </tr>\n",
       "    <tr>\n",
       "      <th>3</th>\n",
       "      <td>your</td>\n",
       "      <td>263</td>\n",
       "    </tr>\n",
       "    <tr>\n",
       "      <th>4</th>\n",
       "      <td>you</td>\n",
       "      <td>252</td>\n",
       "    </tr>\n",
       "    <tr>\n",
       "      <th>5</th>\n",
       "      <td>the</td>\n",
       "      <td>204</td>\n",
       "    </tr>\n",
       "    <tr>\n",
       "      <th>6</th>\n",
       "      <td>for</td>\n",
       "      <td>202</td>\n",
       "    </tr>\n",
       "    <tr>\n",
       "      <th>7</th>\n",
       "      <td>or</td>\n",
       "      <td>188</td>\n",
       "    </tr>\n",
       "    <tr>\n",
       "      <th>8</th>\n",
       "      <td>free</td>\n",
       "      <td>180</td>\n",
       "    </tr>\n",
       "    <tr>\n",
       "      <th>9</th>\n",
       "      <td>2</td>\n",
       "      <td>169</td>\n",
       "    </tr>\n",
       "    <tr>\n",
       "      <th>10</th>\n",
       "      <td>is</td>\n",
       "      <td>152</td>\n",
       "    </tr>\n",
       "    <tr>\n",
       "      <th>11</th>\n",
       "      <td>ur</td>\n",
       "      <td>144</td>\n",
       "    </tr>\n",
       "    <tr>\n",
       "      <th>12</th>\n",
       "      <td>on</td>\n",
       "      <td>142</td>\n",
       "    </tr>\n",
       "    <tr>\n",
       "      <th>13</th>\n",
       "      <td>txt</td>\n",
       "      <td>136</td>\n",
       "    </tr>\n",
       "    <tr>\n",
       "      <th>14</th>\n",
       "      <td>have</td>\n",
       "      <td>135</td>\n",
       "    </tr>\n",
       "    <tr>\n",
       "      <th>15</th>\n",
       "      <td>from</td>\n",
       "      <td>127</td>\n",
       "    </tr>\n",
       "  </tbody>\n",
       "</table>\n",
       "</div>"
      ],
      "text/plain": [
       "   Słowo  Ilość wystąpień\n",
       "0     to              685\n",
       "1      a              375\n",
       "2   call              342\n",
       "3   your              263\n",
       "4    you              252\n",
       "5    the              204\n",
       "6    for              202\n",
       "7     or              188\n",
       "8   free              180\n",
       "9      2              169\n",
       "10    is              152\n",
       "11    ur              144\n",
       "12    on              142\n",
       "13   txt              136\n",
       "14  have              135\n",
       "15  from              127"
      ]
     },
     "execution_count": 18,
     "metadata": {},
     "output_type": "execute_result"
    }
   ],
   "source": [
    "#Najczęściej występujące słowa w wiadomościach 'spam'\n",
    "most_common_spam_words = pd.DataFrame(Counter(\" \".join(data['Message'][data['Class']=='spam'].str.lower()).split()).most_common(16))\n",
    "most_common_spam_words.columns = ['Słowo', 'Ilość wystąpień']\n",
    "most_common_spam_words"
   ]
  },
  {
   "cell_type": "code",
   "execution_count": 19,
   "metadata": {},
   "outputs": [
    {
     "data": {
      "image/png": "[encoded data removed]",
      "text/plain": [
       "<Figure size 1440x1152 with 3 Axes>"
      ]
     },
     "metadata": {
      "needs_background": "light"
     },
     "output_type": "display_data"
    }
   ],
   "source": [
    "plt.figure(figsize=(20,16))\n",
    "plt.suptitle(\"16 najczęściej występujących słów\", fontsize=20)\n",
    "\n",
    "plt.subplot(131)\n",
    "plt.bar(most_common_words['Słowo'],most_common_words['Ilość wystąpień'],color='b')\n",
    "plt.title(\"we wszystkich wiadomościach\", fontsize=15)\n",
    "plt.ylim(0,2300)\n",
    "plt.xlabel('Słowo')\n",
    "plt.ylabel('Ilość wystąpień')\n",
    "\n",
    "plt.subplot(132)\n",
    "plt.bar(most_common_ham_words['Słowo'],most_common_ham_words['Ilość wystąpień'],color='lightgreen')\n",
    "plt.title(\"w wiadomościach typu 'ham'\", fontsize=15)\n",
    "plt.ylim(0,2300)\n",
    "plt.xlabel('Słowo')\n",
    "plt.ylabel('Ilość wystąpień')\n",
    "\n",
    "plt.subplot(133)\n",
    "plt.bar(most_common_spam_words['Słowo'],most_common_spam_words['Ilość wystąpień'],color='#d41717')\n",
    "plt.title(\"w wiadomościach typu 'spam'\", fontsize=15)\n",
    "plt.ylim(0,2300)\n",
    "plt.xlabel('Słowo')\n",
    "plt.ylabel('Ilość wystąpień')\n",
    "plt.show()"
   ]
  },
  {
   "cell_type": "code",
   "execution_count": 30,
   "metadata": {},
   "outputs": [
    {
     "data": {
      "image/png": "[encoded data removed]",
      "text/plain": [
       "<Figure size 1440x1152 with 3 Axes>"
      ]
     },
     "metadata": {
      "needs_background": "light"
     },
     "output_type": "display_data"
    }
   ],
   "source": [
    "all_words_sum = len(\" \".join(data['Message']).split())\n",
    "ham_words_sum = len(\" \".join(data['Message'][data['Class']=='ham']).split())\n",
    "spam_words_sum = len(\" \".join(data['Message'][data['Class']=='spam']).split())\n",
    "\n",
    "\n",
    "fig, axs = plt.subplots(1,3, gridspec_kw={'wspace': 0.18}, figsize=(20,16))\n",
    "fig.suptitle(\"16 najczęściej występujących słów w [%]\", fontsize=20)\n",
    "\n",
    "axs[0].bar(most_common_words['Słowo'],most_common_words['Ilość wystąpień']/all_words_sum*100,color='b')\n",
    "axs[0].set_title(\"we wszystkich wiadomościach\", fontsize=15)\n",
    "axs[0].set_xlabel('Słowo')\n",
    "axs[0].set_ylim(0,4)\n",
    "axs[0].set_ylabel('Ilość wystąpień [%]', fontsize=12)\n",
    "\n",
    "axs[1].bar(most_common_ham_words['Słowo'],most_common_ham_words['Ilość wystąpień']/ham_words_sum*100,color='lightgreen')\n",
    "axs[1].set_title(\"w wiadomościach typu 'ham'\", fontsize=15)\n",
    "axs[1].set_xlabel('Słowo')\n",
    "axs[1].set_ylim(0,4)\n",
    "axs[1].set_ylabel('Ilość wystąpień [%]', fontsize=12)\n",
    "\n",
    "axs[2].bar(most_common_spam_words['Słowo'],most_common_spam_words['Ilość wystąpień']/spam_words_sum*100,color='#d41717')\n",
    "axs[2].set_title(\"w wiadomościach typu 'spam'\", fontsize=15)\n",
    "axs[2].set_xlabel('Słowo')\n",
    "axs[2].set_ylim(0,4)\n",
    "axs[2].set_ylabel('Ilość wystąpień [%]', fontsize=12)\n",
    "plt.show()"
   ]
  },
  {
   "cell_type": "markdown",
   "metadata": {},
   "source": [
    "<div align=\"justify\"><strong>Wnioski:</strong> W wiadomościach obu typów można zobaczyć różnice w wyrazach, które występują najczęściej. Jednak warto zauważyć, że wśród nich znalazły się w większości mało znaczące słowa, takie jak przyimki, zaimki, przedimki. Pozostałe często stosowane słowa to czasowniki: is, call, have. Dodatkowo wśród najczęściej występujących słowach w wiadomościach typu 'spam' znalazły się także: rzeczownik: txt - prawdopodobnie skrót od text, liczebnik: 2, a także przysłówek: free.  W wiadomościach typu 'spam' słowo your występuje znacznie częściej niż w wiadomościach typu 'ham'. Jest to chyba jedyna cenna uwaga, która mogłaby pomóc w rozróżnianiu obu typów wiadomości na tym etapie analizy. Ponowną analizę należałoby przeprowadzić już po preprocessingu danych."
   ]
  },
  {
   "cell_type": "markdown",
   "metadata": {},
   "source": [
    "### Dokonaj preprocessingu danych"
   ]
  },
  {
   "cell_type": "code",
   "execution_count": 31,
   "metadata": {},
   "outputs": [
    {
     "data": {
      "text/plain": [
       "0       Go until jurong point, crazy.. Available only ...\n",
       "1                           Ok lar... Joking wif u oni...\n",
       "2       Free entry in 2 a wkly comp to win FA Cup fina...\n",
       "3       U dun say so early hor... U c already then say...\n",
       "4       Nah I don't think he goes to usf, he lives aro...\n",
       "                              ...                        \n",
       "5567    This is the 2nd time we have tried 2 contact u...\n",
       "5568                 Will ü b going to esplanade fr home?\n",
       "5569    Pity, * was in mood for that. So...any other s...\n",
       "5570    The guy did some bitching but I acted like i'd...\n",
       "5571                           Rofl. Its true to its name\n",
       "Name: Message, Length: 5572, dtype: object"
      ]
     },
     "execution_count": 31,
     "metadata": {},
     "output_type": "execute_result"
    }
   ],
   "source": [
    "data['Message']"
   ]
  },
  {
   "cell_type": "code",
   "execution_count": 32,
   "metadata": {},
   "outputs": [],
   "source": [
    "# Eliminacja znaków interpunkcyjnych z wiadomości\n",
    "punc = string.punctuation\n",
    "table = str.maketrans('','',punc)\n",
    "data['Message'] = data['Message'].apply(lambda x: x.translate(table))"
   ]
  },
  {
   "cell_type": "code",
   "execution_count": 33,
   "metadata": {},
   "outputs": [
    {
     "data": {
      "text/plain": [
       "0       Go until jurong point crazy Available only in ...\n",
       "1                                 Ok lar Joking wif u oni\n",
       "2       Free entry in 2 a wkly comp to win FA Cup fina...\n",
       "3             U dun say so early hor U c already then say\n",
       "4       Nah I dont think he goes to usf he lives aroun...\n",
       "                              ...                        \n",
       "5567    This is the 2nd time we have tried 2 contact u...\n",
       "5568                  Will ü b going to esplanade fr home\n",
       "5569    Pity  was in mood for that Soany other suggest...\n",
       "5570    The guy did some bitching but I acted like id ...\n",
       "5571                            Rofl Its true to its name\n",
       "Name: Message, Length: 5572, dtype: object"
      ]
     },
     "execution_count": 33,
     "metadata": {},
     "output_type": "execute_result"
    }
   ],
   "source": [
    "data['Message']"
   ]
  },
  {
   "cell_type": "code",
   "execution_count": 34,
   "metadata": {},
   "outputs": [
    {
     "data": {
      "text/plain": [
       "0       go until jurong point crazy available only in ...\n",
       "1                                 ok lar joking wif u oni\n",
       "2       free entry in 2 a wkly comp to win fa cup fina...\n",
       "3             u dun say so early hor u c already then say\n",
       "4       nah i dont think he goes to usf he lives aroun...\n",
       "                              ...                        \n",
       "5567    this is the 2nd time we have tried 2 contact u...\n",
       "5568                  will ü b going to esplanade fr home\n",
       "5569    pity  was in mood for that soany other suggest...\n",
       "5570    the guy did some bitching but i acted like id ...\n",
       "5571                            rofl its true to its name\n",
       "Name: Message, Length: 5572, dtype: object"
      ]
     },
     "execution_count": 34,
     "metadata": {},
     "output_type": "execute_result"
    }
   ],
   "source": [
    "# Zamiana wielkich liter na małe\n",
    "data['Message'] = data['Message'].str.lower()\n",
    "data['Message']"
   ]
  },
  {
   "cell_type": "code",
   "execution_count": 35,
   "metadata": {},
   "outputs": [
    {
     "data": {
      "text/html": [
       "<div>\n",
       "<style scoped>\n",
       "    .dataframe tbody tr th:only-of-type {\n",
       "        vertical-align: middle;\n",
       "    }\n",
       "\n",
       "    .dataframe tbody tr th {\n",
       "        vertical-align: top;\n",
       "    }\n",
       "\n",
       "    .dataframe thead th {\n",
       "        text-align: right;\n",
       "    }\n",
       "</style>\n",
       "<table border=\"1\" class=\"dataframe\">\n",
       "  <thead>\n",
       "    <tr style=\"text-align: right;\">\n",
       "      <th></th>\n",
       "      <th>Class</th>\n",
       "      <th>Message</th>\n",
       "      <th>Word tokens</th>\n",
       "    </tr>\n",
       "  </thead>\n",
       "  <tbody>\n",
       "    <tr>\n",
       "      <th>0</th>\n",
       "      <td>ham</td>\n",
       "      <td>go until jurong point crazy available only in ...</td>\n",
       "      <td>[go, until, jurong, point, crazy, available, o...</td>\n",
       "    </tr>\n",
       "    <tr>\n",
       "      <th>1</th>\n",
       "      <td>ham</td>\n",
       "      <td>ok lar joking wif u oni</td>\n",
       "      <td>[ok, lar, joking, wif, u, oni]</td>\n",
       "    </tr>\n",
       "    <tr>\n",
       "      <th>2</th>\n",
       "      <td>spam</td>\n",
       "      <td>free entry in 2 a wkly comp to win fa cup fina...</td>\n",
       "      <td>[free, entry, in, 2, a, wkly, comp, to, win, f...</td>\n",
       "    </tr>\n",
       "    <tr>\n",
       "      <th>3</th>\n",
       "      <td>ham</td>\n",
       "      <td>u dun say so early hor u c already then say</td>\n",
       "      <td>[u, dun, say, so, early, hor, u, c, already, t...</td>\n",
       "    </tr>\n",
       "    <tr>\n",
       "      <th>4</th>\n",
       "      <td>ham</td>\n",
       "      <td>nah i dont think he goes to usf he lives aroun...</td>\n",
       "      <td>[nah, i, dont, think, he, goes, to, usf, he, l...</td>\n",
       "    </tr>\n",
       "    <tr>\n",
       "      <th>...</th>\n",
       "      <td>...</td>\n",
       "      <td>...</td>\n",
       "      <td>...</td>\n",
       "    </tr>\n",
       "    <tr>\n",
       "      <th>5567</th>\n",
       "      <td>spam</td>\n",
       "      <td>this is the 2nd time we have tried 2 contact u...</td>\n",
       "      <td>[this, is, the, 2nd, time, we, have, tried, 2,...</td>\n",
       "    </tr>\n",
       "    <tr>\n",
       "      <th>5568</th>\n",
       "      <td>ham</td>\n",
       "      <td>will ü b going to esplanade fr home</td>\n",
       "      <td>[will, ü, b, going, to, esplanade, fr, home]</td>\n",
       "    </tr>\n",
       "    <tr>\n",
       "      <th>5569</th>\n",
       "      <td>ham</td>\n",
       "      <td>pity  was in mood for that soany other suggest...</td>\n",
       "      <td>[pity, , was, in, mood, for, that, soany, othe...</td>\n",
       "    </tr>\n",
       "    <tr>\n",
       "      <th>5570</th>\n",
       "      <td>ham</td>\n",
       "      <td>the guy did some bitching but i acted like id ...</td>\n",
       "      <td>[the, guy, did, some, bitching, but, i, acted,...</td>\n",
       "    </tr>\n",
       "    <tr>\n",
       "      <th>5571</th>\n",
       "      <td>ham</td>\n",
       "      <td>rofl its true to its name</td>\n",
       "      <td>[rofl, its, true, to, its, name]</td>\n",
       "    </tr>\n",
       "  </tbody>\n",
       "</table>\n",
       "<p>5572 rows × 3 columns</p>\n",
       "</div>"
      ],
      "text/plain": [
       "     Class                                            Message  \\\n",
       "0      ham  go until jurong point crazy available only in ...   \n",
       "1      ham                            ok lar joking wif u oni   \n",
       "2     spam  free entry in 2 a wkly comp to win fa cup fina...   \n",
       "3      ham        u dun say so early hor u c already then say   \n",
       "4      ham  nah i dont think he goes to usf he lives aroun...   \n",
       "...    ...                                                ...   \n",
       "5567  spam  this is the 2nd time we have tried 2 contact u...   \n",
       "5568   ham                will ü b going to esplanade fr home   \n",
       "5569   ham  pity  was in mood for that soany other suggest...   \n",
       "5570   ham  the guy did some bitching but i acted like id ...   \n",
       "5571   ham                          rofl its true to its name   \n",
       "\n",
       "                                            Word tokens  \n",
       "0     [go, until, jurong, point, crazy, available, o...  \n",
       "1                        [ok, lar, joking, wif, u, oni]  \n",
       "2     [free, entry, in, 2, a, wkly, comp, to, win, f...  \n",
       "3     [u, dun, say, so, early, hor, u, c, already, t...  \n",
       "4     [nah, i, dont, think, he, goes, to, usf, he, l...  \n",
       "...                                                 ...  \n",
       "5567  [this, is, the, 2nd, time, we, have, tried, 2,...  \n",
       "5568       [will, ü, b, going, to, esplanade, fr, home]  \n",
       "5569  [pity, , was, in, mood, for, that, soany, othe...  \n",
       "5570  [the, guy, did, some, bitching, but, i, acted,...  \n",
       "5571                   [rofl, its, true, to, its, name]  \n",
       "\n",
       "[5572 rows x 3 columns]"
      ]
     },
     "execution_count": 35,
     "metadata": {},
     "output_type": "execute_result"
    }
   ],
   "source": [
    "# Podział wiadomości na tokeny (słowa)\n",
    "data['Word tokens'] = data.apply(lambda x: x['Message'].split(' '), axis=1)\n",
    "data"
   ]
  },
  {
   "cell_type": "code",
   "execution_count": 36,
   "metadata": {},
   "outputs": [],
   "source": [
    "# Konwersja tokenów na lemma\n",
    "lemmatizer = WordNetLemmatizer()\n",
    "data['Lemmas'] = data.apply(lambda x: [lemmatizer.lemmatize(word, pos=\"v\") for word in x['Word tokens']], axis=1)"
   ]
  },
  {
   "cell_type": "code",
   "execution_count": 37,
   "metadata": {},
   "outputs": [
    {
     "data": {
      "text/html": [
       "<div>\n",
       "<style scoped>\n",
       "    .dataframe tbody tr th:only-of-type {\n",
       "        vertical-align: middle;\n",
       "    }\n",
       "\n",
       "    .dataframe tbody tr th {\n",
       "        vertical-align: top;\n",
       "    }\n",
       "\n",
       "    .dataframe thead th {\n",
       "        text-align: right;\n",
       "    }\n",
       "</style>\n",
       "<table border=\"1\" class=\"dataframe\">\n",
       "  <thead>\n",
       "    <tr style=\"text-align: right;\">\n",
       "      <th></th>\n",
       "      <th>Class</th>\n",
       "      <th>Message</th>\n",
       "      <th>Word tokens</th>\n",
       "      <th>Lemmas</th>\n",
       "    </tr>\n",
       "  </thead>\n",
       "  <tbody>\n",
       "    <tr>\n",
       "      <th>0</th>\n",
       "      <td>ham</td>\n",
       "      <td>go until jurong point crazy available only in ...</td>\n",
       "      <td>[go, until, jurong, point, crazy, available, o...</td>\n",
       "      <td>[go, until, jurong, point, crazy, available, o...</td>\n",
       "    </tr>\n",
       "    <tr>\n",
       "      <th>1</th>\n",
       "      <td>ham</td>\n",
       "      <td>ok lar joking wif u oni</td>\n",
       "      <td>[ok, lar, joking, wif, u, oni]</td>\n",
       "      <td>[ok, lar, joke, wif, u, oni]</td>\n",
       "    </tr>\n",
       "    <tr>\n",
       "      <th>2</th>\n",
       "      <td>spam</td>\n",
       "      <td>free entry in 2 a wkly comp to win fa cup fina...</td>\n",
       "      <td>[free, entry, in, 2, a, wkly, comp, to, win, f...</td>\n",
       "      <td>[free, entry, in, 2, a, wkly, comp, to, win, f...</td>\n",
       "    </tr>\n",
       "    <tr>\n",
       "      <th>3</th>\n",
       "      <td>ham</td>\n",
       "      <td>u dun say so early hor u c already then say</td>\n",
       "      <td>[u, dun, say, so, early, hor, u, c, already, t...</td>\n",
       "      <td>[u, dun, say, so, early, hor, u, c, already, t...</td>\n",
       "    </tr>\n",
       "    <tr>\n",
       "      <th>4</th>\n",
       "      <td>ham</td>\n",
       "      <td>nah i dont think he goes to usf he lives aroun...</td>\n",
       "      <td>[nah, i, dont, think, he, goes, to, usf, he, l...</td>\n",
       "      <td>[nah, i, dont, think, he, go, to, usf, he, liv...</td>\n",
       "    </tr>\n",
       "    <tr>\n",
       "      <th>...</th>\n",
       "      <td>...</td>\n",
       "      <td>...</td>\n",
       "      <td>...</td>\n",
       "      <td>...</td>\n",
       "    </tr>\n",
       "    <tr>\n",
       "      <th>5567</th>\n",
       "      <td>spam</td>\n",
       "      <td>this is the 2nd time we have tried 2 contact u...</td>\n",
       "      <td>[this, is, the, 2nd, time, we, have, tried, 2,...</td>\n",
       "      <td>[this, be, the, 2nd, time, we, have, try, 2, c...</td>\n",
       "    </tr>\n",
       "    <tr>\n",
       "      <th>5568</th>\n",
       "      <td>ham</td>\n",
       "      <td>will ü b going to esplanade fr home</td>\n",
       "      <td>[will, ü, b, going, to, esplanade, fr, home]</td>\n",
       "      <td>[will, ü, b, go, to, esplanade, fr, home]</td>\n",
       "    </tr>\n",
       "    <tr>\n",
       "      <th>5569</th>\n",
       "      <td>ham</td>\n",
       "      <td>pity  was in mood for that soany other suggest...</td>\n",
       "      <td>[pity, , was, in, mood, for, that, soany, othe...</td>\n",
       "      <td>[pity, , be, in, mood, for, that, soany, other...</td>\n",
       "    </tr>\n",
       "    <tr>\n",
       "      <th>5570</th>\n",
       "      <td>ham</td>\n",
       "      <td>the guy did some bitching but i acted like id ...</td>\n",
       "      <td>[the, guy, did, some, bitching, but, i, acted,...</td>\n",
       "      <td>[the, guy, do, some, bitch, but, i, act, like,...</td>\n",
       "    </tr>\n",
       "    <tr>\n",
       "      <th>5571</th>\n",
       "      <td>ham</td>\n",
       "      <td>rofl its true to its name</td>\n",
       "      <td>[rofl, its, true, to, its, name]</td>\n",
       "      <td>[rofl, its, true, to, its, name]</td>\n",
       "    </tr>\n",
       "  </tbody>\n",
       "</table>\n",
       "<p>5572 rows × 4 columns</p>\n",
       "</div>"
      ],
      "text/plain": [
       "     Class                                            Message  \\\n",
       "0      ham  go until jurong point crazy available only in ...   \n",
       "1      ham                            ok lar joking wif u oni   \n",
       "2     spam  free entry in 2 a wkly comp to win fa cup fina...   \n",
       "3      ham        u dun say so early hor u c already then say   \n",
       "4      ham  nah i dont think he goes to usf he lives aroun...   \n",
       "...    ...                                                ...   \n",
       "5567  spam  this is the 2nd time we have tried 2 contact u...   \n",
       "5568   ham                will ü b going to esplanade fr home   \n",
       "5569   ham  pity  was in mood for that soany other suggest...   \n",
       "5570   ham  the guy did some bitching but i acted like id ...   \n",
       "5571   ham                          rofl its true to its name   \n",
       "\n",
       "                                            Word tokens  \\\n",
       "0     [go, until, jurong, point, crazy, available, o...   \n",
       "1                        [ok, lar, joking, wif, u, oni]   \n",
       "2     [free, entry, in, 2, a, wkly, comp, to, win, f...   \n",
       "3     [u, dun, say, so, early, hor, u, c, already, t...   \n",
       "4     [nah, i, dont, think, he, goes, to, usf, he, l...   \n",
       "...                                                 ...   \n",
       "5567  [this, is, the, 2nd, time, we, have, tried, 2,...   \n",
       "5568       [will, ü, b, going, to, esplanade, fr, home]   \n",
       "5569  [pity, , was, in, mood, for, that, soany, othe...   \n",
       "5570  [the, guy, did, some, bitching, but, i, acted,...   \n",
       "5571                   [rofl, its, true, to, its, name]   \n",
       "\n",
       "                                                 Lemmas  \n",
       "0     [go, until, jurong, point, crazy, available, o...  \n",
       "1                          [ok, lar, joke, wif, u, oni]  \n",
       "2     [free, entry, in, 2, a, wkly, comp, to, win, f...  \n",
       "3     [u, dun, say, so, early, hor, u, c, already, t...  \n",
       "4     [nah, i, dont, think, he, go, to, usf, he, liv...  \n",
       "...                                                 ...  \n",
       "5567  [this, be, the, 2nd, time, we, have, try, 2, c...  \n",
       "5568          [will, ü, b, go, to, esplanade, fr, home]  \n",
       "5569  [pity, , be, in, mood, for, that, soany, other...  \n",
       "5570  [the, guy, do, some, bitch, but, i, act, like,...  \n",
       "5571                   [rofl, its, true, to, its, name]  \n",
       "\n",
       "[5572 rows x 4 columns]"
      ]
     },
     "execution_count": 37,
     "metadata": {},
     "output_type": "execute_result"
    }
   ],
   "source": [
    "data"
   ]
  },
  {
   "cell_type": "code",
   "execution_count": 38,
   "metadata": {},
   "outputs": [],
   "source": [
    "#Porównanie wynik lemmizacji z wynikiem działania oryginalnego algorytmu Portera dla losowych 8 wiadomości z każdej klasy\n",
    "ps = PorterStemmer()\n",
    "\n",
    "# Wybór 8 wiadomości każdej z klas\n",
    "ham_choosen_indexes = sample(set(np.where(data[\"Class\"]=='ham')[0]), 8)\n",
    "spam_choosen_indexes = sample(set(np.where(data[\"Class\"]=='spam')[0]), 8)\n",
    "set_of_8_ham_messages = data.iloc[ham_choosen_indexes,:]\n",
    "set_of_8_spam_messages = data.iloc[spam_choosen_indexes,:]"
   ]
  },
  {
   "cell_type": "code",
   "execution_count": 39,
   "metadata": {},
   "outputs": [
    {
     "data": {
      "text/html": [
       "<div>\n",
       "<style scoped>\n",
       "    .dataframe tbody tr th:only-of-type {\n",
       "        vertical-align: middle;\n",
       "    }\n",
       "\n",
       "    .dataframe tbody tr th {\n",
       "        vertical-align: top;\n",
       "    }\n",
       "\n",
       "    .dataframe thead th {\n",
       "        text-align: right;\n",
       "    }\n",
       "</style>\n",
       "<table border=\"1\" class=\"dataframe\">\n",
       "  <thead>\n",
       "    <tr style=\"text-align: right;\">\n",
       "      <th></th>\n",
       "      <th>Class</th>\n",
       "      <th>Message</th>\n",
       "      <th>Word tokens</th>\n",
       "      <th>Lemmas</th>\n",
       "    </tr>\n",
       "  </thead>\n",
       "  <tbody>\n",
       "    <tr>\n",
       "      <th>3916</th>\n",
       "      <td>ham</td>\n",
       "      <td>ard 530 lor i ok then message ü lor</td>\n",
       "      <td>[ard, 530, lor, i, ok, then, message, ü, lor]</td>\n",
       "      <td>[ard, 530, lor, i, ok, then, message, ü, lor]</td>\n",
       "    </tr>\n",
       "    <tr>\n",
       "      <th>2135</th>\n",
       "      <td>ham</td>\n",
       "      <td>if he started searching he will get job in few...</td>\n",
       "      <td>[if, he, started, searching, he, will, get, jo...</td>\n",
       "      <td>[if, he, start, search, he, will, get, job, in...</td>\n",
       "    </tr>\n",
       "    <tr>\n",
       "      <th>4451</th>\n",
       "      <td>ham</td>\n",
       "      <td>awesome be there in a minute</td>\n",
       "      <td>[awesome, be, there, in, a, minute]</td>\n",
       "      <td>[awesome, be, there, in, a, minute]</td>\n",
       "    </tr>\n",
       "    <tr>\n",
       "      <th>4710</th>\n",
       "      <td>ham</td>\n",
       "      <td>haha awesome i might need to take you up on th...</td>\n",
       "      <td>[haha, awesome, i, might, need, to, take, you,...</td>\n",
       "      <td>[haha, awesome, i, might, need, to, take, you,...</td>\n",
       "    </tr>\n",
       "    <tr>\n",
       "      <th>884</th>\n",
       "      <td>ham</td>\n",
       "      <td>dude we should go sup again</td>\n",
       "      <td>[dude, we, should, go, sup, again]</td>\n",
       "      <td>[dude, we, should, go, sup, again]</td>\n",
       "    </tr>\n",
       "    <tr>\n",
       "      <th>2901</th>\n",
       "      <td>ham</td>\n",
       "      <td>come aftr  ltdecimalgt now i m cleaning the house</td>\n",
       "      <td>[come, aftr, , ltdecimalgt, now, i, m, cleanin...</td>\n",
       "      <td>[come, aftr, , ltdecimalgt, now, i, m, clean, ...</td>\n",
       "    </tr>\n",
       "    <tr>\n",
       "      <th>3820</th>\n",
       "      <td>ham</td>\n",
       "      <td>sorry brah just finished the last of my exams ...</td>\n",
       "      <td>[sorry, brah, just, finished, the, last, of, m...</td>\n",
       "      <td>[sorry, brah, just, finish, the, last, of, my,...</td>\n",
       "    </tr>\n",
       "    <tr>\n",
       "      <th>3135</th>\n",
       "      <td>ham</td>\n",
       "      <td>ok going to sleep hope i can meet her</td>\n",
       "      <td>[ok, going, to, sleep, hope, i, can, meet, her]</td>\n",
       "      <td>[ok, go, to, sleep, hope, i, can, meet, her]</td>\n",
       "    </tr>\n",
       "  </tbody>\n",
       "</table>\n",
       "</div>"
      ],
      "text/plain": [
       "     Class                                            Message  \\\n",
       "3916   ham                ard 530 lor i ok then message ü lor   \n",
       "2135   ham  if he started searching he will get job in few...   \n",
       "4451   ham                       awesome be there in a minute   \n",
       "4710   ham  haha awesome i might need to take you up on th...   \n",
       "884    ham                        dude we should go sup again   \n",
       "2901   ham  come aftr  ltdecimalgt now i m cleaning the house   \n",
       "3820   ham  sorry brah just finished the last of my exams ...   \n",
       "3135   ham              ok going to sleep hope i can meet her   \n",
       "\n",
       "                                            Word tokens  \\\n",
       "3916      [ard, 530, lor, i, ok, then, message, ü, lor]   \n",
       "2135  [if, he, started, searching, he, will, get, jo...   \n",
       "4451                [awesome, be, there, in, a, minute]   \n",
       "4710  [haha, awesome, i, might, need, to, take, you,...   \n",
       "884                  [dude, we, should, go, sup, again]   \n",
       "2901  [come, aftr, , ltdecimalgt, now, i, m, cleanin...   \n",
       "3820  [sorry, brah, just, finished, the, last, of, m...   \n",
       "3135    [ok, going, to, sleep, hope, i, can, meet, her]   \n",
       "\n",
       "                                                 Lemmas  \n",
       "3916      [ard, 530, lor, i, ok, then, message, ü, lor]  \n",
       "2135  [if, he, start, search, he, will, get, job, in...  \n",
       "4451                [awesome, be, there, in, a, minute]  \n",
       "4710  [haha, awesome, i, might, need, to, take, you,...  \n",
       "884                  [dude, we, should, go, sup, again]  \n",
       "2901  [come, aftr, , ltdecimalgt, now, i, m, clean, ...  \n",
       "3820  [sorry, brah, just, finish, the, last, of, my,...  \n",
       "3135       [ok, go, to, sleep, hope, i, can, meet, her]  "
      ]
     },
     "execution_count": 39,
     "metadata": {},
     "output_type": "execute_result"
    }
   ],
   "source": [
    "set_of_8_ham_messages"
   ]
  },
  {
   "cell_type": "code",
   "execution_count": 40,
   "metadata": {},
   "outputs": [
    {
     "data": {
      "text/html": [
       "<div>\n",
       "<style scoped>\n",
       "    .dataframe tbody tr th:only-of-type {\n",
       "        vertical-align: middle;\n",
       "    }\n",
       "\n",
       "    .dataframe tbody tr th {\n",
       "        vertical-align: top;\n",
       "    }\n",
       "\n",
       "    .dataframe thead th {\n",
       "        text-align: right;\n",
       "    }\n",
       "</style>\n",
       "<table border=\"1\" class=\"dataframe\">\n",
       "  <thead>\n",
       "    <tr style=\"text-align: right;\">\n",
       "      <th></th>\n",
       "      <th>Class</th>\n",
       "      <th>Message</th>\n",
       "      <th>Word tokens</th>\n",
       "      <th>Lemmas</th>\n",
       "    </tr>\n",
       "  </thead>\n",
       "  <tbody>\n",
       "    <tr>\n",
       "      <th>4011</th>\n",
       "      <td>spam</td>\n",
       "      <td>wan2 win a meetgreet with westlife 4 u or a m8...</td>\n",
       "      <td>[wan2, win, a, meetgreet, with, westlife, 4, u...</td>\n",
       "      <td>[wan2, win, a, meetgreet, with, westlife, 4, u...</td>\n",
       "    </tr>\n",
       "    <tr>\n",
       "      <th>3092</th>\n",
       "      <td>spam</td>\n",
       "      <td>lord of the ringsreturn of the king in store n...</td>\n",
       "      <td>[lord, of, the, ringsreturn, of, the, king, in...</td>\n",
       "      <td>[lord, of, the, ringsreturn, of, the, king, in...</td>\n",
       "    </tr>\n",
       "    <tr>\n",
       "      <th>3530</th>\n",
       "      <td>spam</td>\n",
       "      <td>xmas  new years eve tickets are now on sale fr...</td>\n",
       "      <td>[xmas, , new, years, eve, tickets, are, now, o...</td>\n",
       "      <td>[xmas, , new, years, eve, ticket, be, now, on,...</td>\n",
       "    </tr>\n",
       "    <tr>\n",
       "      <th>3289</th>\n",
       "      <td>spam</td>\n",
       "      <td>someone u know has asked our dating service 2 ...</td>\n",
       "      <td>[someone, u, know, has, asked, our, dating, se...</td>\n",
       "      <td>[someone, u, know, have, ask, our, date, servi...</td>\n",
       "    </tr>\n",
       "    <tr>\n",
       "      <th>3463</th>\n",
       "      <td>spam</td>\n",
       "      <td>bloomberg message center 447797706009 why wait...</td>\n",
       "      <td>[bloomberg, message, center, 447797706009, why...</td>\n",
       "      <td>[bloomberg, message, center, 447797706009, why...</td>\n",
       "    </tr>\n",
       "    <tr>\n",
       "      <th>2804</th>\n",
       "      <td>spam</td>\n",
       "      <td>freemsgfav xmas tonesreply real</td>\n",
       "      <td>[freemsgfav, xmas, tonesreply, real]</td>\n",
       "      <td>[freemsgfav, xmas, tonesreply, real]</td>\n",
       "    </tr>\n",
       "    <tr>\n",
       "      <th>1518</th>\n",
       "      <td>spam</td>\n",
       "      <td>our brand new mobile music service is now live...</td>\n",
       "      <td>[our, brand, new, mobile, music, service, is, ...</td>\n",
       "      <td>[our, brand, new, mobile, music, service, be, ...</td>\n",
       "    </tr>\n",
       "    <tr>\n",
       "      <th>1072</th>\n",
       "      <td>spam</td>\n",
       "      <td>urgent we are trying to contact u todays draw ...</td>\n",
       "      <td>[urgent, we, are, trying, to, contact, u, toda...</td>\n",
       "      <td>[urgent, we, be, try, to, contact, u, todays, ...</td>\n",
       "    </tr>\n",
       "  </tbody>\n",
       "</table>\n",
       "</div>"
      ],
      "text/plain": [
       "     Class                                            Message  \\\n",
       "4011  spam  wan2 win a meetgreet with westlife 4 u or a m8...   \n",
       "3092  spam  lord of the ringsreturn of the king in store n...   \n",
       "3530  spam  xmas  new years eve tickets are now on sale fr...   \n",
       "3289  spam  someone u know has asked our dating service 2 ...   \n",
       "3463  spam  bloomberg message center 447797706009 why wait...   \n",
       "2804  spam                    freemsgfav xmas tonesreply real   \n",
       "1518  spam  our brand new mobile music service is now live...   \n",
       "1072  spam  urgent we are trying to contact u todays draw ...   \n",
       "\n",
       "                                            Word tokens  \\\n",
       "4011  [wan2, win, a, meetgreet, with, westlife, 4, u...   \n",
       "3092  [lord, of, the, ringsreturn, of, the, king, in...   \n",
       "3530  [xmas, , new, years, eve, tickets, are, now, o...   \n",
       "3289  [someone, u, know, has, asked, our, dating, se...   \n",
       "3463  [bloomberg, message, center, 447797706009, why...   \n",
       "2804               [freemsgfav, xmas, tonesreply, real]   \n",
       "1518  [our, brand, new, mobile, music, service, is, ...   \n",
       "1072  [urgent, we, are, trying, to, contact, u, toda...   \n",
       "\n",
       "                                                 Lemmas  \n",
       "4011  [wan2, win, a, meetgreet, with, westlife, 4, u...  \n",
       "3092  [lord, of, the, ringsreturn, of, the, king, in...  \n",
       "3530  [xmas, , new, years, eve, ticket, be, now, on,...  \n",
       "3289  [someone, u, know, have, ask, our, date, servi...  \n",
       "3463  [bloomberg, message, center, 447797706009, why...  \n",
       "2804               [freemsgfav, xmas, tonesreply, real]  \n",
       "1518  [our, brand, new, mobile, music, service, be, ...  \n",
       "1072  [urgent, we, be, try, to, contact, u, todays, ...  "
      ]
     },
     "execution_count": 40,
     "metadata": {},
     "output_type": "execute_result"
    }
   ],
   "source": [
    "set_of_8_spam_messages"
   ]
  },
  {
   "cell_type": "code",
   "execution_count": 41,
   "metadata": {},
   "outputs": [],
   "source": [
    "# Porównanie dla wiadomości typu 'ham'\n",
    "stemmed_ham_messages = set_of_8_ham_messages.apply(lambda x: [ps.stem(word) for word in x['Word tokens']],axis=1)"
   ]
  },
  {
   "cell_type": "code",
   "execution_count": 42,
   "metadata": {},
   "outputs": [
    {
     "data": {
      "text/plain": [
       "array([list(['ard', '530', 'lor', 'i', 'ok', 'then', 'messag', 'ü', 'lor']),\n",
       "       list(['if', 'he', 'start', 'search', 'he', 'will', 'get', 'job', 'in', 'few', 'daysh', 'have', 'great', 'potenti', 'and', 'talent']),\n",
       "       list(['awesom', 'be', 'there', 'in', 'a', 'minut']),\n",
       "       list(['haha', 'awesom', 'i', 'might', 'need', 'to', 'take', 'you', 'up', 'on', 'that', 'what', 'you', 'doin', 'tonight']),\n",
       "       list(['dude', 'we', 'should', 'go', 'sup', 'again']),\n",
       "       list(['come', 'aftr', '', 'ltdecimalgt', 'now', 'i', 'm', 'clean', 'the', 'hous']),\n",
       "       list(['sorri', 'brah', 'just', 'finish', 'the', 'last', 'of', 'my', 'exam', 'what', 'up']),\n",
       "       list(['ok', 'go', 'to', 'sleep', 'hope', 'i', 'can', 'meet', 'her'])],\n",
       "      dtype=object)"
      ]
     },
     "execution_count": 42,
     "metadata": {},
     "output_type": "execute_result"
    }
   ],
   "source": [
    "stemmed_ham_messages.values"
   ]
  },
  {
   "cell_type": "code",
   "execution_count": 43,
   "metadata": {},
   "outputs": [
    {
     "data": {
      "text/plain": [
       "array([list(['ard', '530', 'lor', 'i', 'ok', 'then', 'message', 'ü', 'lor']),\n",
       "       list(['if', 'he', 'start', 'search', 'he', 'will', 'get', 'job', 'in', 'few', 'dayshe', 'have', 'great', 'potential', 'and', 'talent']),\n",
       "       list(['awesome', 'be', 'there', 'in', 'a', 'minute']),\n",
       "       list(['haha', 'awesome', 'i', 'might', 'need', 'to', 'take', 'you', 'up', 'on', 'that', 'what', 'you', 'doin', 'tonight']),\n",
       "       list(['dude', 'we', 'should', 'go', 'sup', 'again']),\n",
       "       list(['come', 'aftr', '', 'ltdecimalgt', 'now', 'i', 'm', 'clean', 'the', 'house']),\n",
       "       list(['sorry', 'brah', 'just', 'finish', 'the', 'last', 'of', 'my', 'exams', 'what', 'up']),\n",
       "       list(['ok', 'go', 'to', 'sleep', 'hope', 'i', 'can', 'meet', 'her'])],\n",
       "      dtype=object)"
      ]
     },
     "execution_count": 43,
     "metadata": {},
     "output_type": "execute_result"
    }
   ],
   "source": [
    "set_of_8_ham_messages['Lemmas'].values"
   ]
  },
  {
   "cell_type": "code",
   "execution_count": 44,
   "metadata": {},
   "outputs": [
    {
     "data": {
      "text/plain": [
       "3916    False\n",
       "2135    False\n",
       "4451    False\n",
       "4710    False\n",
       "884      True\n",
       "2901    False\n",
       "3820    False\n",
       "3135     True\n",
       "dtype: bool"
      ]
     },
     "execution_count": 44,
     "metadata": {},
     "output_type": "execute_result"
    }
   ],
   "source": [
    "stemmed_ham_messages == set_of_8_ham_messages['Lemmas']"
   ]
  },
  {
   "cell_type": "markdown",
   "metadata": {},
   "source": [
    "<div align=\"justify\"><strong>Wnioski:</strong> Tylko dwie z ośmiu wiadomości zostały przetworzone w taki sam sposób przez w wyniku lemmizacji i działania oryginalnego algorytmu Portera. W wyniku lemmizacji można otrzymać podstawowe formy danej części mowy, np. czasowników. Tymczasem algorytm Portera skraca rzeczowniki do ich podstawy słowotwórczej lub - w przypadku występowania 'y' na końcu wyrazu zamienia go na 'i', przez co upodabnia zapis wyrazu do jego wymowy."
   ]
  },
  {
   "cell_type": "code",
   "execution_count": 45,
   "metadata": {},
   "outputs": [],
   "source": [
    "# Porównanie dla wiadomości typu 'spam'\n",
    "stemmed_spam_messages = set_of_8_spam_messages.apply(lambda x: [ps.stem(word) for word in x['Word tokens']],axis=1)"
   ]
  },
  {
   "cell_type": "code",
   "execution_count": 46,
   "metadata": {},
   "outputs": [
    {
     "data": {
      "text/plain": [
       "array([list(['wan2', 'win', 'a', 'meetgreet', 'with', 'westlif', '4', 'u', 'or', 'a', 'm8', 'they', 'are', 'current', 'on', 'what', 'tour', '1unbreak', '2untam', '3unkempt', 'text', '12', 'or', '3', 'to', '83049', 'cost', '50p', 'std', 'text']),\n",
       "       list(['lord', 'of', 'the', 'ringsreturn', 'of', 'the', 'king', 'in', 'store', 'nowrepli', 'lotr', 'by', '2', 'june', '4', 'chanc', '2', 'win', 'lotr', 'soundtrack', 'cd', 'stdtxtrate', 'repli', 'stop', 'to', 'end', 'txt']),\n",
       "       list(['xma', '', 'new', 'year', 'eve', 'ticket', 'are', 'now', 'on', 'sale', 'from', 'the', 'club', 'dure', 'the', 'day', 'from', '10am', 'till', '8pm', 'and', 'on', 'thur', 'fri', '', 'sat', 'night', 'thi', 'week', 'theyr', 'sell', 'fast']),\n",
       "       list(['someon', 'u', 'know', 'ha', 'ask', 'our', 'date', 'servic', '2', 'contact', 'you', 'cant', 'guess', 'who', 'call', '09058097189', 'now', 'all', 'will', 'be', 'reveal', 'pobox', '6', 'ls15hb', '150p', '']),\n",
       "       list(['bloomberg', 'messag', 'center', '447797706009', 'whi', 'wait', 'appli', 'for', 'your', 'futur', 'httpcareer', 'bloombergcom']),\n",
       "       list(['freemsgfav', 'xma', 'tonesrepli', 'real']),\n",
       "       list(['our', 'brand', 'new', 'mobil', 'music', 'servic', 'is', 'now', 'live', 'the', 'free', 'music', 'player', 'will', 'arriv', 'shortli', 'just', 'instal', 'on', 'your', 'phone', 'to', 'brows', 'content', 'from', 'the', 'top', 'artist']),\n",
       "       list(['urgent', 'we', 'are', 'tri', 'to', 'contact', 'u', 'today', 'draw', 'show', 'that', 'you', 'have', 'won', 'a', '£800', 'prize', 'guarante', 'call', '09050003091', 'from', 'land', 'line', 'claim', 'c52', 'valid12hr', 'onli'])],\n",
       "      dtype=object)"
      ]
     },
     "execution_count": 46,
     "metadata": {},
     "output_type": "execute_result"
    }
   ],
   "source": [
    "stemmed_spam_messages.values"
   ]
  },
  {
   "cell_type": "code",
   "execution_count": 47,
   "metadata": {},
   "outputs": [
    {
     "name": "stdout",
     "output_type": "stream",
     "text": [
      "[list(['wan2', 'win', 'a', 'meetgreet', 'with', 'westlife', '4', 'u', 'or', 'a', 'm8', 'they', 'be', 'currently', 'on', 'what', 'tour', '1unbreakable', '2untamed', '3unkempt', 'text', '12', 'or', '3', 'to', '83049', 'cost', '50p', 'std', 'text'])\n",
      " list(['lord', 'of', 'the', 'ringsreturn', 'of', 'the', 'king', 'in', 'store', 'nowreply', 'lotr', 'by', '2', 'june', '4', 'chance', '2', 'win', 'lotr', 'soundtrack', 'cds', 'stdtxtrate', 'reply', 'stop', 'to', 'end', 'txts'])\n",
      " list(['xmas', '', 'new', 'years', 'eve', 'ticket', 'be', 'now', 'on', 'sale', 'from', 'the', 'club', 'during', 'the', 'day', 'from', '10am', 'till', '8pm', 'and', 'on', 'thurs', 'fri', '', 'sit', 'night', 'this', 'week', 'theyre', 'sell', 'fast'])\n",
      " list(['someone', 'u', 'know', 'have', 'ask', 'our', 'date', 'service', '2', 'contact', 'you', 'cant', 'guess', 'who', 'call', '09058097189', 'now', 'all', 'will', 'be', 'reveal', 'pobox', '6', 'ls15hb', '150p', ''])\n",
      " list(['bloomberg', 'message', 'center', '447797706009', 'why', 'wait', 'apply', 'for', 'your', 'future', 'httpcareers', 'bloombergcom'])\n",
      " list(['freemsgfav', 'xmas', 'tonesreply', 'real'])\n",
      " list(['our', 'brand', 'new', 'mobile', 'music', 'service', 'be', 'now', 'live', 'the', 'free', 'music', 'player', 'will', 'arrive', 'shortly', 'just', 'install', 'on', 'your', 'phone', 'to', 'browse', 'content', 'from', 'the', 'top', 'artists'])\n",
      " list(['urgent', 'we', 'be', 'try', 'to', 'contact', 'u', 'todays', 'draw', 'show', 'that', 'you', 'have', 'win', 'a', '£800', 'prize', 'guarantee', 'call', '09050003091', 'from', 'land', 'line', 'claim', 'c52', 'valid12hrs', 'only'])]\n"
     ]
    }
   ],
   "source": [
    "print(set_of_8_spam_messages['Lemmas'].values)"
   ]
  },
  {
   "cell_type": "code",
   "execution_count": 48,
   "metadata": {},
   "outputs": [
    {
     "data": {
      "text/plain": [
       "4011    False\n",
       "3092    False\n",
       "3530    False\n",
       "3289    False\n",
       "3463    False\n",
       "2804    False\n",
       "1518    False\n",
       "1072    False\n",
       "dtype: bool"
      ]
     },
     "execution_count": 48,
     "metadata": {},
     "output_type": "execute_result"
    }
   ],
   "source": [
    "stemmed_spam_messages == set_of_8_spam_messages['Lemmas']"
   ]
  },
  {
   "cell_type": "markdown",
   "metadata": {},
   "source": [
    "<div align=\"justify\"><strong>Wnioski:</strong> Żadne z ośmiu zdań ze zbioru wiadomości 'spam' nie zostało przetworzone w ten sam sposów w wyniku lemmizacji i działania algorytmu Portera. W przypadku wiadomości tego typu można zauważyć podobne zależności w różnicach ich przetwarzania przez oba algorytmy, co w przypadku wiadomości typu 'ham': pozostawanie podstawy słowotwórczej i zamiana występującego na końcu wyrazu 'y' na 'i' przez algorytm Portera oraz zamiana czasowników na ich bezokolicznikowe formy w wyniku lemmizacji."
   ]
  },
  {
   "cell_type": "code",
   "execution_count": 49,
   "metadata": {},
   "outputs": [
    {
     "name": "stdout",
     "output_type": "stream",
     "text": [
      "['i', 'me', 'my', 'myself', 'we', 'our', 'ours', 'ourselves', 'you', \"you're\", \"you've\", \"you'll\", \"you'd\", 'your', 'yours', 'yourself', 'yourselves', 'he', 'him', 'his', 'himself', 'she', \"she's\", 'her', 'hers', 'herself', 'it', \"it's\", 'its', 'itself', 'they', 'them', 'their', 'theirs', 'themselves', 'what', 'which', 'who', 'whom', 'this', 'that', \"that'll\", 'these', 'those', 'am', 'is', 'are', 'was', 'were', 'be', 'been', 'being', 'have', 'has', 'had', 'having', 'do', 'does', 'did', 'doing', 'a', 'an', 'the', 'and', 'but', 'if', 'or', 'because', 'as', 'until', 'while', 'of', 'at', 'by', 'for', 'with', 'about', 'against', 'between', 'into', 'through', 'during', 'before', 'after', 'above', 'below', 'to', 'from', 'up', 'down', 'in', 'out', 'on', 'off', 'over', 'under', 'again', 'further', 'then', 'once', 'here', 'there', 'when', 'where', 'why', 'how', 'all', 'any', 'both', 'each', 'few', 'more', 'most', 'other', 'some', 'such', 'no', 'nor', 'not', 'only', 'own', 'same', 'so', 'than', 'too', 'very', 's', 't', 'can', 'will', 'just', 'don', \"don't\", 'should', \"should've\", 'now', 'd', 'll', 'm', 'o', 're', 've', 'y', 'ain', 'aren', \"aren't\", 'couldn', \"couldn't\", 'didn', \"didn't\", 'doesn', \"doesn't\", 'hadn', \"hadn't\", 'hasn', \"hasn't\", 'haven', \"haven't\", 'isn', \"isn't\", 'ma', 'mightn', \"mightn't\", 'mustn', \"mustn't\", 'needn', \"needn't\", 'shan', \"shan't\", 'shouldn', \"shouldn't\", 'wasn', \"wasn't\", 'weren', \"weren't\", 'won', \"won't\", 'wouldn', \"wouldn't\"]\n"
     ]
    }
   ],
   "source": [
    "# Usuwanie słów o małym znaczeniu - wyświetlenie domyślnych małoznaczących słów\n",
    "print(stopwords.words('english'))"
   ]
  },
  {
   "cell_type": "code",
   "execution_count": 50,
   "metadata": {},
   "outputs": [
    {
     "data": {
      "text/plain": [
       "False"
      ]
     },
     "execution_count": 50,
     "metadata": {},
     "output_type": "execute_result"
    }
   ],
   "source": [
    "'u' in stopwords.words('english')"
   ]
  },
  {
   "cell_type": "markdown",
   "metadata": {},
   "source": [
    "**Wniosek:** Domyślny zbiór słów o niewielkim znaczeniu nie jest wystarczający, aby poradzić sobie ze slangiem SMSowym, ponieważ występuje w nim wiele skrótów, np. 'u' (od 'you'), 'wat' (od 'what'), 'r' (od 'are'), 'ur' (od 'you are'), 'ive' (od 'I have'), 'b' (od 'be'), 'wen' (od when), 'wid' (od 'why do'), 'dnt' (od 'don't')."
   ]
  },
  {
   "cell_type": "code",
   "execution_count": 232,
   "metadata": {},
   "outputs": [],
   "source": [
    "# Dodanie małoznaczących słów pochodzących ze slangu SMSowego\n",
    "stopwords_expanded = stopwords.words('english')\n",
    "SMS_slang = ['u','wat','r','ur','ive','b','wen','wid','dnt', '', 'dont', 'im']\n",
    "for i in SMS_slang:\n",
    "    stopwords_expanded.append(i)"
   ]
  },
  {
   "cell_type": "code",
   "execution_count": 233,
   "metadata": {},
   "outputs": [
    {
     "data": {
      "text/plain": [
       "{'',\n",
       " 'a',\n",
       " 'about',\n",
       " 'above',\n",
       " 'after',\n",
       " 'again',\n",
       " 'against',\n",
       " 'ain',\n",
       " 'all',\n",
       " 'am',\n",
       " 'an',\n",
       " 'and',\n",
       " 'any',\n",
       " 'are',\n",
       " 'aren',\n",
       " \"aren't\",\n",
       " 'as',\n",
       " 'at',\n",
       " 'b',\n",
       " 'be',\n",
       " 'because',\n",
       " 'been',\n",
       " 'before',\n",
       " 'being',\n",
       " 'below',\n",
       " 'between',\n",
       " 'both',\n",
       " 'but',\n",
       " 'by',\n",
       " 'can',\n",
       " 'couldn',\n",
       " \"couldn't\",\n",
       " 'd',\n",
       " 'did',\n",
       " 'didn',\n",
       " \"didn't\",\n",
       " 'dnt',\n",
       " 'do',\n",
       " 'does',\n",
       " 'doesn',\n",
       " \"doesn't\",\n",
       " 'doing',\n",
       " 'don',\n",
       " \"don't\",\n",
       " 'dont',\n",
       " 'down',\n",
       " 'during',\n",
       " 'each',\n",
       " 'few',\n",
       " 'for',\n",
       " 'from',\n",
       " 'further',\n",
       " 'had',\n",
       " 'hadn',\n",
       " \"hadn't\",\n",
       " 'has',\n",
       " 'hasn',\n",
       " \"hasn't\",\n",
       " 'have',\n",
       " 'haven',\n",
       " \"haven't\",\n",
       " 'having',\n",
       " 'he',\n",
       " 'her',\n",
       " 'here',\n",
       " 'hers',\n",
       " 'herself',\n",
       " 'him',\n",
       " 'himself',\n",
       " 'his',\n",
       " 'how',\n",
       " 'i',\n",
       " 'if',\n",
       " 'im',\n",
       " 'in',\n",
       " 'into',\n",
       " 'is',\n",
       " 'isn',\n",
       " \"isn't\",\n",
       " 'it',\n",
       " \"it's\",\n",
       " 'its',\n",
       " 'itself',\n",
       " 'ive',\n",
       " 'just',\n",
       " 'll',\n",
       " 'm',\n",
       " 'ma',\n",
       " 'me',\n",
       " 'mightn',\n",
       " \"mightn't\",\n",
       " 'more',\n",
       " 'most',\n",
       " 'mustn',\n",
       " \"mustn't\",\n",
       " 'my',\n",
       " 'myself',\n",
       " 'needn',\n",
       " \"needn't\",\n",
       " 'no',\n",
       " 'nor',\n",
       " 'not',\n",
       " 'now',\n",
       " 'o',\n",
       " 'of',\n",
       " 'off',\n",
       " 'on',\n",
       " 'once',\n",
       " 'only',\n",
       " 'or',\n",
       " 'other',\n",
       " 'our',\n",
       " 'ours',\n",
       " 'ourselves',\n",
       " 'out',\n",
       " 'over',\n",
       " 'own',\n",
       " 'r',\n",
       " 're',\n",
       " 's',\n",
       " 'same',\n",
       " 'shan',\n",
       " \"shan't\",\n",
       " 'she',\n",
       " \"she's\",\n",
       " 'should',\n",
       " \"should've\",\n",
       " 'shouldn',\n",
       " \"shouldn't\",\n",
       " 'so',\n",
       " 'some',\n",
       " 'such',\n",
       " 't',\n",
       " 'than',\n",
       " 'that',\n",
       " \"that'll\",\n",
       " 'the',\n",
       " 'their',\n",
       " 'theirs',\n",
       " 'them',\n",
       " 'themselves',\n",
       " 'then',\n",
       " 'there',\n",
       " 'these',\n",
       " 'they',\n",
       " 'this',\n",
       " 'those',\n",
       " 'through',\n",
       " 'to',\n",
       " 'too',\n",
       " 'u',\n",
       " 'under',\n",
       " 'until',\n",
       " 'up',\n",
       " 'ur',\n",
       " 've',\n",
       " 'very',\n",
       " 'was',\n",
       " 'wasn',\n",
       " \"wasn't\",\n",
       " 'wat',\n",
       " 'we',\n",
       " 'wen',\n",
       " 'were',\n",
       " 'weren',\n",
       " \"weren't\",\n",
       " 'what',\n",
       " 'when',\n",
       " 'where',\n",
       " 'which',\n",
       " 'while',\n",
       " 'who',\n",
       " 'whom',\n",
       " 'why',\n",
       " 'wid',\n",
       " 'will',\n",
       " 'with',\n",
       " 'won',\n",
       " \"won't\",\n",
       " 'wouldn',\n",
       " \"wouldn't\",\n",
       " 'y',\n",
       " 'you',\n",
       " \"you'd\",\n",
       " \"you'll\",\n",
       " \"you're\",\n",
       " \"you've\",\n",
       " 'your',\n",
       " 'yours',\n",
       " 'yourself',\n",
       " 'yourselves'}"
      ]
     },
     "execution_count": 233,
     "metadata": {},
     "output_type": "execute_result"
    }
   ],
   "source": [
    "stopwords_expanded = set(stopwords_expanded)\n",
    "stopwords_expanded"
   ]
  },
  {
   "cell_type": "code",
   "execution_count": 234,
   "metadata": {},
   "outputs": [],
   "source": [
    "# Usuwanie słów o małym znaczeniu\n",
    "data['Without stop words'] = data.apply(lambda x: [word for word in x['Lemmas'] if word not in stopwords_expanded], axis=1)"
   ]
  },
  {
   "cell_type": "code",
   "execution_count": 235,
   "metadata": {},
   "outputs": [
    {
     "data": {
      "text/html": [
       "<div>\n",
       "<style scoped>\n",
       "    .dataframe tbody tr th:only-of-type {\n",
       "        vertical-align: middle;\n",
       "    }\n",
       "\n",
       "    .dataframe tbody tr th {\n",
       "        vertical-align: top;\n",
       "    }\n",
       "\n",
       "    .dataframe thead th {\n",
       "        text-align: right;\n",
       "    }\n",
       "</style>\n",
       "<table border=\"1\" class=\"dataframe\">\n",
       "  <thead>\n",
       "    <tr style=\"text-align: right;\">\n",
       "      <th></th>\n",
       "      <th>Class</th>\n",
       "      <th>Message</th>\n",
       "      <th>Word tokens</th>\n",
       "      <th>Lemmas</th>\n",
       "      <th>Without stop words</th>\n",
       "    </tr>\n",
       "  </thead>\n",
       "  <tbody>\n",
       "    <tr>\n",
       "      <th>0</th>\n",
       "      <td>ham</td>\n",
       "      <td>go until jurong point crazy available only in ...</td>\n",
       "      <td>[go, until, jurong, point, crazy, available, o...</td>\n",
       "      <td>[go, until, jurong, point, crazy, available, o...</td>\n",
       "      <td>[go, jurong, point, crazy, available, bugis, n...</td>\n",
       "    </tr>\n",
       "    <tr>\n",
       "      <th>1</th>\n",
       "      <td>ham</td>\n",
       "      <td>ok lar joking wif u oni</td>\n",
       "      <td>[ok, lar, joking, wif, u, oni]</td>\n",
       "      <td>[ok, lar, joke, wif, u, oni]</td>\n",
       "      <td>[ok, lar, joke, wif, oni]</td>\n",
       "    </tr>\n",
       "    <tr>\n",
       "      <th>2</th>\n",
       "      <td>spam</td>\n",
       "      <td>free entry in 2 a wkly comp to win fa cup fina...</td>\n",
       "      <td>[free, entry, in, 2, a, wkly, comp, to, win, f...</td>\n",
       "      <td>[free, entry, in, 2, a, wkly, comp, to, win, f...</td>\n",
       "      <td>[free, entry, 2, wkly, comp, win, fa, cup, fin...</td>\n",
       "    </tr>\n",
       "    <tr>\n",
       "      <th>3</th>\n",
       "      <td>ham</td>\n",
       "      <td>u dun say so early hor u c already then say</td>\n",
       "      <td>[u, dun, say, so, early, hor, u, c, already, t...</td>\n",
       "      <td>[u, dun, say, so, early, hor, u, c, already, t...</td>\n",
       "      <td>[dun, say, early, hor, c, already, say]</td>\n",
       "    </tr>\n",
       "    <tr>\n",
       "      <th>4</th>\n",
       "      <td>ham</td>\n",
       "      <td>nah i dont think he goes to usf he lives aroun...</td>\n",
       "      <td>[nah, i, dont, think, he, goes, to, usf, he, l...</td>\n",
       "      <td>[nah, i, dont, think, he, go, to, usf, he, liv...</td>\n",
       "      <td>[nah, think, go, usf, live, around, though]</td>\n",
       "    </tr>\n",
       "    <tr>\n",
       "      <th>...</th>\n",
       "      <td>...</td>\n",
       "      <td>...</td>\n",
       "      <td>...</td>\n",
       "      <td>...</td>\n",
       "      <td>...</td>\n",
       "    </tr>\n",
       "    <tr>\n",
       "      <th>5567</th>\n",
       "      <td>spam</td>\n",
       "      <td>this is the 2nd time we have tried 2 contact u...</td>\n",
       "      <td>[this, is, the, 2nd, time, we, have, tried, 2,...</td>\n",
       "      <td>[this, be, the, 2nd, time, we, have, try, 2, c...</td>\n",
       "      <td>[2nd, time, try, 2, contact, win, £750, pound,...</td>\n",
       "    </tr>\n",
       "    <tr>\n",
       "      <th>5568</th>\n",
       "      <td>ham</td>\n",
       "      <td>will ü b going to esplanade fr home</td>\n",
       "      <td>[will, ü, b, going, to, esplanade, fr, home]</td>\n",
       "      <td>[will, ü, b, go, to, esplanade, fr, home]</td>\n",
       "      <td>[ü, go, esplanade, fr, home]</td>\n",
       "    </tr>\n",
       "    <tr>\n",
       "      <th>5569</th>\n",
       "      <td>ham</td>\n",
       "      <td>pity  was in mood for that soany other suggest...</td>\n",
       "      <td>[pity, , was, in, mood, for, that, soany, othe...</td>\n",
       "      <td>[pity, , be, in, mood, for, that, soany, other...</td>\n",
       "      <td>[pity, mood, soany, suggestions]</td>\n",
       "    </tr>\n",
       "    <tr>\n",
       "      <th>5570</th>\n",
       "      <td>ham</td>\n",
       "      <td>the guy did some bitching but i acted like id ...</td>\n",
       "      <td>[the, guy, did, some, bitching, but, i, acted,...</td>\n",
       "      <td>[the, guy, do, some, bitch, but, i, act, like,...</td>\n",
       "      <td>[guy, bitch, act, like, id, interest, buy, som...</td>\n",
       "    </tr>\n",
       "    <tr>\n",
       "      <th>5571</th>\n",
       "      <td>ham</td>\n",
       "      <td>rofl its true to its name</td>\n",
       "      <td>[rofl, its, true, to, its, name]</td>\n",
       "      <td>[rofl, its, true, to, its, name]</td>\n",
       "      <td>[rofl, true, name]</td>\n",
       "    </tr>\n",
       "  </tbody>\n",
       "</table>\n",
       "<p>5572 rows × 5 columns</p>\n",
       "</div>"
      ],
      "text/plain": [
       "     Class                                            Message  \\\n",
       "0      ham  go until jurong point crazy available only in ...   \n",
       "1      ham                            ok lar joking wif u oni   \n",
       "2     spam  free entry in 2 a wkly comp to win fa cup fina...   \n",
       "3      ham        u dun say so early hor u c already then say   \n",
       "4      ham  nah i dont think he goes to usf he lives aroun...   \n",
       "...    ...                                                ...   \n",
       "5567  spam  this is the 2nd time we have tried 2 contact u...   \n",
       "5568   ham                will ü b going to esplanade fr home   \n",
       "5569   ham  pity  was in mood for that soany other suggest...   \n",
       "5570   ham  the guy did some bitching but i acted like id ...   \n",
       "5571   ham                          rofl its true to its name   \n",
       "\n",
       "                                            Word tokens  \\\n",
       "0     [go, until, jurong, point, crazy, available, o...   \n",
       "1                        [ok, lar, joking, wif, u, oni]   \n",
       "2     [free, entry, in, 2, a, wkly, comp, to, win, f...   \n",
       "3     [u, dun, say, so, early, hor, u, c, already, t...   \n",
       "4     [nah, i, dont, think, he, goes, to, usf, he, l...   \n",
       "...                                                 ...   \n",
       "5567  [this, is, the, 2nd, time, we, have, tried, 2,...   \n",
       "5568       [will, ü, b, going, to, esplanade, fr, home]   \n",
       "5569  [pity, , was, in, mood, for, that, soany, othe...   \n",
       "5570  [the, guy, did, some, bitching, but, i, acted,...   \n",
       "5571                   [rofl, its, true, to, its, name]   \n",
       "\n",
       "                                                 Lemmas  \\\n",
       "0     [go, until, jurong, point, crazy, available, o...   \n",
       "1                          [ok, lar, joke, wif, u, oni]   \n",
       "2     [free, entry, in, 2, a, wkly, comp, to, win, f...   \n",
       "3     [u, dun, say, so, early, hor, u, c, already, t...   \n",
       "4     [nah, i, dont, think, he, go, to, usf, he, liv...   \n",
       "...                                                 ...   \n",
       "5567  [this, be, the, 2nd, time, we, have, try, 2, c...   \n",
       "5568          [will, ü, b, go, to, esplanade, fr, home]   \n",
       "5569  [pity, , be, in, mood, for, that, soany, other...   \n",
       "5570  [the, guy, do, some, bitch, but, i, act, like,...   \n",
       "5571                   [rofl, its, true, to, its, name]   \n",
       "\n",
       "                                     Without stop words  \n",
       "0     [go, jurong, point, crazy, available, bugis, n...  \n",
       "1                             [ok, lar, joke, wif, oni]  \n",
       "2     [free, entry, 2, wkly, comp, win, fa, cup, fin...  \n",
       "3               [dun, say, early, hor, c, already, say]  \n",
       "4           [nah, think, go, usf, live, around, though]  \n",
       "...                                                 ...  \n",
       "5567  [2nd, time, try, 2, contact, win, £750, pound,...  \n",
       "5568                       [ü, go, esplanade, fr, home]  \n",
       "5569                   [pity, mood, soany, suggestions]  \n",
       "5570  [guy, bitch, act, like, id, interest, buy, som...  \n",
       "5571                                 [rofl, true, name]  \n",
       "\n",
       "[5572 rows x 5 columns]"
      ]
     },
     "execution_count": 235,
     "metadata": {},
     "output_type": "execute_result"
    }
   ],
   "source": [
    "data"
   ]
  },
  {
   "cell_type": "code",
   "execution_count": 236,
   "metadata": {},
   "outputs": [
    {
     "data": {
      "text/html": [
       "<div>\n",
       "<style scoped>\n",
       "    .dataframe tbody tr th:only-of-type {\n",
       "        vertical-align: middle;\n",
       "    }\n",
       "\n",
       "    .dataframe tbody tr th {\n",
       "        vertical-align: top;\n",
       "    }\n",
       "\n",
       "    .dataframe thead th {\n",
       "        text-align: right;\n",
       "    }\n",
       "</style>\n",
       "<table border=\"1\" class=\"dataframe\">\n",
       "  <thead>\n",
       "    <tr style=\"text-align: right;\">\n",
       "      <th></th>\n",
       "      <th>Słowo</th>\n",
       "      <th>Ilość wystąpień</th>\n",
       "    </tr>\n",
       "  </thead>\n",
       "  <tbody>\n",
       "    <tr>\n",
       "      <th>0</th>\n",
       "      <td>get</td>\n",
       "      <td>689</td>\n",
       "    </tr>\n",
       "    <tr>\n",
       "      <th>1</th>\n",
       "      <td>call</td>\n",
       "      <td>655</td>\n",
       "    </tr>\n",
       "    <tr>\n",
       "      <th>2</th>\n",
       "      <td>go</td>\n",
       "      <td>554</td>\n",
       "    </tr>\n",
       "    <tr>\n",
       "      <th>3</th>\n",
       "      <td>2</td>\n",
       "      <td>482</td>\n",
       "    </tr>\n",
       "    <tr>\n",
       "      <th>4</th>\n",
       "      <td>come</td>\n",
       "      <td>327</td>\n",
       "    </tr>\n",
       "    <tr>\n",
       "      <th>5</th>\n",
       "      <td>4</td>\n",
       "      <td>293</td>\n",
       "    </tr>\n",
       "    <tr>\n",
       "      <th>6</th>\n",
       "      <td>know</td>\n",
       "      <td>284</td>\n",
       "    </tr>\n",
       "    <tr>\n",
       "      <th>7</th>\n",
       "      <td>ok</td>\n",
       "      <td>278</td>\n",
       "    </tr>\n",
       "    <tr>\n",
       "      <th>8</th>\n",
       "      <td>ltgt</td>\n",
       "      <td>276</td>\n",
       "    </tr>\n",
       "    <tr>\n",
       "      <th>9</th>\n",
       "      <td>free</td>\n",
       "      <td>275</td>\n",
       "    </tr>\n",
       "    <tr>\n",
       "      <th>10</th>\n",
       "      <td>send</td>\n",
       "      <td>273</td>\n",
       "    </tr>\n",
       "    <tr>\n",
       "      <th>11</th>\n",
       "      <td>like</td>\n",
       "      <td>254</td>\n",
       "    </tr>\n",
       "    <tr>\n",
       "      <th>12</th>\n",
       "      <td>want</td>\n",
       "      <td>245</td>\n",
       "    </tr>\n",
       "    <tr>\n",
       "      <th>13</th>\n",
       "      <td>ill</td>\n",
       "      <td>239</td>\n",
       "    </tr>\n",
       "    <tr>\n",
       "      <th>14</th>\n",
       "      <td>time</td>\n",
       "      <td>238</td>\n",
       "    </tr>\n",
       "    <tr>\n",
       "      <th>15</th>\n",
       "      <td>good</td>\n",
       "      <td>236</td>\n",
       "    </tr>\n",
       "  </tbody>\n",
       "</table>\n",
       "</div>"
      ],
      "text/plain": [
       "   Słowo  Ilość wystąpień\n",
       "0    get              689\n",
       "1   call              655\n",
       "2     go              554\n",
       "3      2              482\n",
       "4   come              327\n",
       "5      4              293\n",
       "6   know              284\n",
       "7     ok              278\n",
       "8   ltgt              276\n",
       "9   free              275\n",
       "10  send              273\n",
       "11  like              254\n",
       "12  want              245\n",
       "13   ill              239\n",
       "14  time              238\n",
       "15  good              236"
      ]
     },
     "execution_count": 236,
     "metadata": {},
     "output_type": "execute_result"
    }
   ],
   "source": [
    "# Ponowne wyznaczenie listy najczęściej występujących słów\n",
    "#Najczęściej występujące słowa w całym zbiorze\n",
    "words_after_modifications = []\n",
    "for sentence_lemma in data['Without stop words']:\n",
    "    for word in sentence_lemma:\n",
    "        words_after_modifications.append(word)\n",
    "\n",
    "most_common_words_after_modifications = pd.DataFrame(Counter(words_after_modifications).most_common(16))\n",
    "most_common_words_after_modifications.columns = ['Słowo', 'Ilość wystąpień']\n",
    "most_common_words_after_modifications"
   ]
  },
  {
   "cell_type": "code",
   "execution_count": 237,
   "metadata": {},
   "outputs": [
    {
     "data": {
      "text/html": [
       "<div>\n",
       "<style scoped>\n",
       "    .dataframe tbody tr th:only-of-type {\n",
       "        vertical-align: middle;\n",
       "    }\n",
       "\n",
       "    .dataframe tbody tr th {\n",
       "        vertical-align: top;\n",
       "    }\n",
       "\n",
       "    .dataframe thead th {\n",
       "        text-align: right;\n",
       "    }\n",
       "</style>\n",
       "<table border=\"1\" class=\"dataframe\">\n",
       "  <thead>\n",
       "    <tr style=\"text-align: right;\">\n",
       "      <th></th>\n",
       "      <th>Słowo</th>\n",
       "      <th>Ilość wystąpień</th>\n",
       "    </tr>\n",
       "  </thead>\n",
       "  <tbody>\n",
       "    <tr>\n",
       "      <th>0</th>\n",
       "      <td>get</td>\n",
       "      <td>595</td>\n",
       "    </tr>\n",
       "    <tr>\n",
       "      <th>1</th>\n",
       "      <td>go</td>\n",
       "      <td>519</td>\n",
       "    </tr>\n",
       "    <tr>\n",
       "      <th>2</th>\n",
       "      <td>come</td>\n",
       "      <td>321</td>\n",
       "    </tr>\n",
       "    <tr>\n",
       "      <th>3</th>\n",
       "      <td>2</td>\n",
       "      <td>309</td>\n",
       "    </tr>\n",
       "    <tr>\n",
       "      <th>4</th>\n",
       "      <td>call</td>\n",
       "      <td>289</td>\n",
       "    </tr>\n",
       "    <tr>\n",
       "      <th>5</th>\n",
       "      <td>ltgt</td>\n",
       "      <td>276</td>\n",
       "    </tr>\n",
       "    <tr>\n",
       "      <th>6</th>\n",
       "      <td>ok</td>\n",
       "      <td>273</td>\n",
       "    </tr>\n",
       "    <tr>\n",
       "      <th>7</th>\n",
       "      <td>know</td>\n",
       "      <td>258</td>\n",
       "    </tr>\n",
       "    <tr>\n",
       "      <th>8</th>\n",
       "      <td>like</td>\n",
       "      <td>241</td>\n",
       "    </tr>\n",
       "    <tr>\n",
       "      <th>9</th>\n",
       "      <td>ill</td>\n",
       "      <td>238</td>\n",
       "    </tr>\n",
       "    <tr>\n",
       "      <th>10</th>\n",
       "      <td>say</td>\n",
       "      <td>225</td>\n",
       "    </tr>\n",
       "    <tr>\n",
       "      <th>11</th>\n",
       "      <td>love</td>\n",
       "      <td>224</td>\n",
       "    </tr>\n",
       "    <tr>\n",
       "      <th>12</th>\n",
       "      <td>good</td>\n",
       "      <td>224</td>\n",
       "    </tr>\n",
       "    <tr>\n",
       "      <th>13</th>\n",
       "      <td>time</td>\n",
       "      <td>219</td>\n",
       "    </tr>\n",
       "    <tr>\n",
       "      <th>14</th>\n",
       "      <td>want</td>\n",
       "      <td>213</td>\n",
       "    </tr>\n",
       "    <tr>\n",
       "      <th>15</th>\n",
       "      <td>think</td>\n",
       "      <td>198</td>\n",
       "    </tr>\n",
       "  </tbody>\n",
       "</table>\n",
       "</div>"
      ],
      "text/plain": [
       "    Słowo  Ilość wystąpień\n",
       "0     get              595\n",
       "1      go              519\n",
       "2    come              321\n",
       "3       2              309\n",
       "4    call              289\n",
       "5    ltgt              276\n",
       "6      ok              273\n",
       "7    know              258\n",
       "8    like              241\n",
       "9     ill              238\n",
       "10    say              225\n",
       "11   love              224\n",
       "12   good              224\n",
       "13   time              219\n",
       "14   want              213\n",
       "15  think              198"
      ]
     },
     "execution_count": 237,
     "metadata": {},
     "output_type": "execute_result"
    }
   ],
   "source": [
    "#Najczęściej występujące słowa w wiadomościach 'ham'\n",
    "ham_words_after_modifications = []\n",
    "for sentence_lemma in data['Without stop words'][data['Class']=='ham']:\n",
    "    for word in sentence_lemma:\n",
    "        ham_words_after_modifications.append(word)\n",
    "\n",
    "most_common_ham_words_after_modifications = pd.DataFrame(Counter(ham_words_after_modifications).most_common(16))\n",
    "most_common_ham_words_after_modifications.columns = ['Słowo', 'Ilość wystąpień']\n",
    "most_common_ham_words_after_modifications"
   ]
  },
  {
   "cell_type": "code",
   "execution_count": 238,
   "metadata": {},
   "outputs": [
    {
     "data": {
      "text/html": [
       "<div>\n",
       "<style scoped>\n",
       "    .dataframe tbody tr th:only-of-type {\n",
       "        vertical-align: middle;\n",
       "    }\n",
       "\n",
       "    .dataframe tbody tr th {\n",
       "        vertical-align: top;\n",
       "    }\n",
       "\n",
       "    .dataframe thead th {\n",
       "        text-align: right;\n",
       "    }\n",
       "</style>\n",
       "<table border=\"1\" class=\"dataframe\">\n",
       "  <thead>\n",
       "    <tr style=\"text-align: right;\">\n",
       "      <th></th>\n",
       "      <th>Słowo</th>\n",
       "      <th>Ilość wystąpień</th>\n",
       "    </tr>\n",
       "  </thead>\n",
       "  <tbody>\n",
       "    <tr>\n",
       "      <th>0</th>\n",
       "      <td>call</td>\n",
       "      <td>366</td>\n",
       "    </tr>\n",
       "    <tr>\n",
       "      <th>1</th>\n",
       "      <td>free</td>\n",
       "      <td>216</td>\n",
       "    </tr>\n",
       "    <tr>\n",
       "      <th>2</th>\n",
       "      <td>2</td>\n",
       "      <td>173</td>\n",
       "    </tr>\n",
       "    <tr>\n",
       "      <th>3</th>\n",
       "      <td>txt</td>\n",
       "      <td>150</td>\n",
       "    </tr>\n",
       "    <tr>\n",
       "      <th>4</th>\n",
       "      <td>win</td>\n",
       "      <td>135</td>\n",
       "    </tr>\n",
       "    <tr>\n",
       "      <th>5</th>\n",
       "      <td>mobile</td>\n",
       "      <td>123</td>\n",
       "    </tr>\n",
       "    <tr>\n",
       "      <th>6</th>\n",
       "      <td>text</td>\n",
       "      <td>120</td>\n",
       "    </tr>\n",
       "    <tr>\n",
       "      <th>7</th>\n",
       "      <td>4</td>\n",
       "      <td>119</td>\n",
       "    </tr>\n",
       "    <tr>\n",
       "      <th>8</th>\n",
       "      <td>claim</td>\n",
       "      <td>115</td>\n",
       "    </tr>\n",
       "    <tr>\n",
       "      <th>9</th>\n",
       "      <td>stop</td>\n",
       "      <td>115</td>\n",
       "    </tr>\n",
       "    <tr>\n",
       "      <th>10</th>\n",
       "      <td>reply</td>\n",
       "      <td>109</td>\n",
       "    </tr>\n",
       "    <tr>\n",
       "      <th>11</th>\n",
       "      <td>prize</td>\n",
       "      <td>94</td>\n",
       "    </tr>\n",
       "    <tr>\n",
       "      <th>12</th>\n",
       "      <td>get</td>\n",
       "      <td>94</td>\n",
       "    </tr>\n",
       "    <tr>\n",
       "      <th>13</th>\n",
       "      <td>send</td>\n",
       "      <td>80</td>\n",
       "    </tr>\n",
       "    <tr>\n",
       "      <th>14</th>\n",
       "      <td>tone</td>\n",
       "      <td>73</td>\n",
       "    </tr>\n",
       "    <tr>\n",
       "      <th>15</th>\n",
       "      <td>service</td>\n",
       "      <td>72</td>\n",
       "    </tr>\n",
       "  </tbody>\n",
       "</table>\n",
       "</div>"
      ],
      "text/plain": [
       "      Słowo  Ilość wystąpień\n",
       "0      call              366\n",
       "1      free              216\n",
       "2         2              173\n",
       "3       txt              150\n",
       "4       win              135\n",
       "5    mobile              123\n",
       "6      text              120\n",
       "7         4              119\n",
       "8     claim              115\n",
       "9      stop              115\n",
       "10    reply              109\n",
       "11    prize               94\n",
       "12      get               94\n",
       "13     send               80\n",
       "14     tone               73\n",
       "15  service               72"
      ]
     },
     "execution_count": 238,
     "metadata": {},
     "output_type": "execute_result"
    }
   ],
   "source": [
    "#Najczęściej występujące słowa w wiadomościach 'spam'\n",
    "spam_words_after_modifications = []\n",
    "for sentence_lemma in data['Without stop words'][data['Class']=='spam']:\n",
    "    for word in sentence_lemma:\n",
    "        spam_words_after_modifications.append(word)\n",
    "\n",
    "most_common_spam_words_after_modifications = pd.DataFrame(Counter(spam_words_after_modifications).most_common(16))\n",
    "most_common_spam_words_after_modifications.columns = ['Słowo', 'Ilość wystąpień']\n",
    "most_common_spam_words_after_modifications"
   ]
  },
  {
   "cell_type": "code",
   "execution_count": 239,
   "metadata": {},
   "outputs": [
    {
     "data": {
      "image/png": "[encoded data removed]",
      "text/plain": [
       "<Figure size 1440x1152 with 3 Axes>"
      ]
     },
     "metadata": {
      "needs_background": "light"
     },
     "output_type": "display_data"
    }
   ],
   "source": [
    "#plt.figure(figsize=(20,16))\n",
    "plt.subplots(1,3, gridspec_kw={'wspace': 0.1}, figsize=(20,16))\n",
    "plt.suptitle(\"16 najczęściej występujących słów\", fontsize=20)\n",
    "\n",
    "plt.subplot(131)\n",
    "plt.bar(most_common_words_after_modifications['Słowo'],most_common_words_after_modifications['Ilość wystąpień'],color='b')\n",
    "plt.title(\"we wszystkich wiadomościach\", fontsize=15)\n",
    "plt.ylim(0,700)\n",
    "plt.xlabel('Słowo')\n",
    "plt.xticks(rotation=45)\n",
    "plt.ylabel('Ilość wystąpień')\n",
    "\n",
    "plt.subplot(132)\n",
    "plt.bar(most_common_ham_words_after_modifications['Słowo'],most_common_ham_words_after_modifications['Ilość wystąpień'],color='lightgreen')\n",
    "plt.title(\"w wiadomościach typu 'ham'\", fontsize=15)\n",
    "plt.ylim(0,700)\n",
    "plt.xlabel('Słowo')\n",
    "plt.xticks(rotation=45)\n",
    "plt.ylabel('Ilość wystąpień')\n",
    "\n",
    "plt.subplot(133)\n",
    "plt.bar(most_common_spam_words_after_modifications['Słowo'],most_common_spam_words_after_modifications['Ilość wystąpień'],color='#d41717')\n",
    "plt.title(\"w wiadomościach typu 'spam'\", fontsize=15)\n",
    "plt.ylim(0,700)\n",
    "plt.xlabel('Słowo')\n",
    "plt.ylabel('Ilość wystąpień')\n",
    "plt.xticks(rotation=45)\n",
    "plt.show()"
   ]
  },
  {
   "cell_type": "code",
   "execution_count": 241,
   "metadata": {},
   "outputs": [
    {
     "data": {
      "image/png": "[encoded data removed]",
      "text/plain": [
       "<Figure size 1440x1152 with 3 Axes>"
      ]
     },
     "metadata": {
      "needs_background": "light"
     },
     "output_type": "display_data"
    }
   ],
   "source": [
    "fig, axs = plt.subplots(1,3, gridspec_kw={'wspace': 0.16}, figsize=(20,16))\n",
    "fig.suptitle(\"16 najczęściej występujących słów w [%]\", fontsize=20)\n",
    "\n",
    "axs[0].bar(most_common_words_after_modifications['Słowo'],most_common_words_after_modifications['Ilość wystąpień']/len(words_after_modifications)*100,color='b')\n",
    "axs[0].set_title(\"we wszystkich wiadomościach\", fontsize=15)\n",
    "axs[0].set_xlabel('Słowo', fontsize=12)\n",
    "axs[0].set_ylim(0,3)\n",
    "axs[0].set_ylabel('Ilość wystąpień [%]', fontsize=12)\n",
    "axs[0].set_xticklabels(most_common_words_after_modifications['Słowo'], rotation=45)\n",
    "\n",
    "axs[1].bar(most_common_ham_words_after_modifications['Słowo'],most_common_ham_words_after_modifications['Ilość wystąpień']/len(ham_words_after_modifications)*100,color='lightgreen')\n",
    "axs[1].set_title(\"w wiadomościach typu 'ham'\", fontsize=15)\n",
    "axs[1].set_xlabel('Słowo', fontsize=12)\n",
    "axs[1].set_ylim(0,3)\n",
    "axs[1].set_ylabel('Ilość wystąpień [%]', fontsize=12)\n",
    "axs[1].set_xticklabels(most_common_ham_words_after_modifications['Słowo'], rotation=45)\n",
    "\n",
    "axs[2].bar(most_common_spam_words_after_modifications['Słowo'],most_common_spam_words_after_modifications['Ilość wystąpień']/len(spam_words_after_modifications)*100,color='#d41717')\n",
    "axs[2].set_title(\"w wiadomościach typu 'spam'\", fontsize=15)\n",
    "axs[2].set_xlabel('Słowo', fontsize=12)\n",
    "axs[2].set_ylim(0,3)\n",
    "axs[2].set_ylabel('Ilość wystąpień [%]', fontsize=12)\n",
    "axs[2].set_xticklabels(most_common_spam_words_after_modifications['Słowo'], rotation=45)\n",
    "plt.show()"
   ]
  },
  {
   "cell_type": "markdown",
   "metadata": {},
   "source": [
    "**Wniosek:** Listy najczęściej występujących słów dla każdej z klas jak i dla całego zbioru uległy zmianie - możliwie jest rozróżnienie grup wyrazów charakterystycznych dla wiadomości 'spam' i 'ham'."
   ]
  },
  {
   "cell_type": "code",
   "execution_count": 294,
   "metadata": {},
   "outputs": [],
   "source": [
    "# Wektoryzacja lemm na wektory cech - połącznie słów w wiadomości\n",
    "vectorizer = CountVectorizer()\n",
    "data['Transformed messages'] = data.apply(lambda x: ' '.join(x['Without stop words']), axis=1)"
   ]
  },
  {
   "cell_type": "code",
   "execution_count": 295,
   "metadata": {},
   "outputs": [
    {
     "data": {
      "text/html": [
       "<div>\n",
       "<style scoped>\n",
       "    .dataframe tbody tr th:only-of-type {\n",
       "        vertical-align: middle;\n",
       "    }\n",
       "\n",
       "    .dataframe tbody tr th {\n",
       "        vertical-align: top;\n",
       "    }\n",
       "\n",
       "    .dataframe thead th {\n",
       "        text-align: right;\n",
       "    }\n",
       "</style>\n",
       "<table border=\"1\" class=\"dataframe\">\n",
       "  <thead>\n",
       "    <tr style=\"text-align: right;\">\n",
       "      <th></th>\n",
       "      <th>Class</th>\n",
       "      <th>Message</th>\n",
       "      <th>Word tokens</th>\n",
       "      <th>Lemmas</th>\n",
       "      <th>Without stop words</th>\n",
       "      <th>Transformed messages</th>\n",
       "    </tr>\n",
       "  </thead>\n",
       "  <tbody>\n",
       "    <tr>\n",
       "      <th>0</th>\n",
       "      <td>ham</td>\n",
       "      <td>go until jurong point crazy available only in ...</td>\n",
       "      <td>[go, until, jurong, point, crazy, available, o...</td>\n",
       "      <td>[go, until, jurong, point, crazy, available, o...</td>\n",
       "      <td>[go, jurong, point, crazy, available, bugis, n...</td>\n",
       "      <td>go jurong point crazy available bugis n great ...</td>\n",
       "    </tr>\n",
       "    <tr>\n",
       "      <th>1</th>\n",
       "      <td>ham</td>\n",
       "      <td>ok lar joking wif u oni</td>\n",
       "      <td>[ok, lar, joking, wif, u, oni]</td>\n",
       "      <td>[ok, lar, joke, wif, u, oni]</td>\n",
       "      <td>[ok, lar, joke, wif, oni]</td>\n",
       "      <td>ok lar joke wif oni</td>\n",
       "    </tr>\n",
       "    <tr>\n",
       "      <th>2</th>\n",
       "      <td>spam</td>\n",
       "      <td>free entry in 2 a wkly comp to win fa cup fina...</td>\n",
       "      <td>[free, entry, in, 2, a, wkly, comp, to, win, f...</td>\n",
       "      <td>[free, entry, in, 2, a, wkly, comp, to, win, f...</td>\n",
       "      <td>[free, entry, 2, wkly, comp, win, fa, cup, fin...</td>\n",
       "      <td>free entry 2 wkly comp win fa cup final tkts 2...</td>\n",
       "    </tr>\n",
       "    <tr>\n",
       "      <th>3</th>\n",
       "      <td>ham</td>\n",
       "      <td>u dun say so early hor u c already then say</td>\n",
       "      <td>[u, dun, say, so, early, hor, u, c, already, t...</td>\n",
       "      <td>[u, dun, say, so, early, hor, u, c, already, t...</td>\n",
       "      <td>[dun, say, early, hor, c, already, say]</td>\n",
       "      <td>dun say early hor c already say</td>\n",
       "    </tr>\n",
       "    <tr>\n",
       "      <th>4</th>\n",
       "      <td>ham</td>\n",
       "      <td>nah i dont think he goes to usf he lives aroun...</td>\n",
       "      <td>[nah, i, dont, think, he, goes, to, usf, he, l...</td>\n",
       "      <td>[nah, i, dont, think, he, go, to, usf, he, liv...</td>\n",
       "      <td>[nah, think, go, usf, live, around, though]</td>\n",
       "      <td>nah think go usf live around though</td>\n",
       "    </tr>\n",
       "    <tr>\n",
       "      <th>...</th>\n",
       "      <td>...</td>\n",
       "      <td>...</td>\n",
       "      <td>...</td>\n",
       "      <td>...</td>\n",
       "      <td>...</td>\n",
       "      <td>...</td>\n",
       "    </tr>\n",
       "    <tr>\n",
       "      <th>5567</th>\n",
       "      <td>spam</td>\n",
       "      <td>this is the 2nd time we have tried 2 contact u...</td>\n",
       "      <td>[this, is, the, 2nd, time, we, have, tried, 2,...</td>\n",
       "      <td>[this, be, the, 2nd, time, we, have, try, 2, c...</td>\n",
       "      <td>[2nd, time, try, 2, contact, win, £750, pound,...</td>\n",
       "      <td>2nd time try 2 contact win £750 pound prize 2 ...</td>\n",
       "    </tr>\n",
       "    <tr>\n",
       "      <th>5568</th>\n",
       "      <td>ham</td>\n",
       "      <td>will ü b going to esplanade fr home</td>\n",
       "      <td>[will, ü, b, going, to, esplanade, fr, home]</td>\n",
       "      <td>[will, ü, b, go, to, esplanade, fr, home]</td>\n",
       "      <td>[ü, go, esplanade, fr, home]</td>\n",
       "      <td>ü go esplanade fr home</td>\n",
       "    </tr>\n",
       "    <tr>\n",
       "      <th>5569</th>\n",
       "      <td>ham</td>\n",
       "      <td>pity  was in mood for that soany other suggest...</td>\n",
       "      <td>[pity, , was, in, mood, for, that, soany, othe...</td>\n",
       "      <td>[pity, , be, in, mood, for, that, soany, other...</td>\n",
       "      <td>[pity, mood, soany, suggestions]</td>\n",
       "      <td>pity mood soany suggestions</td>\n",
       "    </tr>\n",
       "    <tr>\n",
       "      <th>5570</th>\n",
       "      <td>ham</td>\n",
       "      <td>the guy did some bitching but i acted like id ...</td>\n",
       "      <td>[the, guy, did, some, bitching, but, i, acted,...</td>\n",
       "      <td>[the, guy, do, some, bitch, but, i, act, like,...</td>\n",
       "      <td>[guy, bitch, act, like, id, interest, buy, som...</td>\n",
       "      <td>guy bitch act like id interest buy something e...</td>\n",
       "    </tr>\n",
       "    <tr>\n",
       "      <th>5571</th>\n",
       "      <td>ham</td>\n",
       "      <td>rofl its true to its name</td>\n",
       "      <td>[rofl, its, true, to, its, name]</td>\n",
       "      <td>[rofl, its, true, to, its, name]</td>\n",
       "      <td>[rofl, true, name]</td>\n",
       "      <td>rofl true name</td>\n",
       "    </tr>\n",
       "  </tbody>\n",
       "</table>\n",
       "<p>5572 rows × 6 columns</p>\n",
       "</div>"
      ],
      "text/plain": [
       "     Class                                            Message  \\\n",
       "0      ham  go until jurong point crazy available only in ...   \n",
       "1      ham                            ok lar joking wif u oni   \n",
       "2     spam  free entry in 2 a wkly comp to win fa cup fina...   \n",
       "3      ham        u dun say so early hor u c already then say   \n",
       "4      ham  nah i dont think he goes to usf he lives aroun...   \n",
       "...    ...                                                ...   \n",
       "5567  spam  this is the 2nd time we have tried 2 contact u...   \n",
       "5568   ham                will ü b going to esplanade fr home   \n",
       "5569   ham  pity  was in mood for that soany other suggest...   \n",
       "5570   ham  the guy did some bitching but i acted like id ...   \n",
       "5571   ham                          rofl its true to its name   \n",
       "\n",
       "                                            Word tokens  \\\n",
       "0     [go, until, jurong, point, crazy, available, o...   \n",
       "1                        [ok, lar, joking, wif, u, oni]   \n",
       "2     [free, entry, in, 2, a, wkly, comp, to, win, f...   \n",
       "3     [u, dun, say, so, early, hor, u, c, already, t...   \n",
       "4     [nah, i, dont, think, he, goes, to, usf, he, l...   \n",
       "...                                                 ...   \n",
       "5567  [this, is, the, 2nd, time, we, have, tried, 2,...   \n",
       "5568       [will, ü, b, going, to, esplanade, fr, home]   \n",
       "5569  [pity, , was, in, mood, for, that, soany, othe...   \n",
       "5570  [the, guy, did, some, bitching, but, i, acted,...   \n",
       "5571                   [rofl, its, true, to, its, name]   \n",
       "\n",
       "                                                 Lemmas  \\\n",
       "0     [go, until, jurong, point, crazy, available, o...   \n",
       "1                          [ok, lar, joke, wif, u, oni]   \n",
       "2     [free, entry, in, 2, a, wkly, comp, to, win, f...   \n",
       "3     [u, dun, say, so, early, hor, u, c, already, t...   \n",
       "4     [nah, i, dont, think, he, go, to, usf, he, liv...   \n",
       "...                                                 ...   \n",
       "5567  [this, be, the, 2nd, time, we, have, try, 2, c...   \n",
       "5568          [will, ü, b, go, to, esplanade, fr, home]   \n",
       "5569  [pity, , be, in, mood, for, that, soany, other...   \n",
       "5570  [the, guy, do, some, bitch, but, i, act, like,...   \n",
       "5571                   [rofl, its, true, to, its, name]   \n",
       "\n",
       "                                     Without stop words  \\\n",
       "0     [go, jurong, point, crazy, available, bugis, n...   \n",
       "1                             [ok, lar, joke, wif, oni]   \n",
       "2     [free, entry, 2, wkly, comp, win, fa, cup, fin...   \n",
       "3               [dun, say, early, hor, c, already, say]   \n",
       "4           [nah, think, go, usf, live, around, though]   \n",
       "...                                                 ...   \n",
       "5567  [2nd, time, try, 2, contact, win, £750, pound,...   \n",
       "5568                       [ü, go, esplanade, fr, home]   \n",
       "5569                   [pity, mood, soany, suggestions]   \n",
       "5570  [guy, bitch, act, like, id, interest, buy, som...   \n",
       "5571                                 [rofl, true, name]   \n",
       "\n",
       "                                   Transformed messages  \n",
       "0     go jurong point crazy available bugis n great ...  \n",
       "1                                   ok lar joke wif oni  \n",
       "2     free entry 2 wkly comp win fa cup final tkts 2...  \n",
       "3                       dun say early hor c already say  \n",
       "4                   nah think go usf live around though  \n",
       "...                                                 ...  \n",
       "5567  2nd time try 2 contact win £750 pound prize 2 ...  \n",
       "5568                             ü go esplanade fr home  \n",
       "5569                        pity mood soany suggestions  \n",
       "5570  guy bitch act like id interest buy something e...  \n",
       "5571                                     rofl true name  \n",
       "\n",
       "[5572 rows x 6 columns]"
      ]
     },
     "execution_count": 295,
     "metadata": {},
     "output_type": "execute_result"
    }
   ],
   "source": [
    "data"
   ]
  },
  {
   "cell_type": "code",
   "execution_count": 303,
   "metadata": {},
   "outputs": [],
   "source": [
    "# Wektoryzacja lemm na wektory cech\n",
    "Vectors = []\n",
    "for i in range(len(data['Transformed messages'])):\n",
    "    Vectors.append(data['Transformed messages'][i])\n",
    "\n",
    "bag = vectorizer.fit_transform(Vectors).toarray()"
   ]
  },
  {
   "cell_type": "markdown",
   "metadata": {},
   "source": [
    "### Naucz klasyfikator"
   ]
  },
  {
   "cell_type": "code",
   "execution_count": 310,
   "metadata": {},
   "outputs": [],
   "source": [
    "X = pd.DataFrame(bag)\n",
    "Y = data['Class'].replace(['ham', 'spam'], [0,1])"
   ]
  },
  {
   "cell_type": "code",
   "execution_count": 314,
   "metadata": {},
   "outputs": [],
   "source": [
    "# Podział na zbiór treningowy i testowy\n",
    "X_train, X_test, Y_train, Y_test = train_test_split(X, Y, test_size = 0.3, random_state = 0)"
   ]
  },
  {
   "cell_type": "code",
   "execution_count": 316,
   "metadata": {},
   "outputs": [
    {
     "data": {
      "text/plain": [
       "MultinomialNB(alpha=1.0, class_prior=None, fit_prior=True)"
      ]
     },
     "execution_count": 316,
     "metadata": {},
     "output_type": "execute_result"
    }
   ],
   "source": [
    "# Uczenie naiwnego klasyfikatora Bayesa\n",
    "bayes_classifier = MultinomialNB()\n",
    "bayes_classifier.fit(X_train, Y_train)"
   ]
  },
  {
   "cell_type": "code",
   "execution_count": 318,
   "metadata": {},
   "outputs": [
    {
     "data": {
      "image/png": "[encoded data removed]",
      "text/plain": [
       "<Figure size 432x288 with 1 Axes>"
      ]
     },
     "metadata": {
      "needs_background": "light"
     },
     "output_type": "display_data"
    }
   ],
   "source": [
    "# Wynik klasyfikacji zbioru testowego\n",
    "y_pred = bayes_classifier.predict(X_test)\n",
    "\n",
    "# Confusion matrix\n",
    "cm = confusion_matrix(Y_test, y_pred)\n",
    "plt.figure()\n",
    "plt.imshow(cm, interpolation='nearest', cmap=plt.cm.GnBu)\n",
    "plt.xlabel(\"Predicted\", fontsize=20)\n",
    "plt.ylabel(\"Actual\", fontsize=20)\n",
    "plt.title(\"Macierz pomyłek dla naiwnego klasyfikatora Bayesa \\nklasyfikującego wiadomości\", fontsize=20)\n",
    "s= [['TN','FP'], ['FN', 'TP']]\n",
    "for i in range(2):\n",
    "    for j in range(2):\n",
    "        plt.text(j,i, str(s[i][j])+\"\\n\"+str(cm[i][j]), fontsize=20, verticalalignment='center', horizontalalignment='center')"
   ]
  },
  {
   "cell_type": "markdown",
   "metadata": {},
   "source": [
    "<div align=\"justify\"><strong>Wniosek:</strong> Klasyfikator dość dobrze radzi sobie z klasyfikacją wiadomości na spam i ważne dla użutkownika wiadomości, jednak przy założeniu, że klasyfikator będzie automatycznie usuwał spam, należy zminimalizować błędy typu 1, czyli błąd odrzucenia wiadomości, nie będącej w rzeczywistości spamem (FP). Oznacza się go symbolem $\\alpha$ i nazywa poziomem istotności testu. Ograniczenie błędu tego typu pozwoli nam uniknąć sytuacji, w której automatyczny klasyfikator usunąłby trwale ważną dla nas wiadomość."
   ]
  },
  {
   "cell_type": "code",
   "execution_count": null,
   "metadata": {},
   "outputs": [],
   "source": [
    "# Minimalizacja błędu typu 1."
   ]
  },
  {
   "cell_type": "code",
   "execution_count": 341,
   "metadata": {},
   "outputs": [],
   "source": [
    "def type_1_error(alpha):\n",
    "    return confusion_matrix(Y_test, MultinomialNB(alpha).fit(X_train, Y_train).predict(X_test))[0,1]"
   ]
  },
  {
   "cell_type": "code",
   "execution_count": 364,
   "metadata": {},
   "outputs": [],
   "source": [
    "def minimize_alpha_error(alphas):\n",
    "    errors = []\n",
    "    for i in range(len(alphas)):\n",
    "        errors.append(type_1_error(alphas[i]))\n",
    "    return alphas[np.where(errors == min(errors))]"
   ]
  },
  {
   "cell_type": "code",
   "execution_count": 370,
   "metadata": {},
   "outputs": [
    {
     "name": "stderr",
     "output_type": "stream",
     "text": [
      "C:\\Users\\Ryzen\\anaconda3\\lib\\site-packages\\sklearn\\naive_bayes.py:507: UserWarning: alpha too small will result in numeric errors, setting alpha = 1.0e-10\n",
      "  'setting alpha = %.1e' % _ALPHA_MIN)\n"
     ]
    },
    {
     "data": {
      "text/plain": [
       "array([13., 14., 15., 16., 17., 18., 19., 20., 21., 22., 23., 24., 25.,\n",
       "       26., 27., 28., 29., 30., 31., 32., 33., 34., 35., 36., 37., 38.,\n",
       "       39., 40., 41., 42., 43., 44., 45., 46., 47., 48., 49., 50., 51.,\n",
       "       52., 53., 54., 55., 56., 57., 58., 59., 60., 61., 62., 63., 64.,\n",
       "       65., 66., 67., 68., 69., 70., 71., 72., 73., 74., 75., 76., 77.,\n",
       "       78., 79., 80., 81., 82., 83., 84., 85., 86., 87., 88., 89., 90.,\n",
       "       91., 92., 93., 94., 95., 96., 97., 98., 99.])"
      ]
     },
     "execution_count": 370,
     "metadata": {},
     "output_type": "execute_result"
    }
   ],
   "source": [
    "alpha1 = np.arange(0.,100,1)\n",
    "minimize_alpha_error(alpha1)"
   ]
  },
  {
   "cell_type": "code",
   "execution_count": 375,
   "metadata": {},
   "outputs": [
    {
     "data": {
      "text/plain": [
       "0"
      ]
     },
     "execution_count": 375,
     "metadata": {},
     "output_type": "execute_result"
    }
   ],
   "source": [
    "type_1_error(13)"
   ]
  },
  {
   "cell_type": "markdown",
   "metadata": {},
   "source": [
    "**Wniosek:** Błąd typu 1. równy 0 dla badanego zbioru można uzyskać przyjmując wartość $\\alpha$ = 13."
   ]
  },
  {
   "cell_type": "code",
   "execution_count": 376,
   "metadata": {},
   "outputs": [
    {
     "data": {
      "image/png": "[encoded data removed]",
      "text/plain": [
       "<Figure size 432x288 with 1 Axes>"
      ]
     },
     "metadata": {
      "needs_background": "light"
     },
     "output_type": "display_data"
    }
   ],
   "source": [
    "# Uczenie naiwnego klasyfikatora Bayesa z optymalnym alpha\n",
    "bayes_clf = MultinomialNB(alpha=13)\n",
    "bayes_clf.fit(X_train, Y_train)\n",
    "\n",
    "# Wynik klasyfikacji zbioru testowego\n",
    "y_pred2 = bayes_clf.predict(X_test)\n",
    "\n",
    "# Confusion matrix\n",
    "cm2 = confusion_matrix(Y_test, y_pred2)\n",
    "plt.figure()\n",
    "plt.imshow(cm2, interpolation='nearest', cmap=plt.cm.GnBu)\n",
    "plt.xlabel(\"Predicted\", fontsize=20)\n",
    "plt.ylabel(\"Actual\", fontsize=20)\n",
    "plt.title(\"Macierz pomyłek dla naiwnego klasyfikatora Bayesa \\nklasyfikującego wiadomości dla optymalnego alfa\", fontsize=20)\n",
    "s= [['TN','FP'], ['FN', 'TP']]\n",
    "for i in range(2):\n",
    "    for j in range(2):\n",
    "        plt.text(j,i, str(s[i][j])+\"\\n\"+str(cm2[i][j]), fontsize=20, verticalalignment='center', horizontalalignment='center')"
   ]
  },
  {
   "cell_type": "code",
   "execution_count": 381,
   "metadata": {},
   "outputs": [
    {
     "name": "stdout",
     "output_type": "stream",
     "text": [
      "Poprawność klasyfikacji przez naiwny klasyfikator Bayesa wyniosła:  98.4 %\n"
     ]
    }
   ],
   "source": [
    "accuracy = np.round(accuracy_score(Y_test, y_pred),4)*100\n",
    "print(\"Poprawność klasyfikacji przez naiwny klasyfikator Bayesa wyniosła: \", accuracy, \"%\")"
   ]
  },
  {
   "cell_type": "code",
   "execution_count": 387,
   "metadata": {},
   "outputs": [
    {
     "name": "stdout",
     "output_type": "stream",
     "text": [
      "Poprawność klasyfikacji przez DummyClassifier wyniosła:  86.8 %\n"
     ]
    },
    {
     "data": {
      "image/png": "[encoded data removed]",
      "text/plain": [
       "<Figure size 432x288 with 1 Axes>"
      ]
     },
     "metadata": {
      "needs_background": "light"
     },
     "output_type": "display_data"
    }
   ],
   "source": [
    "# Uczenie klasyfikatora DummyClassifier\n",
    "dummy_clf = DummyClassifier(strategy=\"most_frequent\")\n",
    "dummy_clf.fit(X_train, Y_train)\n",
    "y_dummy_predicted = dummy_clf.predict(X_test)\n",
    "\n",
    "# Confusion matrix dla DummyClassifier\n",
    "cm3 = confusion_matrix(Y_test, y_dummy_predicted)\n",
    "plt.figure()\n",
    "plt.imshow(cm3, interpolation='nearest', cmap=plt.cm.GnBu)\n",
    "plt.xlabel(\"Predicted\", fontsize=20)\n",
    "plt.ylabel(\"Actual\", fontsize=20)\n",
    "plt.title(\"Macierz pomyłek dla DummyClassifier \\nklasyfikującego wiadomości\", fontsize=20)\n",
    "s= [['TN','FP'], ['FN', 'TP']]\n",
    "for i in range(2):\n",
    "    for j in range(2):\n",
    "        plt.text(j,i, str(s[i][j])+\"\\n\"+str(cm3[i][j]), fontsize=20, verticalalignment='center', horizontalalignment='center')\n",
    "\n",
    "#Accuracy dla DummyClassifier\n",
    "accuracy2 = np.round(accuracy_score(Y_test, y_dummy_predicted),3)*100\n",
    "print(\"Poprawność klasyfikacji przez DummyClassifier wyniosła: \", accuracy2, \"%\")"
   ]
  },
  {
   "cell_type": "markdown",
   "metadata": {},
   "source": [
    "<p><div align=\"justify\"><strong>Wnioski: </strong>Zdecydowanie lepsze wyniki osiągnął naiwny klasyfikator Bayesa - poprawność klasyfikacji wyniosła 98,4%, ilość fałszywie pozytywnych wiadomości wyniosła 0, ponadto klasyfikator ten umiał rozróżnić wiadomości typu 'spam' i typu 'ham'. W 50 przypadkach popełnił błąd uznając spam za wiadomości typu 'ham'.</div></p> \n",
    "\n",
    "<p><div align = \"justify\">Klasyfikator DummyClassifier, który klasyfikował próbki na podstawie tego, których próbek jest więcej w zbiorze osiągnął jedynie 86,8% poprawności. Ilość fałszywie pozytywnych wiadomości wyniosła w jego przypadku również wyniosła 0, jednak klasyfikator ten nie oznaczył żadnej wiadomości jako spam, co jest równoznaczne z tym, że pomylił się w 221 przypadkach.</div></p>"
   ]
  },
  {
   "cell_type": "markdown",
   "metadata": {},
   "source": [
    "### Klasyfikacja maila"
   ]
  },
  {
   "cell_type": "code",
   "execution_count": 389,
   "metadata": {},
   "outputs": [],
   "source": [
    "mail = 'Dear Sir: I have been requested by the Nigerian National Petroleum Company to contact you for assistance in resolving a matter. The Nigerian National Petroleum Company has recently concluded a large number of contracts for oil exploration in the sub-Sahara region. The contracts have immediately produced moneys equaling US$40,000,000. The Nigerian National Petroleum Company is desirous of oil exploration in other parts of the world, however, because of certain regulations of the Nigerian Government, it is unable to move these funds to another region. You assistance is requested as a non-Nigerian citizen to assist the Nigerian National Petroleum Company, and also the Central Bank of Nigeria, in moving these funds out of Nigeria. If the funds can be transferred to your name, in your United States account, then you can forward the funds as directed by the Nigerian National Petroleum Company. In exchange for your accommodating services, the Nigerian National Petroleum Company would agree to allow you to retain 10%, or US$4 million of this amount. However, to be a legitimate transferee of these moneys according to Nigerian law, you must presently be a depositor of at least US$100,000 in a Nigerian bank which is regulated by the Central Bank of Nigeria. If it will be possible for you to assist us, we would be most grateful. We suggest that you meet with us in person in Lagos, and that during your visit I introduce you to the representatives of the Nigerian National Petroleum Company, as well as with certain officials of the Central Bank of Nigeria. Please call me at your earliest convenience at 18-467-4975. Time is of the essence in this matter; very quickly the Nigerian Government will realize that the Central Bank is maintaining this amount on deposit, and attempt to levy certain depository taxes on it. Yours truly, Prince Alyusi Islassis'"
   ]
  },
  {
   "cell_type": "code",
   "execution_count": 391,
   "metadata": {},
   "outputs": [],
   "source": [
    "# Usuwanie znaków interpunkcyjnych\n",
    "mail_without_punctuation = mail.translate(table)"
   ]
  },
  {
   "cell_type": "code",
   "execution_count": 394,
   "metadata": {},
   "outputs": [],
   "source": [
    "# Zamiana wszystkich liter na małe\n",
    "mail_lower_case = mail_without_punctuation.lower()"
   ]
  },
  {
   "cell_type": "code",
   "execution_count": 396,
   "metadata": {},
   "outputs": [],
   "source": [
    "# Podział wiadomości na tokeny\n",
    "mail_tokens = mail_lower_case.split(' ')"
   ]
  },
  {
   "cell_type": "code",
   "execution_count": 399,
   "metadata": {},
   "outputs": [],
   "source": [
    "# Konwersja tokenów na lemma\n",
    "mail_lemmas = [lemmatizer.lemmatize(word, pos=\"v\") for word in mail_tokens]"
   ]
  },
  {
   "cell_type": "code",
   "execution_count": 403,
   "metadata": {},
   "outputs": [],
   "source": [
    "# Usuwanie mało znaczących słów\n",
    "mail_without_stopwords = [word for word in mail_lemmas if word not in stopwords_expanded]"
   ]
  },
  {
   "cell_type": "code",
   "execution_count": 405,
   "metadata": {},
   "outputs": [],
   "source": [
    "# Utworzenie wiadomości z pozostałych lemm\n",
    "transformed_mail = ' '.join(mail_without_stopwords)"
   ]
  },
  {
   "cell_type": "code",
   "execution_count": 406,
   "metadata": {},
   "outputs": [
    {
     "data": {
      "text/plain": [
       "'dear sir request nigerian national petroleum company contact assistance resolve matter nigerian national petroleum company recently conclude large number contract oil exploration subsahara region contract immediately produce moneys equal us40000000 nigerian national petroleum company desirous oil exploration part world however certain regulations nigerian government unable move fund another region assistance request nonnigerian citizen assist nigerian national petroleum company also central bank nigeria move fund nigeria fund transfer name unite state account forward fund direct nigerian national petroleum company exchange accommodate service nigerian national petroleum company would agree allow retain 10 us4 million amount however legitimate transferee moneys accord nigerian law must presently depositor least us100000 nigerian bank regulate central bank nigeria possible assist us would grateful suggest meet us person lagos visit introduce representatives nigerian national petroleum company well certain officials central bank nigeria please call earliest convenience 184674975 time essence matter quickly nigerian government realize central bank maintain amount deposit attempt levy certain depository tax truly prince alyusi islassis'"
      ]
     },
     "execution_count": 406,
     "metadata": {},
     "output_type": "execute_result"
    }
   ],
   "source": [
    "transformed_mail"
   ]
  },
  {
   "cell_type": "code",
   "execution_count": 409,
   "metadata": {},
   "outputs": [],
   "source": [
    "# Wektoryzacja danych z uwzględnieniem waidomości e-mail\n",
    "Vectors.append(transformed_mail)\n",
    "bag2 = vectorizer.fit_transform(Vectors).toarray()"
   ]
  },
  {
   "cell_type": "code",
   "execution_count": 414,
   "metadata": {},
   "outputs": [],
   "source": [
    "# Wektor cech dla wiadomości mailowej\n",
    "X_mail = pd.DataFrame(bag2[bag2.shape[0]-1])"
   ]
  },
  {
   "cell_type": "code",
   "execution_count": 425,
   "metadata": {},
   "outputs": [],
   "source": [
    "# Nowy zbiór danych (zawiera dodatkowe kolumny)\n",
    "X2 = pd.DataFrame(bag2[:bag2.shape[0]-1,:])"
   ]
  },
  {
   "cell_type": "code",
   "execution_count": 427,
   "metadata": {},
   "outputs": [
    {
     "name": "stdout",
     "output_type": "stream",
     "text": [
      "Klasa wiadomości to:  [0]\n"
     ]
    }
   ],
   "source": [
    "# Uczenie naiwnego klasyfikatora Bayesa z optymalnym alpha - uczenie na podstawie całego zbioru\n",
    "bayes_clf_2 = MultinomialNB(alpha=13)\n",
    "bayes_clf_2.fit(X2, Y)\n",
    "\n",
    "# Wynik klasyfikacji maila\n",
    "y_pred_mail = bayes_clf_2.predict(X_mail.T)\n",
    "print(\"Klasa wiadomości to: \", y_pred_mail)"
   ]
  },
  {
   "cell_type": "markdown",
   "metadata": {},
   "source": [
    "<div align=\"justify\"><strong>Wnioski: </strong>0 oznacza wiadomość typu 'ham', co jest niezgodne z rzeczywistością, jednak mail ten doskonale \"udaje\" ważną wiadomość. Uważam, że mimo, że klasyfikator niepoprawnie sklasyfikował wiadomość, jest ona na tyle nietypowa, że jej ocena powinna należeć do użytkownika. Mail ma strukturę i zdania typowe dla oficjalnej korespondencji. Dopiero przeczytanie całości (wraz z podpisem) daje nam pewność, że jest to spam. Tego typu wiadomości tworzą ludzie, którzy znają mechanizm działania filtrów antyspamowych i sposoby ich oszukania. "
   ]
  },
  {
   "cell_type": "code",
   "execution_count": null,
   "metadata": {},
   "outputs": [],
   "source": []
  }
 ],
 "metadata": {
  "kernelspec": {
   "display_name": "Python 3",
   "language": "python",
   "name": "python3"
  },
  "language_info": {
   "codemirror_mode": {
    "name": "ipython",
    "version": 3
   },
   "file_extension": ".py",
   "mimetype": "text/x-python",
   "name": "python",
   "nbconvert_exporter": "python",
   "pygments_lexer": "ipython3",
   "version": "3.7.6"
  }
 },
 "nbformat": 4,
 "nbformat_minor": 4
}
